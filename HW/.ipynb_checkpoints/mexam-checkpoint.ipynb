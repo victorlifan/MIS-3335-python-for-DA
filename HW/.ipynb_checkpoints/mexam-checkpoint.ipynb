{
 "cells": [
  {
   "cell_type": "markdown",
   "metadata": {},
   "source": [
    "# Midterm Exam\n",
    "ANALYST: Fan Li\n",
    "\n",
    "DUE DATE: Oct 11, 2020"
   ]
  },
  {
   "cell_type": "code",
   "execution_count": 1,
   "metadata": {
    "scrolled": false
   },
   "outputs": [],
   "source": [
    "# import libraries\n",
    "import pandas as pd\n",
    "import seaborn as sns\n",
    "import matplotlib.pyplot as plt\n",
    "# read in data (path varys)\n",
    "df=pd.read_csv(\"../HW/hw2/15zpnyagi.csv\")"
   ]
  },
  {
   "cell_type": "code",
   "execution_count": 2,
   "metadata": {
    "scrolled": true
   },
   "outputs": [
    {
     "data": {
      "text/html": [
       "<div>\n",
       "<style scoped>\n",
       "    .dataframe tbody tr th:only-of-type {\n",
       "        vertical-align: middle;\n",
       "    }\n",
       "\n",
       "    .dataframe tbody tr th {\n",
       "        vertical-align: top;\n",
       "    }\n",
       "\n",
       "    .dataframe thead th {\n",
       "        text-align: right;\n",
       "    }\n",
       "</style>\n",
       "<table border=\"1\" class=\"dataframe\">\n",
       "  <thead>\n",
       "    <tr style=\"text-align: right;\">\n",
       "      <th></th>\n",
       "      <th>STATEFIPS</th>\n",
       "      <th>STATE</th>\n",
       "      <th>zipcode</th>\n",
       "      <th>agi_stub</th>\n",
       "      <th>N1</th>\n",
       "      <th>mars1</th>\n",
       "      <th>MARS2</th>\n",
       "      <th>MARS4</th>\n",
       "      <th>PREP</th>\n",
       "      <th>N2</th>\n",
       "      <th>...</th>\n",
       "      <th>N10300</th>\n",
       "      <th>A10300</th>\n",
       "      <th>N85530</th>\n",
       "      <th>A85530</th>\n",
       "      <th>N85300</th>\n",
       "      <th>A85300</th>\n",
       "      <th>N11901</th>\n",
       "      <th>A11901</th>\n",
       "      <th>N11902</th>\n",
       "      <th>A11902</th>\n",
       "    </tr>\n",
       "  </thead>\n",
       "  <tbody>\n",
       "    <tr>\n",
       "      <th>0</th>\n",
       "      <td>36</td>\n",
       "      <td>NY</td>\n",
       "      <td>10001</td>\n",
       "      <td>1</td>\n",
       "      <td>3760</td>\n",
       "      <td>2910</td>\n",
       "      <td>360</td>\n",
       "      <td>400</td>\n",
       "      <td>2250</td>\n",
       "      <td>4690</td>\n",
       "      <td>...</td>\n",
       "      <td>2040</td>\n",
       "      <td>2158</td>\n",
       "      <td>0</td>\n",
       "      <td>0</td>\n",
       "      <td>0</td>\n",
       "      <td>0</td>\n",
       "      <td>750</td>\n",
       "      <td>766</td>\n",
       "      <td>2510</td>\n",
       "      <td>4418</td>\n",
       "    </tr>\n",
       "    <tr>\n",
       "      <th>1</th>\n",
       "      <td>36</td>\n",
       "      <td>NY</td>\n",
       "      <td>10001</td>\n",
       "      <td>2</td>\n",
       "      <td>2430</td>\n",
       "      <td>1790</td>\n",
       "      <td>240</td>\n",
       "      <td>330</td>\n",
       "      <td>1370</td>\n",
       "      <td>3270</td>\n",
       "      <td>...</td>\n",
       "      <td>2240</td>\n",
       "      <td>7569</td>\n",
       "      <td>0</td>\n",
       "      <td>0</td>\n",
       "      <td>0</td>\n",
       "      <td>0</td>\n",
       "      <td>510</td>\n",
       "      <td>1187</td>\n",
       "      <td>1810</td>\n",
       "      <td>4285</td>\n",
       "    </tr>\n",
       "    <tr>\n",
       "      <th>2</th>\n",
       "      <td>36</td>\n",
       "      <td>NY</td>\n",
       "      <td>10001</td>\n",
       "      <td>3</td>\n",
       "      <td>1930</td>\n",
       "      <td>1520</td>\n",
       "      <td>200</td>\n",
       "      <td>150</td>\n",
       "      <td>1110</td>\n",
       "      <td>2450</td>\n",
       "      <td>...</td>\n",
       "      <td>1910</td>\n",
       "      <td>14770</td>\n",
       "      <td>0</td>\n",
       "      <td>0</td>\n",
       "      <td>0</td>\n",
       "      <td>0</td>\n",
       "      <td>450</td>\n",
       "      <td>1397</td>\n",
       "      <td>1420</td>\n",
       "      <td>3574</td>\n",
       "    </tr>\n",
       "    <tr>\n",
       "      <th>3</th>\n",
       "      <td>36</td>\n",
       "      <td>NY</td>\n",
       "      <td>10001</td>\n",
       "      <td>4</td>\n",
       "      <td>1340</td>\n",
       "      <td>1070</td>\n",
       "      <td>160</td>\n",
       "      <td>70</td>\n",
       "      <td>770</td>\n",
       "      <td>1690</td>\n",
       "      <td>...</td>\n",
       "      <td>1330</td>\n",
       "      <td>16902</td>\n",
       "      <td>0</td>\n",
       "      <td>0</td>\n",
       "      <td>0</td>\n",
       "      <td>0</td>\n",
       "      <td>310</td>\n",
       "      <td>1209</td>\n",
       "      <td>980</td>\n",
       "      <td>3268</td>\n",
       "    </tr>\n",
       "    <tr>\n",
       "      <th>4</th>\n",
       "      <td>36</td>\n",
       "      <td>NY</td>\n",
       "      <td>10001</td>\n",
       "      <td>5</td>\n",
       "      <td>2480</td>\n",
       "      <td>1790</td>\n",
       "      <td>540</td>\n",
       "      <td>70</td>\n",
       "      <td>1520</td>\n",
       "      <td>3390</td>\n",
       "      <td>...</td>\n",
       "      <td>2470</td>\n",
       "      <td>60809</td>\n",
       "      <td>110</td>\n",
       "      <td>28</td>\n",
       "      <td>40</td>\n",
       "      <td>42</td>\n",
       "      <td>560</td>\n",
       "      <td>3816</td>\n",
       "      <td>1770</td>\n",
       "      <td>7787</td>\n",
       "    </tr>\n",
       "  </tbody>\n",
       "</table>\n",
       "<p>5 rows × 131 columns</p>\n",
       "</div>"
      ],
      "text/plain": [
       "   STATEFIPS STATE  zipcode  agi_stub    N1  mars1  MARS2  MARS4  PREP    N2  \\\n",
       "0         36    NY    10001         1  3760   2910    360    400  2250  4690   \n",
       "1         36    NY    10001         2  2430   1790    240    330  1370  3270   \n",
       "2         36    NY    10001         3  1930   1520    200    150  1110  2450   \n",
       "3         36    NY    10001         4  1340   1070    160     70   770  1690   \n",
       "4         36    NY    10001         5  2480   1790    540     70  1520  3390   \n",
       "\n",
       "   ...  N10300  A10300  N85530  A85530  N85300  A85300  N11901  A11901  \\\n",
       "0  ...    2040    2158       0       0       0       0     750     766   \n",
       "1  ...    2240    7569       0       0       0       0     510    1187   \n",
       "2  ...    1910   14770       0       0       0       0     450    1397   \n",
       "3  ...    1330   16902       0       0       0       0     310    1209   \n",
       "4  ...    2470   60809     110      28      40      42     560    3816   \n",
       "\n",
       "   N11902  A11902  \n",
       "0    2510    4418  \n",
       "1    1810    4285  \n",
       "2    1420    3574  \n",
       "3     980    3268  \n",
       "4    1770    7787  \n",
       "\n",
       "[5 rows x 131 columns]"
      ]
     },
     "execution_count": 2,
     "metadata": {},
     "output_type": "execute_result"
    }
   ],
   "source": [
    "# check df\n",
    "df.head()"
   ]
  },
  {
   "cell_type": "code",
   "execution_count": 3,
   "metadata": {},
   "outputs": [
    {
     "name": "stdout",
     "output_type": "stream",
     "text": [
      "<class 'pandas.core.frame.DataFrame'>\n",
      "RangeIndex: 9234 entries, 0 to 9233\n",
      "Columns: 131 entries, STATEFIPS to A11902\n",
      "dtypes: int64(130), object(1)\n",
      "memory usage: 9.2+ MB\n"
     ]
    }
   ],
   "source": [
    "df.info()"
   ]
  },
  {
   "cell_type": "markdown",
   "metadata": {},
   "source": [
    "#### Section 1\n",
    "Q: Create df2 so it contains only zip code 10007."
   ]
  },
  {
   "cell_type": "code",
   "execution_count": 4,
   "metadata": {
    "scrolled": true
   },
   "outputs": [
    {
     "data": {
      "text/html": [
       "<div>\n",
       "<style scoped>\n",
       "    .dataframe tbody tr th:only-of-type {\n",
       "        vertical-align: middle;\n",
       "    }\n",
       "\n",
       "    .dataframe tbody tr th {\n",
       "        vertical-align: top;\n",
       "    }\n",
       "\n",
       "    .dataframe thead th {\n",
       "        text-align: right;\n",
       "    }\n",
       "</style>\n",
       "<table border=\"1\" class=\"dataframe\">\n",
       "  <thead>\n",
       "    <tr style=\"text-align: right;\">\n",
       "      <th></th>\n",
       "      <th>STATEFIPS</th>\n",
       "      <th>STATE</th>\n",
       "      <th>zipcode</th>\n",
       "      <th>agi_stub</th>\n",
       "      <th>N1</th>\n",
       "      <th>mars1</th>\n",
       "      <th>MARS2</th>\n",
       "      <th>MARS4</th>\n",
       "      <th>PREP</th>\n",
       "      <th>N2</th>\n",
       "      <th>...</th>\n",
       "      <th>N10300</th>\n",
       "      <th>A10300</th>\n",
       "      <th>N85530</th>\n",
       "      <th>A85530</th>\n",
       "      <th>N85300</th>\n",
       "      <th>A85300</th>\n",
       "      <th>N11901</th>\n",
       "      <th>A11901</th>\n",
       "      <th>N11902</th>\n",
       "      <th>A11902</th>\n",
       "    </tr>\n",
       "  </thead>\n",
       "  <tbody>\n",
       "    <tr>\n",
       "      <th>36</th>\n",
       "      <td>36</td>\n",
       "      <td>NY</td>\n",
       "      <td>10007</td>\n",
       "      <td>1</td>\n",
       "      <td>440</td>\n",
       "      <td>370</td>\n",
       "      <td>30</td>\n",
       "      <td>20</td>\n",
       "      <td>320</td>\n",
       "      <td>410</td>\n",
       "      <td>...</td>\n",
       "      <td>240</td>\n",
       "      <td>290</td>\n",
       "      <td>0</td>\n",
       "      <td>0</td>\n",
       "      <td>0</td>\n",
       "      <td>0</td>\n",
       "      <td>110</td>\n",
       "      <td>108</td>\n",
       "      <td>220</td>\n",
       "      <td>320</td>\n",
       "    </tr>\n",
       "    <tr>\n",
       "      <th>37</th>\n",
       "      <td>36</td>\n",
       "      <td>NY</td>\n",
       "      <td>10007</td>\n",
       "      <td>2</td>\n",
       "      <td>280</td>\n",
       "      <td>210</td>\n",
       "      <td>30</td>\n",
       "      <td>30</td>\n",
       "      <td>190</td>\n",
       "      <td>360</td>\n",
       "      <td>...</td>\n",
       "      <td>250</td>\n",
       "      <td>911</td>\n",
       "      <td>0</td>\n",
       "      <td>0</td>\n",
       "      <td>0</td>\n",
       "      <td>0</td>\n",
       "      <td>70</td>\n",
       "      <td>180</td>\n",
       "      <td>180</td>\n",
       "      <td>494</td>\n",
       "    </tr>\n",
       "    <tr>\n",
       "      <th>38</th>\n",
       "      <td>36</td>\n",
       "      <td>NY</td>\n",
       "      <td>10007</td>\n",
       "      <td>3</td>\n",
       "      <td>230</td>\n",
       "      <td>190</td>\n",
       "      <td>30</td>\n",
       "      <td>20</td>\n",
       "      <td>140</td>\n",
       "      <td>300</td>\n",
       "      <td>...</td>\n",
       "      <td>230</td>\n",
       "      <td>1829</td>\n",
       "      <td>0</td>\n",
       "      <td>0</td>\n",
       "      <td>0</td>\n",
       "      <td>0</td>\n",
       "      <td>60</td>\n",
       "      <td>262</td>\n",
       "      <td>160</td>\n",
       "      <td>450</td>\n",
       "    </tr>\n",
       "    <tr>\n",
       "      <th>39</th>\n",
       "      <td>36</td>\n",
       "      <td>NY</td>\n",
       "      <td>10007</td>\n",
       "      <td>4</td>\n",
       "      <td>220</td>\n",
       "      <td>170</td>\n",
       "      <td>30</td>\n",
       "      <td>0</td>\n",
       "      <td>150</td>\n",
       "      <td>310</td>\n",
       "      <td>...</td>\n",
       "      <td>220</td>\n",
       "      <td>2722</td>\n",
       "      <td>0</td>\n",
       "      <td>0</td>\n",
       "      <td>0</td>\n",
       "      <td>0</td>\n",
       "      <td>50</td>\n",
       "      <td>327</td>\n",
       "      <td>160</td>\n",
       "      <td>936</td>\n",
       "    </tr>\n",
       "    <tr>\n",
       "      <th>40</th>\n",
       "      <td>36</td>\n",
       "      <td>NY</td>\n",
       "      <td>10007</td>\n",
       "      <td>5</td>\n",
       "      <td>570</td>\n",
       "      <td>390</td>\n",
       "      <td>130</td>\n",
       "      <td>30</td>\n",
       "      <td>400</td>\n",
       "      <td>850</td>\n",
       "      <td>...</td>\n",
       "      <td>560</td>\n",
       "      <td>14308</td>\n",
       "      <td>40</td>\n",
       "      <td>14</td>\n",
       "      <td>0</td>\n",
       "      <td>0</td>\n",
       "      <td>130</td>\n",
       "      <td>1124</td>\n",
       "      <td>380</td>\n",
       "      <td>2065</td>\n",
       "    </tr>\n",
       "    <tr>\n",
       "      <th>41</th>\n",
       "      <td>36</td>\n",
       "      <td>NY</td>\n",
       "      <td>10007</td>\n",
       "      <td>6</td>\n",
       "      <td>1590</td>\n",
       "      <td>550</td>\n",
       "      <td>960</td>\n",
       "      <td>40</td>\n",
       "      <td>1300</td>\n",
       "      <td>3680</td>\n",
       "      <td>...</td>\n",
       "      <td>1590</td>\n",
       "      <td>527171</td>\n",
       "      <td>1370</td>\n",
       "      <td>7621</td>\n",
       "      <td>1270</td>\n",
       "      <td>11162</td>\n",
       "      <td>810</td>\n",
       "      <td>31869</td>\n",
       "      <td>490</td>\n",
       "      <td>24569</td>\n",
       "    </tr>\n",
       "  </tbody>\n",
       "</table>\n",
       "<p>6 rows × 131 columns</p>\n",
       "</div>"
      ],
      "text/plain": [
       "    STATEFIPS STATE  zipcode  agi_stub    N1  mars1  MARS2  MARS4  PREP    N2  \\\n",
       "36         36    NY    10007         1   440    370     30     20   320   410   \n",
       "37         36    NY    10007         2   280    210     30     30   190   360   \n",
       "38         36    NY    10007         3   230    190     30     20   140   300   \n",
       "39         36    NY    10007         4   220    170     30      0   150   310   \n",
       "40         36    NY    10007         5   570    390    130     30   400   850   \n",
       "41         36    NY    10007         6  1590    550    960     40  1300  3680   \n",
       "\n",
       "    ...  N10300  A10300  N85530  A85530  N85300  A85300  N11901  A11901  \\\n",
       "36  ...     240     290       0       0       0       0     110     108   \n",
       "37  ...     250     911       0       0       0       0      70     180   \n",
       "38  ...     230    1829       0       0       0       0      60     262   \n",
       "39  ...     220    2722       0       0       0       0      50     327   \n",
       "40  ...     560   14308      40      14       0       0     130    1124   \n",
       "41  ...    1590  527171    1370    7621    1270   11162     810   31869   \n",
       "\n",
       "    N11902  A11902  \n",
       "36     220     320  \n",
       "37     180     494  \n",
       "38     160     450  \n",
       "39     160     936  \n",
       "40     380    2065  \n",
       "41     490   24569  \n",
       "\n",
       "[6 rows x 131 columns]"
      ]
     },
     "execution_count": 4,
     "metadata": {},
     "output_type": "execute_result"
    }
   ],
   "source": [
    "df2=df[df['zipcode']==10007]\n",
    "df2"
   ]
  },
  {
   "cell_type": "markdown",
   "metadata": {},
   "source": [
    "Q: Create df3 so it contains only zip code 10451."
   ]
  },
  {
   "cell_type": "code",
   "execution_count": 5,
   "metadata": {},
   "outputs": [],
   "source": [
    "df3=df[df['zipcode']==10451]"
   ]
  },
  {
   "cell_type": "markdown",
   "metadata": {},
   "source": [
    "Q: Display the first five lines for each. Use print() if \n",
    "you want to do it in one cell."
   ]
  },
  {
   "cell_type": "code",
   "execution_count": 6,
   "metadata": {},
   "outputs": [
    {
     "name": "stdout",
     "output_type": "stream",
     "text": [
      "    STATEFIPS STATE  zipcode  agi_stub   N1  mars1  MARS2  MARS4  PREP   N2  \\\n",
      "36         36    NY    10007         1  440    370     30     20   320  410   \n",
      "37         36    NY    10007         2  280    210     30     30   190  360   \n",
      "38         36    NY    10007         3  230    190     30     20   140  300   \n",
      "39         36    NY    10007         4  220    170     30      0   150  310   \n",
      "40         36    NY    10007         5  570    390    130     30   400  850   \n",
      "\n",
      "    ...  N10300  A10300  N85530  A85530  N85300  A85300  N11901  A11901  \\\n",
      "36  ...     240     290       0       0       0       0     110     108   \n",
      "37  ...     250     911       0       0       0       0      70     180   \n",
      "38  ...     230    1829       0       0       0       0      60     262   \n",
      "39  ...     220    2722       0       0       0       0      50     327   \n",
      "40  ...     560   14308      40      14       0       0     130    1124   \n",
      "\n",
      "    N11902  A11902  \n",
      "36     220     320  \n",
      "37     180     494  \n",
      "38     160     450  \n",
      "39     160     936  \n",
      "40     380    2065  \n",
      "\n",
      "[5 rows x 131 columns] /n      STATEFIPS STATE  zipcode  agi_stub     N1  mars1  MARS2  MARS4  PREP  \\\n",
      "342         36    NY    10451         1  12670   7360    930   4280  8940   \n",
      "343         36    NY    10451         2   6360   2680    720   2850  4270   \n",
      "344         36    NY    10451         3   2560   1110    360   1060  1770   \n",
      "345         36    NY    10451         4   1000    410    210    350   730   \n",
      "346         36    NY    10451         5    700    270    250    180   510   \n",
      "\n",
      "        N2  ...  N10300  A10300  N85530  A85530  N85300  A85300  N11901  \\\n",
      "342  22470  ...    6380    6487       0       0       0       0    1260   \n",
      "343  12510  ...    5060   12024       0       0       0       0     540   \n",
      "344   4820  ...    2490   13592       0       0       0       0     380   \n",
      "345   1880  ...     990    9995       0       0       0       0     190   \n",
      "346   1430  ...     700   12471       0       0       0       0     160   \n",
      "\n",
      "     A11901  N11902  A11902  \n",
      "342     889   10890   32133  \n",
      "343     784    5810   18219  \n",
      "344     792    2180    7130  \n",
      "345     597     800    3230  \n",
      "346     788     530    2522  \n",
      "\n",
      "[5 rows x 131 columns]\n"
     ]
    }
   ],
   "source": [
    "print(df2.head(),'/n',\n",
    "     df3.head())"
   ]
  },
  {
   "cell_type": "markdown",
   "metadata": {},
   "source": [
    "Q: Generate a bar plot for each of these data frames (in \n",
    "separate cells) showing the AGI category (agi_stub) \n",
    "on the x-axis and the number of returns (N1) on the \n",
    "y-axis. Use the seaborn method catplot(). It works \n",
    "the same way the other seaborn plotting methods \n",
    "work; you just have to add the parameter \n",
    "kind=’bar’ to get the bar chart."
   ]
  },
  {
   "cell_type": "code",
   "execution_count": 7,
   "metadata": {},
   "outputs": [
    {
     "data": {
      "image/png": "[encoded data removed]",
      "text/plain": [
       "<Figure size 360x360 with 1 Axes>"
      ]
     },
     "metadata": {
      "needs_background": "light"
     },
     "output_type": "display_data"
    },
    {
     "data": {
      "image/png": "[encoded data removed]",
      "text/plain": [
       "<Figure size 360x360 with 1 Axes>"
      ]
     },
     "metadata": {
      "needs_background": "light"
     },
     "output_type": "display_data"
    }
   ],
   "source": [
    "# df2 plot\n",
    "sns.catplot(data=df2,x='agi_stub',y='N1',kind='bar')\n",
    "plt.title('df2(10007)');\n",
    "# df3 plot\n",
    "sns.catplot(data=df3,x='agi_stub',y='N1',kind='bar')\n",
    "plt.title('df3(10451)');"
   ]
  },
  {
   "cell_type": "markdown",
   "metadata": {},
   "source": [
    "Q: When you have finished both plots, insert a new markdown cell \n",
    "below the second plot and answer this question in a complete\n",
    "sentence:\n",
    ">These two zip codes represent one of the poorest and one of the richest \n",
    "areas in New York City. How can you tell from your bar plots which is \n",
    "the poorest and which is the richest?\n",
    "\n",
    "A: According to the documentation, `agi_stub` stands for *Size of adjusted gross income*, which is compartmentalized by income amount in ascending order through one to six. `N1` is *number of returns*. Plots aboves indicate area with zipcode 10007 has the most number of returns with respect of agi_stub-6(6 = 200,000 or more). In contrast, area with zipcode 10451 has the most number of returns with income below $25000. \n",
    "\n",
    "Thus, area with zipcode 10007 is the richest and one with zipcode 10451 is the poorest.\n",
    "\n",
    "#### Section 2\n",
    "Q: Create df4 so it contains only the second AGI category\n",
    "(agi_stub)."
   ]
  },
  {
   "cell_type": "code",
   "execution_count": 8,
   "metadata": {},
   "outputs": [],
   "source": [
    "df4=df[df['agi_stub']==2]"
   ]
  },
  {
   "cell_type": "markdown",
   "metadata": {},
   "source": [
    "Q:Print the info method results for df4 to the screen."
   ]
  },
  {
   "cell_type": "code",
   "execution_count": 9,
   "metadata": {
    "scrolled": false
   },
   "outputs": [
    {
     "name": "stdout",
     "output_type": "stream",
     "text": [
      "<class 'pandas.core.frame.DataFrame'>\n",
      "Int64Index: 1539 entries, 1 to 9229\n",
      "Columns: 131 entries, STATEFIPS to A11902\n",
      "dtypes: int64(130), object(1)\n",
      "memory usage: 1.5+ MB\n",
      "None\n"
     ]
    }
   ],
   "source": [
    "print(df4.info())"
   ]
  },
  {
   "cell_type": "markdown",
   "metadata": {},
   "source": [
    "Q:Generate a scatter plot using the seaborn \n",
    "scatterplot() method that displays the number of \n",
    "exemptions (N2) on the x-axis and the number of \n",
    "returns with paid preparer signatures (PREP) on \n",
    "the y-axis. That method is an axes-level plot, so \n",
    "you will need to use the figure and axes process \n",
    "we used in the second plotting notebook.\n",
    "\n",
    "Set the overall title to Paid Preparers by Exemptions for AGI Group 2\n",
    "\n",
    "Set the y-axis label to Returns with Paid Preparers\n",
    "\n",
    "Set the x-axis label to Number of Exemptions"
   ]
  },
  {
   "cell_type": "code",
   "execution_count": 10,
   "metadata": {
    "scrolled": false
   },
   "outputs": [
    {
     "data": {
      "image/png": "[encoded data removed]",
      "text/plain": [
       "<Figure size 432x288 with 1 Axes>"
      ]
     },
     "metadata": {
      "needs_background": "light"
     },
     "output_type": "display_data"
    }
   ],
   "source": [
    "# plotting\n",
    "ax=sns.scatterplot(data=df4,x='N2',y='PREP')\n",
    "# add attributes\n",
    "ax.set(title='Paid Preparers by Exemptions for AGI Group 2',\n",
    "       ylabel='Returns with Paid Preparers',\n",
    "       xlabel='Number of Exemptions');"
   ]
  },
  {
   "cell_type": "markdown",
   "metadata": {},
   "source": [
    "#### Section 3\n",
    "Q: Create df5 so it only contains the AGI category (agi_stub), number of joint returns \n",
    "(MARS2), and number of volunteer prepared returns with an Earned Income Credit \n",
    "(VITA_EIC) columns.\n",
    "\n",
    "Print the info method for df5 to the screen"
   ]
  },
  {
   "cell_type": "code",
   "execution_count": 11,
   "metadata": {
    "scrolled": true
   },
   "outputs": [
    {
     "name": "stdout",
     "output_type": "stream",
     "text": [
      "<class 'pandas.core.frame.DataFrame'>\n",
      "RangeIndex: 9234 entries, 0 to 9233\n",
      "Data columns (total 3 columns):\n",
      " #   Column    Non-Null Count  Dtype\n",
      "---  ------    --------------  -----\n",
      " 0   agi_stub  9234 non-null   int64\n",
      " 1   MARS2     9234 non-null   int64\n",
      " 2   VITA_EIC  9234 non-null   int64\n",
      "dtypes: int64(3)\n",
      "memory usage: 216.5 KB\n",
      "None\n"
     ]
    }
   ],
   "source": [
    "# create df5\n",
    "df5=df[['agi_stub','MARS2','VITA_EIC']]\n",
    "# df5 info\n",
    "print(df5.info())"
   ]
  },
  {
   "cell_type": "markdown",
   "metadata": {},
   "source": [
    "Q: Create df6 so it contains the rows from df5 that have AGI category values of three or less.\n",
    "\n",
    "a. Print the describe method for df6 to the screen."
   ]
  },
  {
   "cell_type": "code",
   "execution_count": 12,
   "metadata": {},
   "outputs": [
    {
     "data": {
      "text/html": [
       "<div>\n",
       "<style scoped>\n",
       "    .dataframe tbody tr th:only-of-type {\n",
       "        vertical-align: middle;\n",
       "    }\n",
       "\n",
       "    .dataframe tbody tr th {\n",
       "        vertical-align: top;\n",
       "    }\n",
       "\n",
       "    .dataframe thead th {\n",
       "        text-align: right;\n",
       "    }\n",
       "</style>\n",
       "<table border=\"1\" class=\"dataframe\">\n",
       "  <thead>\n",
       "    <tr style=\"text-align: right;\">\n",
       "      <th></th>\n",
       "      <th>agi_stub</th>\n",
       "      <th>MARS2</th>\n",
       "      <th>VITA_EIC</th>\n",
       "    </tr>\n",
       "  </thead>\n",
       "  <tbody>\n",
       "    <tr>\n",
       "      <th>count</th>\n",
       "      <td>4617.000000</td>\n",
       "      <td>4617.000000</td>\n",
       "      <td>4617.000000</td>\n",
       "    </tr>\n",
       "    <tr>\n",
       "      <th>mean</th>\n",
       "      <td>2.000000</td>\n",
       "      <td>282.514620</td>\n",
       "      <td>11.323370</td>\n",
       "    </tr>\n",
       "    <tr>\n",
       "      <th>std</th>\n",
       "      <td>0.816585</td>\n",
       "      <td>552.888998</td>\n",
       "      <td>50.729117</td>\n",
       "    </tr>\n",
       "    <tr>\n",
       "      <th>min</th>\n",
       "      <td>1.000000</td>\n",
       "      <td>0.000000</td>\n",
       "      <td>0.000000</td>\n",
       "    </tr>\n",
       "    <tr>\n",
       "      <th>25%</th>\n",
       "      <td>1.000000</td>\n",
       "      <td>50.000000</td>\n",
       "      <td>0.000000</td>\n",
       "    </tr>\n",
       "    <tr>\n",
       "      <th>50%</th>\n",
       "      <td>2.000000</td>\n",
       "      <td>110.000000</td>\n",
       "      <td>0.000000</td>\n",
       "    </tr>\n",
       "    <tr>\n",
       "      <th>75%</th>\n",
       "      <td>3.000000</td>\n",
       "      <td>300.000000</td>\n",
       "      <td>0.000000</td>\n",
       "    </tr>\n",
       "    <tr>\n",
       "      <th>max</th>\n",
       "      <td>3.000000</td>\n",
       "      <td>12530.000000</td>\n",
       "      <td>810.000000</td>\n",
       "    </tr>\n",
       "  </tbody>\n",
       "</table>\n",
       "</div>"
      ],
      "text/plain": [
       "          agi_stub         MARS2     VITA_EIC\n",
       "count  4617.000000   4617.000000  4617.000000\n",
       "mean      2.000000    282.514620    11.323370\n",
       "std       0.816585    552.888998    50.729117\n",
       "min       1.000000      0.000000     0.000000\n",
       "25%       1.000000     50.000000     0.000000\n",
       "50%       2.000000    110.000000     0.000000\n",
       "75%       3.000000    300.000000     0.000000\n",
       "max       3.000000  12530.000000   810.000000"
      ]
     },
     "execution_count": 12,
     "metadata": {},
     "output_type": "execute_result"
    }
   ],
   "source": [
    "# create df6\n",
    "df6=df5[df5['agi_stub']<=3]\n",
    "# describe df6\n",
    "df6.describe()"
   ]
  },
  {
   "cell_type": "markdown",
   "metadata": {},
   "source": [
    "Q: Generate three scatter plots using the seaborn lmplot() method and the df6 data so \n",
    "each agi_stub value has its own plot."
   ]
  },
  {
   "cell_type": "code",
   "execution_count": 13,
   "metadata": {},
   "outputs": [
    {
     "data": {
      "image/png": "[encoded data removed]",
      "text/plain": [
       "<Figure size 1080x360 with 3 Axes>"
      ]
     },
     "metadata": {
      "needs_background": "light"
     },
     "output_type": "display_data"
    }
   ],
   "source": [
    "sns.lmplot(data=df6,x='MARS2',y='VITA_EIC',col='agi_stub');"
   ]
  }
 ],
 "metadata": {
  "kernelspec": {
   "display_name": "Python 3",
   "language": "python",
   "name": "python3"
  },
  "language_info": {
   "codemirror_mode": {
    "name": "ipython",
    "version": 3
   },
   "file_extension": ".py",
   "mimetype": "text/x-python",
   "name": "python",
   "nbconvert_exporter": "python",
   "pygments_lexer": "ipython3",
   "version": "3.7.7"
  },
  "toc": {
   "base_numbering": 1,
   "nav_menu": {},
   "number_sections": true,
   "sideBar": true,
   "skip_h1_title": false,
   "title_cell": "Table of Contents",
   "title_sidebar": "Contents",
   "toc_cell": false,
   "toc_position": {},
   "toc_section_display": true,
   "toc_window_display": false
  },
  "varInspector": {
   "cols": {
    "lenName": 16,
    "lenType": 16,
    "lenVar": 40
   },
   "kernels_config": {
    "python": {
     "delete_cmd_postfix": "",
     "delete_cmd_prefix": "del ",
     "library": "var_list.py",
     "varRefreshCmd": "print(var_dic_list())"
    },
    "r": {
     "delete_cmd_postfix": ") ",
     "delete_cmd_prefix": "rm(",
     "library": "var_list.r",
     "varRefreshCmd": "cat(var_dic_list()) "
    }
   },
   "types_to_exclude": [
    "module",
    "function",
    "builtin_function_or_method",
    "instance",
    "_Feature"
   ],
   "window_display": false
  }
 },
 "nbformat": 4,
 "nbformat_minor": 2
}
