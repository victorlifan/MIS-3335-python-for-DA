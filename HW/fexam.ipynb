{
 "cells": [
  {
   "cell_type": "markdown",
   "metadata": {},
   "source": [
    "# Final Exam\n",
    "ANALYST: Fan Li\n",
    "\n",
    "DUE DATE: Dec 10, 2020"
   ]
  },
  {
   "cell_type": "code",
   "execution_count": 60,
   "metadata": {},
   "outputs": [],
   "source": [
    "# import libraries\n",
    "import pandas as pd\n",
    "import seaborn as sns\n",
    "import matplotlib.pyplot as plt\n",
    "import statsmodels.api as sm"
   ]
  },
  {
   "cell_type": "code",
   "execution_count": 18,
   "metadata": {
    "scrolled": false
   },
   "outputs": [],
   "source": [
    "# read in data (path varys)\n",
    "df=pd.read_csv(\"../data/IBM.csv\", index_col='Date',parse_dates=[0],na_values=['none'])"
   ]
  },
  {
   "cell_type": "code",
   "execution_count": 19,
   "metadata": {
    "scrolled": true
   },
   "outputs": [
    {
     "data": {
      "text/html": [
       "<div>\n",
       "<style scoped>\n",
       "    .dataframe tbody tr th:only-of-type {\n",
       "        vertical-align: middle;\n",
       "    }\n",
       "\n",
       "    .dataframe tbody tr th {\n",
       "        vertical-align: top;\n",
       "    }\n",
       "\n",
       "    .dataframe thead th {\n",
       "        text-align: right;\n",
       "    }\n",
       "</style>\n",
       "<table border=\"1\" class=\"dataframe\">\n",
       "  <thead>\n",
       "    <tr style=\"text-align: right;\">\n",
       "      <th></th>\n",
       "      <th>Open</th>\n",
       "      <th>High</th>\n",
       "      <th>Low</th>\n",
       "      <th>Close</th>\n",
       "      <th>Adj Close</th>\n",
       "      <th>Volume</th>\n",
       "    </tr>\n",
       "    <tr>\n",
       "      <th>Date</th>\n",
       "      <th></th>\n",
       "      <th></th>\n",
       "      <th></th>\n",
       "      <th></th>\n",
       "      <th></th>\n",
       "      <th></th>\n",
       "    </tr>\n",
       "  </thead>\n",
       "  <tbody>\n",
       "    <tr>\n",
       "      <th>1962-01-02</th>\n",
       "      <td>7.713333</td>\n",
       "      <td>7.713333</td>\n",
       "      <td>7.626667</td>\n",
       "      <td>7.626667</td>\n",
       "      <td>1.970992</td>\n",
       "      <td>387200</td>\n",
       "    </tr>\n",
       "    <tr>\n",
       "      <th>1962-01-03</th>\n",
       "      <td>7.626667</td>\n",
       "      <td>7.693333</td>\n",
       "      <td>7.626667</td>\n",
       "      <td>7.693333</td>\n",
       "      <td>1.988223</td>\n",
       "      <td>288000</td>\n",
       "    </tr>\n",
       "    <tr>\n",
       "      <th>1962-01-04</th>\n",
       "      <td>7.693333</td>\n",
       "      <td>7.693333</td>\n",
       "      <td>7.613333</td>\n",
       "      <td>7.616667</td>\n",
       "      <td>1.968407</td>\n",
       "      <td>256000</td>\n",
       "    </tr>\n",
       "    <tr>\n",
       "      <th>1962-01-05</th>\n",
       "      <td>7.606667</td>\n",
       "      <td>7.606667</td>\n",
       "      <td>7.453333</td>\n",
       "      <td>7.466667</td>\n",
       "      <td>1.929643</td>\n",
       "      <td>363200</td>\n",
       "    </tr>\n",
       "    <tr>\n",
       "      <th>1962-01-08</th>\n",
       "      <td>7.460000</td>\n",
       "      <td>7.460000</td>\n",
       "      <td>7.266667</td>\n",
       "      <td>7.326667</td>\n",
       "      <td>1.893463</td>\n",
       "      <td>544000</td>\n",
       "    </tr>\n",
       "  </tbody>\n",
       "</table>\n",
       "</div>"
      ],
      "text/plain": [
       "                Open      High       Low     Close  Adj Close  Volume\n",
       "Date                                                                 \n",
       "1962-01-02  7.713333  7.713333  7.626667  7.626667   1.970992  387200\n",
       "1962-01-03  7.626667  7.693333  7.626667  7.693333   1.988223  288000\n",
       "1962-01-04  7.693333  7.693333  7.613333  7.616667   1.968407  256000\n",
       "1962-01-05  7.606667  7.606667  7.453333  7.466667   1.929643  363200\n",
       "1962-01-08  7.460000  7.460000  7.266667  7.326667   1.893463  544000"
      ]
     },
     "execution_count": 19,
     "metadata": {},
     "output_type": "execute_result"
    }
   ],
   "source": [
    "# check df\n",
    "df.head()"
   ]
  },
  {
   "cell_type": "code",
   "execution_count": 12,
   "metadata": {},
   "outputs": [
    {
     "name": "stdout",
     "output_type": "stream",
     "text": [
      "<class 'pandas.core.frame.DataFrame'>\n",
      "DatetimeIndex: 14554 entries, 1962-01-02 to 2019-10-24\n",
      "Data columns (total 6 columns):\n",
      " #   Column     Non-Null Count  Dtype  \n",
      "---  ------     --------------  -----  \n",
      " 0   Open       14554 non-null  float64\n",
      " 1   High       14554 non-null  float64\n",
      " 2   Low        14554 non-null  float64\n",
      " 3   Close      14554 non-null  float64\n",
      " 4   Adj Close  14554 non-null  float64\n",
      " 5   Volume     14554 non-null  int64  \n",
      "dtypes: float64(5), int64(1)\n",
      "memory usage: 795.9 KB\n"
     ]
    }
   ],
   "source": [
    "df.info()"
   ]
  },
  {
   "cell_type": "markdown",
   "metadata": {},
   "source": [
    "#### Section 1\n",
    "Q: Replace any missing values with one of the \n",
    "following: column mean, column mode, or a \n",
    "specific value."
   ]
  },
  {
   "cell_type": "code",
   "execution_count": 27,
   "metadata": {
    "scrolled": true
   },
   "outputs": [
    {
     "data": {
      "text/html": [
       "<div>\n",
       "<style scoped>\n",
       "    .dataframe tbody tr th:only-of-type {\n",
       "        vertical-align: middle;\n",
       "    }\n",
       "\n",
       "    .dataframe tbody tr th {\n",
       "        vertical-align: top;\n",
       "    }\n",
       "\n",
       "    .dataframe thead th {\n",
       "        text-align: right;\n",
       "    }\n",
       "</style>\n",
       "<table border=\"1\" class=\"dataframe\">\n",
       "  <thead>\n",
       "    <tr style=\"text-align: right;\">\n",
       "      <th></th>\n",
       "      <th>Open</th>\n",
       "      <th>High</th>\n",
       "      <th>Low</th>\n",
       "      <th>Close</th>\n",
       "      <th>Adj Close</th>\n",
       "      <th>Volume</th>\n",
       "    </tr>\n",
       "    <tr>\n",
       "      <th>Date</th>\n",
       "      <th></th>\n",
       "      <th></th>\n",
       "      <th></th>\n",
       "      <th></th>\n",
       "      <th></th>\n",
       "      <th></th>\n",
       "    </tr>\n",
       "  </thead>\n",
       "  <tbody>\n",
       "    <tr>\n",
       "      <th>1962-01-02</th>\n",
       "      <td>7.713333</td>\n",
       "      <td>7.713333</td>\n",
       "      <td>7.626667</td>\n",
       "      <td>7.626667</td>\n",
       "      <td>1.970992</td>\n",
       "      <td>387200</td>\n",
       "    </tr>\n",
       "    <tr>\n",
       "      <th>1962-01-03</th>\n",
       "      <td>7.626667</td>\n",
       "      <td>7.693333</td>\n",
       "      <td>7.626667</td>\n",
       "      <td>7.693333</td>\n",
       "      <td>1.988223</td>\n",
       "      <td>288000</td>\n",
       "    </tr>\n",
       "    <tr>\n",
       "      <th>1962-01-04</th>\n",
       "      <td>7.693333</td>\n",
       "      <td>7.693333</td>\n",
       "      <td>7.613333</td>\n",
       "      <td>7.616667</td>\n",
       "      <td>1.968407</td>\n",
       "      <td>256000</td>\n",
       "    </tr>\n",
       "    <tr>\n",
       "      <th>1962-01-05</th>\n",
       "      <td>7.606667</td>\n",
       "      <td>7.606667</td>\n",
       "      <td>7.453333</td>\n",
       "      <td>7.466667</td>\n",
       "      <td>1.929643</td>\n",
       "      <td>363200</td>\n",
       "    </tr>\n",
       "    <tr>\n",
       "      <th>1962-01-08</th>\n",
       "      <td>7.460000</td>\n",
       "      <td>7.460000</td>\n",
       "      <td>7.266667</td>\n",
       "      <td>7.326667</td>\n",
       "      <td>1.893463</td>\n",
       "      <td>544000</td>\n",
       "    </tr>\n",
       "    <tr>\n",
       "      <th>...</th>\n",
       "      <td>...</td>\n",
       "      <td>...</td>\n",
       "      <td>...</td>\n",
       "      <td>...</td>\n",
       "      <td>...</td>\n",
       "      <td>...</td>\n",
       "    </tr>\n",
       "    <tr>\n",
       "      <th>2019-10-18</th>\n",
       "      <td>134.220001</td>\n",
       "      <td>134.490005</td>\n",
       "      <td>132.250000</td>\n",
       "      <td>134.089996</td>\n",
       "      <td>134.089996</td>\n",
       "      <td>7177500</td>\n",
       "    </tr>\n",
       "    <tr>\n",
       "      <th>2019-10-21</th>\n",
       "      <td>132.610001</td>\n",
       "      <td>133.100006</td>\n",
       "      <td>130.899994</td>\n",
       "      <td>132.580002</td>\n",
       "      <td>132.580002</td>\n",
       "      <td>6306100</td>\n",
       "    </tr>\n",
       "    <tr>\n",
       "      <th>2019-10-22</th>\n",
       "      <td>132.550003</td>\n",
       "      <td>134.050003</td>\n",
       "      <td>131.610001</td>\n",
       "      <td>133.960007</td>\n",
       "      <td>133.960007</td>\n",
       "      <td>4161600</td>\n",
       "    </tr>\n",
       "    <tr>\n",
       "      <th>2019-10-23</th>\n",
       "      <td>133.520004</td>\n",
       "      <td>134.570007</td>\n",
       "      <td>132.699997</td>\n",
       "      <td>134.380005</td>\n",
       "      <td>134.380005</td>\n",
       "      <td>3610900</td>\n",
       "    </tr>\n",
       "    <tr>\n",
       "      <th>2019-10-24</th>\n",
       "      <td>134.830002</td>\n",
       "      <td>135.070007</td>\n",
       "      <td>133.300003</td>\n",
       "      <td>134.070007</td>\n",
       "      <td>134.070007</td>\n",
       "      <td>2598500</td>\n",
       "    </tr>\n",
       "  </tbody>\n",
       "</table>\n",
       "<p>14554 rows × 6 columns</p>\n",
       "</div>"
      ],
      "text/plain": [
       "                  Open        High         Low       Close   Adj Close  \\\n",
       "Date                                                                     \n",
       "1962-01-02    7.713333    7.713333    7.626667    7.626667    1.970992   \n",
       "1962-01-03    7.626667    7.693333    7.626667    7.693333    1.988223   \n",
       "1962-01-04    7.693333    7.693333    7.613333    7.616667    1.968407   \n",
       "1962-01-05    7.606667    7.606667    7.453333    7.466667    1.929643   \n",
       "1962-01-08    7.460000    7.460000    7.266667    7.326667    1.893463   \n",
       "...                ...         ...         ...         ...         ...   \n",
       "2019-10-18  134.220001  134.490005  132.250000  134.089996  134.089996   \n",
       "2019-10-21  132.610001  133.100006  130.899994  132.580002  132.580002   \n",
       "2019-10-22  132.550003  134.050003  131.610001  133.960007  133.960007   \n",
       "2019-10-23  133.520004  134.570007  132.699997  134.380005  134.380005   \n",
       "2019-10-24  134.830002  135.070007  133.300003  134.070007  134.070007   \n",
       "\n",
       "             Volume  \n",
       "Date                 \n",
       "1962-01-02   387200  \n",
       "1962-01-03   288000  \n",
       "1962-01-04   256000  \n",
       "1962-01-05   363200  \n",
       "1962-01-08   544000  \n",
       "...             ...  \n",
       "2019-10-18  7177500  \n",
       "2019-10-21  6306100  \n",
       "2019-10-22  4161600  \n",
       "2019-10-23  3610900  \n",
       "2019-10-24  2598500  \n",
       "\n",
       "[14554 rows x 6 columns]"
      ]
     },
     "execution_count": 27,
     "metadata": {},
     "output_type": "execute_result"
    }
   ],
   "source": [
    "fill_value={'Open':df['Open'].mean()}\n",
    "df.fillna(fill_value,inplace=True)\n",
    "df"
   ]
  },
  {
   "cell_type": "markdown",
   "metadata": {},
   "source": [
    "Q: Change data frame column data types"
   ]
  },
  {
   "cell_type": "code",
   "execution_count": 32,
   "metadata": {
    "scrolled": true
   },
   "outputs": [
    {
     "data": {
      "text/plain": [
       "Open         float64\n",
       "High         float64\n",
       "Low          float64\n",
       "Close        float64\n",
       "Adj Close    float64\n",
       "Volume       float64\n",
       "dtype: object"
      ]
     },
     "execution_count": 32,
     "metadata": {},
     "output_type": "execute_result"
    }
   ],
   "source": [
    "df['Volume']=df['Volume'].astype(float)\n",
    "df.dtypes"
   ]
  },
  {
   "cell_type": "markdown",
   "metadata": {},
   "source": [
    "Q: Use seaborn to create a scatterplot with regression \n",
    "line that includes a plot title, x-axis label, and y\u0002axis label like the example at the right."
   ]
  },
  {
   "cell_type": "code",
   "execution_count": 48,
   "metadata": {
    "scrolled": true
   },
   "outputs": [
    {
     "data": {
      "image/png": "[encoded data removed]",
      "text/plain": [
       "<Figure size 432x288 with 1 Axes>"
      ]
     },
     "metadata": {
      "needs_background": "light"
     },
     "output_type": "display_data"
    }
   ],
   "source": [
    "sns.regplot(data=df,x='High',y='Volume',scatter_kws={'alpha':.2})\n",
    "plt.title('title')\n",
    "plt.xlabel('x')\n",
    "plt.ylabel('y');"
   ]
  },
  {
   "cell_type": "markdown",
   "metadata": {},
   "source": [
    "Q: Boolean subsetting: use a conditional statement on \n",
    "a column to select specific rows of the data and \n",
    "save them in a new data frame. Example: get the \n",
    "rows from the “tips” data where group size is 3 or \n",
    "more."
   ]
  },
  {
   "cell_type": "code",
   "execution_count": 57,
   "metadata": {
    "scrolled": true
   },
   "outputs": [
    {
     "data": {
      "text/html": [
       "<div>\n",
       "<style scoped>\n",
       "    .dataframe tbody tr th:only-of-type {\n",
       "        vertical-align: middle;\n",
       "    }\n",
       "\n",
       "    .dataframe tbody tr th {\n",
       "        vertical-align: top;\n",
       "    }\n",
       "\n",
       "    .dataframe thead th {\n",
       "        text-align: right;\n",
       "    }\n",
       "</style>\n",
       "<table border=\"1\" class=\"dataframe\">\n",
       "  <thead>\n",
       "    <tr style=\"text-align: right;\">\n",
       "      <th></th>\n",
       "      <th>Open</th>\n",
       "      <th>High</th>\n",
       "      <th>Low</th>\n",
       "      <th>Close</th>\n",
       "      <th>Adj Close</th>\n",
       "      <th>Volume</th>\n",
       "    </tr>\n",
       "    <tr>\n",
       "      <th>Date</th>\n",
       "      <th></th>\n",
       "      <th></th>\n",
       "      <th></th>\n",
       "      <th></th>\n",
       "      <th></th>\n",
       "      <th></th>\n",
       "    </tr>\n",
       "  </thead>\n",
       "  <tbody>\n",
       "    <tr>\n",
       "      <th>2012-03-05</th>\n",
       "      <td>198.360001</td>\n",
       "      <td>201.190002</td>\n",
       "      <td>198.300003</td>\n",
       "      <td>200.660004</td>\n",
       "      <td>154.692764</td>\n",
       "      <td>6938000.0</td>\n",
       "    </tr>\n",
       "    <tr>\n",
       "      <th>2012-03-09</th>\n",
       "      <td>199.979996</td>\n",
       "      <td>201.100006</td>\n",
       "      <td>199.720001</td>\n",
       "      <td>200.619995</td>\n",
       "      <td>154.661926</td>\n",
       "      <td>3178200.0</td>\n",
       "    </tr>\n",
       "    <tr>\n",
       "      <th>2012-03-12</th>\n",
       "      <td>200.929993</td>\n",
       "      <td>201.570007</td>\n",
       "      <td>200.229996</td>\n",
       "      <td>201.000000</td>\n",
       "      <td>154.954849</td>\n",
       "      <td>3119700.0</td>\n",
       "    </tr>\n",
       "    <tr>\n",
       "      <th>2012-03-13</th>\n",
       "      <td>201.720001</td>\n",
       "      <td>203.899994</td>\n",
       "      <td>201.610001</td>\n",
       "      <td>203.779999</td>\n",
       "      <td>157.098022</td>\n",
       "      <td>4866000.0</td>\n",
       "    </tr>\n",
       "    <tr>\n",
       "      <th>2012-03-14</th>\n",
       "      <td>203.779999</td>\n",
       "      <td>205.149994</td>\n",
       "      <td>203.639999</td>\n",
       "      <td>204.720001</td>\n",
       "      <td>157.822678</td>\n",
       "      <td>4602300.0</td>\n",
       "    </tr>\n",
       "    <tr>\n",
       "      <th>...</th>\n",
       "      <td>...</td>\n",
       "      <td>...</td>\n",
       "      <td>...</td>\n",
       "      <td>...</td>\n",
       "      <td>...</td>\n",
       "      <td>...</td>\n",
       "    </tr>\n",
       "    <tr>\n",
       "      <th>2013-06-17</th>\n",
       "      <td>203.440002</td>\n",
       "      <td>205.169998</td>\n",
       "      <td>202.550003</td>\n",
       "      <td>203.039993</td>\n",
       "      <td>159.958832</td>\n",
       "      <td>3219900.0</td>\n",
       "    </tr>\n",
       "    <tr>\n",
       "      <th>2013-06-18</th>\n",
       "      <td>203.020004</td>\n",
       "      <td>206.089996</td>\n",
       "      <td>202.869995</td>\n",
       "      <td>204.869995</td>\n",
       "      <td>161.400558</td>\n",
       "      <td>3277800.0</td>\n",
       "    </tr>\n",
       "    <tr>\n",
       "      <th>2013-06-19</th>\n",
       "      <td>204.440002</td>\n",
       "      <td>205.029999</td>\n",
       "      <td>201.929993</td>\n",
       "      <td>201.940002</td>\n",
       "      <td>159.092300</td>\n",
       "      <td>2846100.0</td>\n",
       "    </tr>\n",
       "    <tr>\n",
       "      <th>2013-06-20</th>\n",
       "      <td>200.669998</td>\n",
       "      <td>201.699997</td>\n",
       "      <td>197.279999</td>\n",
       "      <td>197.350006</td>\n",
       "      <td>155.476181</td>\n",
       "      <td>4514800.0</td>\n",
       "    </tr>\n",
       "    <tr>\n",
       "      <th>2013-07-18</th>\n",
       "      <td>198.270004</td>\n",
       "      <td>200.940002</td>\n",
       "      <td>195.990005</td>\n",
       "      <td>197.990005</td>\n",
       "      <td>155.980377</td>\n",
       "      <td>8393400.0</td>\n",
       "    </tr>\n",
       "  </tbody>\n",
       "</table>\n",
       "<p>179 rows × 6 columns</p>\n",
       "</div>"
      ],
      "text/plain": [
       "                  Open        High         Low       Close   Adj Close  \\\n",
       "Date                                                                     \n",
       "2012-03-05  198.360001  201.190002  198.300003  200.660004  154.692764   \n",
       "2012-03-09  199.979996  201.100006  199.720001  200.619995  154.661926   \n",
       "2012-03-12  200.929993  201.570007  200.229996  201.000000  154.954849   \n",
       "2012-03-13  201.720001  203.899994  201.610001  203.779999  157.098022   \n",
       "2012-03-14  203.779999  205.149994  203.639999  204.720001  157.822678   \n",
       "...                ...         ...         ...         ...         ...   \n",
       "2013-06-17  203.440002  205.169998  202.550003  203.039993  159.958832   \n",
       "2013-06-18  203.020004  206.089996  202.869995  204.869995  161.400558   \n",
       "2013-06-19  204.440002  205.029999  201.929993  201.940002  159.092300   \n",
       "2013-06-20  200.669998  201.699997  197.279999  197.350006  155.476181   \n",
       "2013-07-18  198.270004  200.940002  195.990005  197.990005  155.980377   \n",
       "\n",
       "               Volume  \n",
       "Date                   \n",
       "2012-03-05  6938000.0  \n",
       "2012-03-09  3178200.0  \n",
       "2012-03-12  3119700.0  \n",
       "2012-03-13  4866000.0  \n",
       "2012-03-14  4602300.0  \n",
       "...               ...  \n",
       "2013-06-17  3219900.0  \n",
       "2013-06-18  3277800.0  \n",
       "2013-06-19  2846100.0  \n",
       "2013-06-20  4514800.0  \n",
       "2013-07-18  8393400.0  \n",
       "\n",
       "[179 rows x 6 columns]"
      ]
     },
     "execution_count": 57,
     "metadata": {},
     "output_type": "execute_result"
    }
   ],
   "source": [
    "df2=df[df['High']>=200]\n",
    "df2"
   ]
  },
  {
   "cell_type": "markdown",
   "metadata": {},
   "source": [
    "Q: Use GroupBy to create a simple aggregation of a column using count, sum, or mean.\n",
    "Example: find the average total bill for each day."
   ]
  },
  {
   "cell_type": "code",
   "execution_count": 59,
   "metadata": {
    "scrolled": true
   },
   "outputs": [
    {
     "data": {
      "text/plain": [
       "Date\n",
       "2012-03-05    198.360001\n",
       "2012-03-09    199.979996\n",
       "2012-03-12    200.929993\n",
       "2012-03-13    201.720001\n",
       "2012-03-14    203.779999\n",
       "                 ...    \n",
       "2013-06-17    203.440002\n",
       "2013-06-18    203.020004\n",
       "2013-06-19    204.440002\n",
       "2013-06-20    200.669998\n",
       "2013-07-18    198.270004\n",
       "Name: Open, Length: 179, dtype: float64"
      ]
     },
     "execution_count": 59,
     "metadata": {},
     "output_type": "execute_result"
    }
   ],
   "source": [
    "df2.groupby('Date')['Open'].sum()"
   ]
  },
  {
   "cell_type": "markdown",
   "metadata": {},
   "source": [
    "Q: Run a basic multiple regression using statsmodels. Understand if the model needs to be \n",
    "adjusted and run again."
   ]
  },
  {
   "cell_type": "code",
   "execution_count": 63,
   "metadata": {
    "scrolled": false
   },
   "outputs": [
    {
     "data": {
      "text/html": [
       "<table class=\"simpletable\">\n",
       "<caption>OLS Regression Results</caption>\n",
       "<tr>\n",
       "  <th>Dep. Variable:</th>          <td>Close</td>      <th>  R-squared (uncentered):</th>      <td>   1.000</td> \n",
       "</tr>\n",
       "<tr>\n",
       "  <th>Model:</th>                   <td>OLS</td>       <th>  Adj. R-squared (uncentered):</th> <td>   1.000</td> \n",
       "</tr>\n",
       "<tr>\n",
       "  <th>Method:</th>             <td>Least Squares</td>  <th>  F-statistic:       </th>          <td>1.660e+06</td>\n",
       "</tr>\n",
       "<tr>\n",
       "  <th>Date:</th>             <td>Mon, 07 Dec 2020</td> <th>  Prob (F-statistic):</th>           <td>  0.00</td>  \n",
       "</tr>\n",
       "<tr>\n",
       "  <th>Time:</th>                 <td>15:17:18</td>     <th>  Log-Likelihood:    </th>          <td> -326.60</td> \n",
       "</tr>\n",
       "<tr>\n",
       "  <th>No. Observations:</th>      <td>   179</td>      <th>  AIC:               </th>          <td>   657.2</td> \n",
       "</tr>\n",
       "<tr>\n",
       "  <th>Df Residuals:</th>          <td>   177</td>      <th>  BIC:               </th>          <td>   663.6</td> \n",
       "</tr>\n",
       "<tr>\n",
       "  <th>Df Model:</th>              <td>     2</td>      <th>                     </th>              <td> </td>    \n",
       "</tr>\n",
       "<tr>\n",
       "  <th>Covariance Type:</th>      <td>nonrobust</td>    <th>                     </th>              <td> </td>    \n",
       "</tr>\n",
       "</table>\n",
       "<table class=\"simpletable\">\n",
       "<tr>\n",
       "     <td></td>       <th>coef</th>     <th>std err</th>      <th>t</th>      <th>P>|t|</th>  <th>[0.025</th>    <th>0.975]</th>  \n",
       "</tr>\n",
       "<tr>\n",
       "  <th>Open</th>   <td>    1.0022</td> <td>    0.001</td> <td>  732.066</td> <td> 0.000</td> <td>    0.999</td> <td>    1.005</td>\n",
       "</tr>\n",
       "<tr>\n",
       "  <th>Volume</th> <td>-7.574e-08</td> <td> 6.55e-08</td> <td>   -1.156</td> <td> 0.249</td> <td>-2.05e-07</td> <td> 5.35e-08</td>\n",
       "</tr>\n",
       "</table>\n",
       "<table class=\"simpletable\">\n",
       "<tr>\n",
       "  <th>Omnibus:</th>       <td> 1.670</td> <th>  Durbin-Watson:     </th> <td>   2.327</td>\n",
       "</tr>\n",
       "<tr>\n",
       "  <th>Prob(Omnibus):</th> <td> 0.434</td> <th>  Jarque-Bera (JB):  </th> <td>   1.278</td>\n",
       "</tr>\n",
       "<tr>\n",
       "  <th>Skew:</th>          <td>-0.167</td> <th>  Prob(JB):          </th> <td>   0.528</td>\n",
       "</tr>\n",
       "<tr>\n",
       "  <th>Kurtosis:</th>      <td> 3.244</td> <th>  Cond. No.          </th> <td>5.21e+04</td>\n",
       "</tr>\n",
       "</table><br/><br/>Notes:<br/>[1] R² is computed without centering (uncentered) since the model does not contain a constant.<br/>[2] Standard Errors assume that the covariance matrix of the errors is correctly specified.<br/>[3] The condition number is large, 5.21e+04. This might indicate that there are<br/>strong multicollinearity or other numerical problems."
      ],
      "text/plain": [
       "<class 'statsmodels.iolib.summary.Summary'>\n",
       "\"\"\"\n",
       "                                 OLS Regression Results                                \n",
       "=======================================================================================\n",
       "Dep. Variable:                  Close   R-squared (uncentered):                   1.000\n",
       "Model:                            OLS   Adj. R-squared (uncentered):              1.000\n",
       "Method:                 Least Squares   F-statistic:                          1.660e+06\n",
       "Date:                Mon, 07 Dec 2020   Prob (F-statistic):                        0.00\n",
       "Time:                        15:17:18   Log-Likelihood:                         -326.60\n",
       "No. Observations:                 179   AIC:                                      657.2\n",
       "Df Residuals:                     177   BIC:                                      663.6\n",
       "Df Model:                           2                                                  \n",
       "Covariance Type:            nonrobust                                                  \n",
       "==============================================================================\n",
       "                 coef    std err          t      P>|t|      [0.025      0.975]\n",
       "------------------------------------------------------------------------------\n",
       "Open           1.0022      0.001    732.066      0.000       0.999       1.005\n",
       "Volume     -7.574e-08   6.55e-08     -1.156      0.249   -2.05e-07    5.35e-08\n",
       "==============================================================================\n",
       "Omnibus:                        1.670   Durbin-Watson:                   2.327\n",
       "Prob(Omnibus):                  0.434   Jarque-Bera (JB):                1.278\n",
       "Skew:                          -0.167   Prob(JB):                        0.528\n",
       "Kurtosis:                       3.244   Cond. No.                     5.21e+04\n",
       "==============================================================================\n",
       "\n",
       "Notes:\n",
       "[1] R² is computed without centering (uncentered) since the model does not contain a constant.\n",
       "[2] Standard Errors assume that the covariance matrix of the errors is correctly specified.\n",
       "[3] The condition number is large, 5.21e+04. This might indicate that there are\n",
       "strong multicollinearity or other numerical problems.\n",
       "\"\"\""
      ]
     },
     "execution_count": 63,
     "metadata": {},
     "output_type": "execute_result"
    }
   ],
   "source": [
    "model=sm.OLS(df2['Close'],df2[['Open','Volume']])\n",
    "result=model.fit()\n",
    "result.summary()"
   ]
  },
  {
   "cell_type": "markdown",
   "metadata": {},
   "source": [
    "P-value of Volume is 0.249, which is greater than 0.05 and indicates Volume is not a statistically significant variable. Therefor it should be omit."
   ]
  },
  {
   "cell_type": "code",
   "execution_count": 4,
   "metadata": {
    "scrolled": true
   },
   "outputs": [
    {
     "data": {
      "text/html": [
       "<div>\n",
       "<style scoped>\n",
       "    .dataframe tbody tr th:only-of-type {\n",
       "        vertical-align: middle;\n",
       "    }\n",
       "\n",
       "    .dataframe tbody tr th {\n",
       "        vertical-align: top;\n",
       "    }\n",
       "\n",
       "    .dataframe thead th {\n",
       "        text-align: right;\n",
       "    }\n",
       "</style>\n",
       "<table border=\"1\" class=\"dataframe\">\n",
       "  <thead>\n",
       "    <tr style=\"text-align: right;\">\n",
       "      <th></th>\n",
       "      <th>STATEFIPS</th>\n",
       "      <th>STATE</th>\n",
       "      <th>zipcode</th>\n",
       "      <th>agi_stub</th>\n",
       "      <th>N1</th>\n",
       "      <th>mars1</th>\n",
       "      <th>MARS2</th>\n",
       "      <th>MARS4</th>\n",
       "      <th>PREP</th>\n",
       "      <th>N2</th>\n",
       "      <th>...</th>\n",
       "      <th>N10300</th>\n",
       "      <th>A10300</th>\n",
       "      <th>N85530</th>\n",
       "      <th>A85530</th>\n",
       "      <th>N85300</th>\n",
       "      <th>A85300</th>\n",
       "      <th>N11901</th>\n",
       "      <th>A11901</th>\n",
       "      <th>N11902</th>\n",
       "      <th>A11902</th>\n",
       "    </tr>\n",
       "  </thead>\n",
       "  <tbody>\n",
       "    <tr>\n",
       "      <th>36</th>\n",
       "      <td>36</td>\n",
       "      <td>NY</td>\n",
       "      <td>10007</td>\n",
       "      <td>1</td>\n",
       "      <td>440</td>\n",
       "      <td>370</td>\n",
       "      <td>30</td>\n",
       "      <td>20</td>\n",
       "      <td>320</td>\n",
       "      <td>410</td>\n",
       "      <td>...</td>\n",
       "      <td>240</td>\n",
       "      <td>290</td>\n",
       "      <td>0</td>\n",
       "      <td>0</td>\n",
       "      <td>0</td>\n",
       "      <td>0</td>\n",
       "      <td>110</td>\n",
       "      <td>108</td>\n",
       "      <td>220</td>\n",
       "      <td>320</td>\n",
       "    </tr>\n",
       "    <tr>\n",
       "      <th>37</th>\n",
       "      <td>36</td>\n",
       "      <td>NY</td>\n",
       "      <td>10007</td>\n",
       "      <td>2</td>\n",
       "      <td>280</td>\n",
       "      <td>210</td>\n",
       "      <td>30</td>\n",
       "      <td>30</td>\n",
       "      <td>190</td>\n",
       "      <td>360</td>\n",
       "      <td>...</td>\n",
       "      <td>250</td>\n",
       "      <td>911</td>\n",
       "      <td>0</td>\n",
       "      <td>0</td>\n",
       "      <td>0</td>\n",
       "      <td>0</td>\n",
       "      <td>70</td>\n",
       "      <td>180</td>\n",
       "      <td>180</td>\n",
       "      <td>494</td>\n",
       "    </tr>\n",
       "    <tr>\n",
       "      <th>38</th>\n",
       "      <td>36</td>\n",
       "      <td>NY</td>\n",
       "      <td>10007</td>\n",
       "      <td>3</td>\n",
       "      <td>230</td>\n",
       "      <td>190</td>\n",
       "      <td>30</td>\n",
       "      <td>20</td>\n",
       "      <td>140</td>\n",
       "      <td>300</td>\n",
       "      <td>...</td>\n",
       "      <td>230</td>\n",
       "      <td>1829</td>\n",
       "      <td>0</td>\n",
       "      <td>0</td>\n",
       "      <td>0</td>\n",
       "      <td>0</td>\n",
       "      <td>60</td>\n",
       "      <td>262</td>\n",
       "      <td>160</td>\n",
       "      <td>450</td>\n",
       "    </tr>\n",
       "    <tr>\n",
       "      <th>39</th>\n",
       "      <td>36</td>\n",
       "      <td>NY</td>\n",
       "      <td>10007</td>\n",
       "      <td>4</td>\n",
       "      <td>220</td>\n",
       "      <td>170</td>\n",
       "      <td>30</td>\n",
       "      <td>0</td>\n",
       "      <td>150</td>\n",
       "      <td>310</td>\n",
       "      <td>...</td>\n",
       "      <td>220</td>\n",
       "      <td>2722</td>\n",
       "      <td>0</td>\n",
       "      <td>0</td>\n",
       "      <td>0</td>\n",
       "      <td>0</td>\n",
       "      <td>50</td>\n",
       "      <td>327</td>\n",
       "      <td>160</td>\n",
       "      <td>936</td>\n",
       "    </tr>\n",
       "    <tr>\n",
       "      <th>40</th>\n",
       "      <td>36</td>\n",
       "      <td>NY</td>\n",
       "      <td>10007</td>\n",
       "      <td>5</td>\n",
       "      <td>570</td>\n",
       "      <td>390</td>\n",
       "      <td>130</td>\n",
       "      <td>30</td>\n",
       "      <td>400</td>\n",
       "      <td>850</td>\n",
       "      <td>...</td>\n",
       "      <td>560</td>\n",
       "      <td>14308</td>\n",
       "      <td>40</td>\n",
       "      <td>14</td>\n",
       "      <td>0</td>\n",
       "      <td>0</td>\n",
       "      <td>130</td>\n",
       "      <td>1124</td>\n",
       "      <td>380</td>\n",
       "      <td>2065</td>\n",
       "    </tr>\n",
       "    <tr>\n",
       "      <th>41</th>\n",
       "      <td>36</td>\n",
       "      <td>NY</td>\n",
       "      <td>10007</td>\n",
       "      <td>6</td>\n",
       "      <td>1590</td>\n",
       "      <td>550</td>\n",
       "      <td>960</td>\n",
       "      <td>40</td>\n",
       "      <td>1300</td>\n",
       "      <td>3680</td>\n",
       "      <td>...</td>\n",
       "      <td>1590</td>\n",
       "      <td>527171</td>\n",
       "      <td>1370</td>\n",
       "      <td>7621</td>\n",
       "      <td>1270</td>\n",
       "      <td>11162</td>\n",
       "      <td>810</td>\n",
       "      <td>31869</td>\n",
       "      <td>490</td>\n",
       "      <td>24569</td>\n",
       "    </tr>\n",
       "  </tbody>\n",
       "</table>\n",
       "<p>6 rows × 131 columns</p>\n",
       "</div>"
      ],
      "text/plain": [
       "    STATEFIPS STATE  zipcode  agi_stub    N1  mars1  MARS2  MARS4  PREP    N2  \\\n",
       "36         36    NY    10007         1   440    370     30     20   320   410   \n",
       "37         36    NY    10007         2   280    210     30     30   190   360   \n",
       "38         36    NY    10007         3   230    190     30     20   140   300   \n",
       "39         36    NY    10007         4   220    170     30      0   150   310   \n",
       "40         36    NY    10007         5   570    390    130     30   400   850   \n",
       "41         36    NY    10007         6  1590    550    960     40  1300  3680   \n",
       "\n",
       "    ...  N10300  A10300  N85530  A85530  N85300  A85300  N11901  A11901  \\\n",
       "36  ...     240     290       0       0       0       0     110     108   \n",
       "37  ...     250     911       0       0       0       0      70     180   \n",
       "38  ...     230    1829       0       0       0       0      60     262   \n",
       "39  ...     220    2722       0       0       0       0      50     327   \n",
       "40  ...     560   14308      40      14       0       0     130    1124   \n",
       "41  ...    1590  527171    1370    7621    1270   11162     810   31869   \n",
       "\n",
       "    N11902  A11902  \n",
       "36     220     320  \n",
       "37     180     494  \n",
       "38     160     450  \n",
       "39     160     936  \n",
       "40     380    2065  \n",
       "41     490   24569  \n",
       "\n",
       "[6 rows x 131 columns]"
      ]
     },
     "execution_count": 4,
     "metadata": {},
     "output_type": "execute_result"
    }
   ],
   "source": [
    "df2=df[df['zipcode']==10007]\n",
    "df2"
   ]
  },
  {
   "cell_type": "markdown",
   "metadata": {},
   "source": [
    "Q: Create df3 so it contains only zip code 10451."
   ]
  },
  {
   "cell_type": "code",
   "execution_count": 5,
   "metadata": {},
   "outputs": [],
   "source": [
    "df3=df[df['zipcode']==10451]"
   ]
  },
  {
   "cell_type": "markdown",
   "metadata": {},
   "source": [
    "Q: Display the first five lines for each. Use print() if \n",
    "you want to do it in one cell."
   ]
  },
  {
   "cell_type": "code",
   "execution_count": 6,
   "metadata": {},
   "outputs": [
    {
     "name": "stdout",
     "output_type": "stream",
     "text": [
      "    STATEFIPS STATE  zipcode  agi_stub   N1  mars1  MARS2  MARS4  PREP   N2  \\\n",
      "36         36    NY    10007         1  440    370     30     20   320  410   \n",
      "37         36    NY    10007         2  280    210     30     30   190  360   \n",
      "38         36    NY    10007         3  230    190     30     20   140  300   \n",
      "39         36    NY    10007         4  220    170     30      0   150  310   \n",
      "40         36    NY    10007         5  570    390    130     30   400  850   \n",
      "\n",
      "    ...  N10300  A10300  N85530  A85530  N85300  A85300  N11901  A11901  \\\n",
      "36  ...     240     290       0       0       0       0     110     108   \n",
      "37  ...     250     911       0       0       0       0      70     180   \n",
      "38  ...     230    1829       0       0       0       0      60     262   \n",
      "39  ...     220    2722       0       0       0       0      50     327   \n",
      "40  ...     560   14308      40      14       0       0     130    1124   \n",
      "\n",
      "    N11902  A11902  \n",
      "36     220     320  \n",
      "37     180     494  \n",
      "38     160     450  \n",
      "39     160     936  \n",
      "40     380    2065  \n",
      "\n",
      "[5 rows x 131 columns] /n      STATEFIPS STATE  zipcode  agi_stub     N1  mars1  MARS2  MARS4  PREP  \\\n",
      "342         36    NY    10451         1  12670   7360    930   4280  8940   \n",
      "343         36    NY    10451         2   6360   2680    720   2850  4270   \n",
      "344         36    NY    10451         3   2560   1110    360   1060  1770   \n",
      "345         36    NY    10451         4   1000    410    210    350   730   \n",
      "346         36    NY    10451         5    700    270    250    180   510   \n",
      "\n",
      "        N2  ...  N10300  A10300  N85530  A85530  N85300  A85300  N11901  \\\n",
      "342  22470  ...    6380    6487       0       0       0       0    1260   \n",
      "343  12510  ...    5060   12024       0       0       0       0     540   \n",
      "344   4820  ...    2490   13592       0       0       0       0     380   \n",
      "345   1880  ...     990    9995       0       0       0       0     190   \n",
      "346   1430  ...     700   12471       0       0       0       0     160   \n",
      "\n",
      "     A11901  N11902  A11902  \n",
      "342     889   10890   32133  \n",
      "343     784    5810   18219  \n",
      "344     792    2180    7130  \n",
      "345     597     800    3230  \n",
      "346     788     530    2522  \n",
      "\n",
      "[5 rows x 131 columns]\n"
     ]
    }
   ],
   "source": [
    "print(df2.head(),'/n',\n",
    "     df3.head())"
   ]
  },
  {
   "cell_type": "markdown",
   "metadata": {},
   "source": [
    "Q: Generate a bar plot for each of these data frames (in \n",
    "separate cells) showing the AGI category (agi_stub) \n",
    "on the x-axis and the number of returns (N1) on the \n",
    "y-axis. Use the seaborn method catplot(). It works \n",
    "the same way the other seaborn plotting methods \n",
    "work; you just have to add the parameter \n",
    "kind=’bar’ to get the bar chart."
   ]
  },
  {
   "cell_type": "code",
   "execution_count": 7,
   "metadata": {},
   "outputs": [
    {
     "data": {
      "image/png": "[encoded data removed]",
      "text/plain": [
       "<Figure size 360x360 with 1 Axes>"
      ]
     },
     "metadata": {
      "needs_background": "light"
     },
     "output_type": "display_data"
    },
    {
     "data": {
      "image/png": "[encoded data removed]",
      "text/plain": [
       "<Figure size 360x360 with 1 Axes>"
      ]
     },
     "metadata": {
      "needs_background": "light"
     },
     "output_type": "display_data"
    }
   ],
   "source": [
    "# df2 plot\n",
    "sns.catplot(data=df2,x='agi_stub',y='N1',kind='bar')\n",
    "plt.title('df2(10007)');\n",
    "# df3 plot\n",
    "sns.catplot(data=df3,x='agi_stub',y='N1',kind='bar')\n",
    "plt.title('df3(10451)');"
   ]
  },
  {
   "cell_type": "markdown",
   "metadata": {},
   "source": [
    "Q: When you have finished both plots, insert a new markdown cell \n",
    "below the second plot and answer this question in a complete\n",
    "sentence:\n",
    ">These two zip codes represent one of the poorest and one of the richest \n",
    "areas in New York City. How can you tell from your bar plots which is \n",
    "the poorest and which is the richest?\n",
    "\n",
    "A: According to the documentation, `agi_stub` stands for *Size of adjusted gross income*, which is compartmentalized by income amount in ascending order through one to six. `N1` is *number of returns*. Plots aboves indicate area with zipcode 10007 has the most number of returns with respect of agi_stub-6(6 = 200,000 or more). In contrast, area with zipcode 10451 has the most number of returns with income below $25000. \n",
    "\n",
    "Thus, area with zipcode 10007 is the richest and one with zipcode 10451 is the poorest.\n",
    "\n",
    "#### Section 2\n",
    "Q: Create df4 so it contains only the second AGI category\n",
    "(agi_stub)."
   ]
  },
  {
   "cell_type": "code",
   "execution_count": 8,
   "metadata": {},
   "outputs": [],
   "source": [
    "df4=df[df['agi_stub']==2]"
   ]
  },
  {
   "cell_type": "markdown",
   "metadata": {},
   "source": [
    "Q:Print the info method results for df4 to the screen."
   ]
  },
  {
   "cell_type": "code",
   "execution_count": 9,
   "metadata": {
    "scrolled": false
   },
   "outputs": [
    {
     "name": "stdout",
     "output_type": "stream",
     "text": [
      "<class 'pandas.core.frame.DataFrame'>\n",
      "Int64Index: 1539 entries, 1 to 9229\n",
      "Columns: 131 entries, STATEFIPS to A11902\n",
      "dtypes: int64(130), object(1)\n",
      "memory usage: 1.5+ MB\n",
      "None\n"
     ]
    }
   ],
   "source": [
    "print(df4.info())"
   ]
  },
  {
   "cell_type": "markdown",
   "metadata": {},
   "source": [
    "Q:Generate a scatter plot using the seaborn \n",
    "scatterplot() method that displays the number of \n",
    "exemptions (N2) on the x-axis and the number of \n",
    "returns with paid preparer signatures (PREP) on \n",
    "the y-axis. That method is an axes-level plot, so \n",
    "you will need to use the figure and axes process \n",
    "we used in the second plotting notebook.\n",
    "\n",
    "Set the overall title to Paid Preparers by Exemptions for AGI Group 2\n",
    "\n",
    "Set the y-axis label to Returns with Paid Preparers\n",
    "\n",
    "Set the x-axis label to Number of Exemptions"
   ]
  },
  {
   "cell_type": "code",
   "execution_count": 10,
   "metadata": {
    "scrolled": false
   },
   "outputs": [
    {
     "data": {
      "image/png": "[encoded data removed]",
      "text/plain": [
       "<Figure size 432x288 with 1 Axes>"
      ]
     },
     "metadata": {
      "needs_background": "light"
     },
     "output_type": "display_data"
    }
   ],
   "source": [
    "# plotting\n",
    "ax=sns.scatterplot(data=df4,x='N2',y='PREP')\n",
    "# add attributes\n",
    "ax.set(title='Paid Preparers by Exemptions for AGI Group 2',\n",
    "       ylabel='Returns with Paid Preparers',\n",
    "       xlabel='Number of Exemptions');"
   ]
  },
  {
   "cell_type": "markdown",
   "metadata": {},
   "source": [
    "#### Section 3\n",
    "Q: Create df5 so it only contains the AGI category (agi_stub), number of joint returns \n",
    "(MARS2), and number of volunteer prepared returns with an Earned Income Credit \n",
    "(VITA_EIC) columns.\n",
    "\n",
    "Print the info method for df5 to the screen"
   ]
  },
  {
   "cell_type": "code",
   "execution_count": 11,
   "metadata": {
    "scrolled": true
   },
   "outputs": [
    {
     "name": "stdout",
     "output_type": "stream",
     "text": [
      "<class 'pandas.core.frame.DataFrame'>\n",
      "RangeIndex: 9234 entries, 0 to 9233\n",
      "Data columns (total 3 columns):\n",
      " #   Column    Non-Null Count  Dtype\n",
      "---  ------    --------------  -----\n",
      " 0   agi_stub  9234 non-null   int64\n",
      " 1   MARS2     9234 non-null   int64\n",
      " 2   VITA_EIC  9234 non-null   int64\n",
      "dtypes: int64(3)\n",
      "memory usage: 216.5 KB\n",
      "None\n"
     ]
    }
   ],
   "source": [
    "# create df5\n",
    "df5=df[['agi_stub','MARS2','VITA_EIC']]\n",
    "# df5 info\n",
    "print(df5.info())"
   ]
  },
  {
   "cell_type": "markdown",
   "metadata": {},
   "source": [
    "Q: Create df6 so it contains the rows from df5 that have AGI category values of three or less.\n",
    "\n",
    "a. Print the describe method for df6 to the screen."
   ]
  },
  {
   "cell_type": "code",
   "execution_count": 12,
   "metadata": {},
   "outputs": [
    {
     "data": {
      "text/html": [
       "<div>\n",
       "<style scoped>\n",
       "    .dataframe tbody tr th:only-of-type {\n",
       "        vertical-align: middle;\n",
       "    }\n",
       "\n",
       "    .dataframe tbody tr th {\n",
       "        vertical-align: top;\n",
       "    }\n",
       "\n",
       "    .dataframe thead th {\n",
       "        text-align: right;\n",
       "    }\n",
       "</style>\n",
       "<table border=\"1\" class=\"dataframe\">\n",
       "  <thead>\n",
       "    <tr style=\"text-align: right;\">\n",
       "      <th></th>\n",
       "      <th>agi_stub</th>\n",
       "      <th>MARS2</th>\n",
       "      <th>VITA_EIC</th>\n",
       "    </tr>\n",
       "  </thead>\n",
       "  <tbody>\n",
       "    <tr>\n",
       "      <th>count</th>\n",
       "      <td>4617.000000</td>\n",
       "      <td>4617.000000</td>\n",
       "      <td>4617.000000</td>\n",
       "    </tr>\n",
       "    <tr>\n",
       "      <th>mean</th>\n",
       "      <td>2.000000</td>\n",
       "      <td>282.514620</td>\n",
       "      <td>11.323370</td>\n",
       "    </tr>\n",
       "    <tr>\n",
       "      <th>std</th>\n",
       "      <td>0.816585</td>\n",
       "      <td>552.888998</td>\n",
       "      <td>50.729117</td>\n",
       "    </tr>\n",
       "    <tr>\n",
       "      <th>min</th>\n",
       "      <td>1.000000</td>\n",
       "      <td>0.000000</td>\n",
       "      <td>0.000000</td>\n",
       "    </tr>\n",
       "    <tr>\n",
       "      <th>25%</th>\n",
       "      <td>1.000000</td>\n",
       "      <td>50.000000</td>\n",
       "      <td>0.000000</td>\n",
       "    </tr>\n",
       "    <tr>\n",
       "      <th>50%</th>\n",
       "      <td>2.000000</td>\n",
       "      <td>110.000000</td>\n",
       "      <td>0.000000</td>\n",
       "    </tr>\n",
       "    <tr>\n",
       "      <th>75%</th>\n",
       "      <td>3.000000</td>\n",
       "      <td>300.000000</td>\n",
       "      <td>0.000000</td>\n",
       "    </tr>\n",
       "    <tr>\n",
       "      <th>max</th>\n",
       "      <td>3.000000</td>\n",
       "      <td>12530.000000</td>\n",
       "      <td>810.000000</td>\n",
       "    </tr>\n",
       "  </tbody>\n",
       "</table>\n",
       "</div>"
      ],
      "text/plain": [
       "          agi_stub         MARS2     VITA_EIC\n",
       "count  4617.000000   4617.000000  4617.000000\n",
       "mean      2.000000    282.514620    11.323370\n",
       "std       0.816585    552.888998    50.729117\n",
       "min       1.000000      0.000000     0.000000\n",
       "25%       1.000000     50.000000     0.000000\n",
       "50%       2.000000    110.000000     0.000000\n",
       "75%       3.000000    300.000000     0.000000\n",
       "max       3.000000  12530.000000   810.000000"
      ]
     },
     "execution_count": 12,
     "metadata": {},
     "output_type": "execute_result"
    }
   ],
   "source": [
    "# create df6\n",
    "df6=df5[df5['agi_stub']<=3]\n",
    "# describe df6\n",
    "df6.describe()"
   ]
  },
  {
   "cell_type": "markdown",
   "metadata": {},
   "source": [
    "Q: Generate three scatter plots using the seaborn lmplot() method and the df6 data so \n",
    "each agi_stub value has its own plot."
   ]
  },
  {
   "cell_type": "code",
   "execution_count": 13,
   "metadata": {},
   "outputs": [
    {
     "data": {
      "image/png": "[encoded data removed]",
      "text/plain": [
       "<Figure size 1080x360 with 3 Axes>"
      ]
     },
     "metadata": {
      "needs_background": "light"
     },
     "output_type": "display_data"
    }
   ],
   "source": [
    "sns.lmplot(data=df6,x='MARS2',y='VITA_EIC',col='agi_stub');"
   ]
  }
 ],
 "metadata": {
  "kernelspec": {
   "display_name": "Python 3",
   "language": "python",
   "name": "python3"
  },
  "language_info": {
   "codemirror_mode": {
    "name": "ipython",
    "version": 3
   },
   "file_extension": ".py",
   "mimetype": "text/x-python",
   "name": "python",
   "nbconvert_exporter": "python",
   "pygments_lexer": "ipython3",
   "version": "3.7.7"
  },
  "toc": {
   "base_numbering": 1,
   "nav_menu": {},
   "number_sections": true,
   "sideBar": true,
   "skip_h1_title": false,
   "title_cell": "Table of Contents",
   "title_sidebar": "Contents",
   "toc_cell": false,
   "toc_position": {},
   "toc_section_display": true,
   "toc_window_display": false
  },
  "varInspector": {
   "cols": {
    "lenName": 16,
    "lenType": 16,
    "lenVar": 40
   },
   "kernels_config": {
    "python": {
     "delete_cmd_postfix": "",
     "delete_cmd_prefix": "del ",
     "library": "var_list.py",
     "varRefreshCmd": "print(var_dic_list())"
    },
    "r": {
     "delete_cmd_postfix": ") ",
     "delete_cmd_prefix": "rm(",
     "library": "var_list.r",
     "varRefreshCmd": "cat(var_dic_list()) "
    }
   },
   "types_to_exclude": [
    "module",
    "function",
    "builtin_function_or_method",
    "instance",
    "_Feature"
   ],
   "window_display": false
  }
 },
 "nbformat": 4,
 "nbformat_minor": 2
}
