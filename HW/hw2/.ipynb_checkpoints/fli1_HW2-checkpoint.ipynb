{
 "cells": [
  {
   "cell_type": "markdown",
   "metadata": {},
   "source": [
    "# HW 2 -  Reading and Subsetting Data\n",
    "ANALYST: Fan Li\n",
    "\n",
    "DUE DATE: Sep 3, 2020\n",
    "\n",
    "PURPOSE: A review of the basic programming concepts covered in the prerequisite\n",
    "to this course, MIS 3300, and introduce the Python dictionary data structure.\n",
    "\n",
    "###### INPUT"
   ]
  },
  {
   "cell_type": "code",
   "execution_count": 3,
   "metadata": {
    "scrolled": false
   },
   "outputs": [
    {
     "name": "stdout",
     "output_type": "stream",
     "text": [
      "Enter the name of the customer:h\n",
      "Enter the name of the wood species (oak, cherry, or maple):h\n",
      "\n",
      "\n",
      "Enter the LENGTH of the board in inches:5\n",
      "Enter the WIDTH of the board in inches:5\n",
      "Enter the THICHNESS of the board in inches:5\n"
     ]
    }
   ],
   "source": [
    "# input variables\n",
    "name=input(\"Enter the name of the customer:\")\n",
    "wood=input(\"Enter the name of the wood species (oak, cherry, or maple):\")\n",
    "print(\"\\n\")\n",
    "length=float(input(\"Enter the LENGTH of the board in inches:\"))\n",
    "width=float(input(\"Enter the WIDTH of the board in inches:\"))\n",
    "thickness=float(input(\"Enter the THICHNESS of the board in inches:\"))"
   ]
  },
  {
   "cell_type": "markdown",
   "metadata": {},
   "source": [
    "###### COMPUTE"
   ]
  },
  {
   "cell_type": "markdown",
   "metadata": {},
   "source": [
    "$$ 𝑏𝑜𝑎𝑟𝑑\\ 𝑓𝑒𝑒t = \\frac{LENGTH * WIDTH * THICHNESS }{144}$$"
   ]
  },
  {
   "cell_type": "code",
   "execution_count": 4,
   "metadata": {},
   "outputs": [],
   "source": [
    "# Wood species and prices per board-foot\n",
    "wood_dic={\"oak\": 4.35,\n",
    "         \"cherry\": 5.80,\n",
    "         \"maple\": 6.20}"
   ]
  },
  {
   "cell_type": "code",
   "execution_count": 5,
   "metadata": {},
   "outputs": [],
   "source": [
    "def summary(customer=name,species=wood,length=length,width=width,thickness=thickness):\n",
    "    '''\n",
    "    function to compute total board-feet ordered,\n",
    "    price for wood,\n",
    "    sales tax,\n",
    "    total due\n",
    "    INPUT: \n",
    "    customer -customer name\n",
    "    species -chosen from (oak, cherry, or maple)\n",
    "    length - 𝑙𝑒𝑛𝑔𝑡ℎ 𝑖𝑛 𝑖𝑛𝑐ℎ𝑒\n",
    "    width - 𝑤𝑖𝑑𝑡ℎ 𝑖𝑛 𝑖𝑛𝑐ℎ𝑒\n",
    "    thickness - 𝑡ℎ𝑖𝑐𝑘𝑛𝑒𝑠𝑠 𝑖𝑛 𝑖𝑛𝑐ℎ𝑒\n",
    "    OUTPUT:\n",
    "    NONE\n",
    "    '''\n",
    "    # Calculate the total board-feet for those dimensions.\n",
    "    total_bf=length*width*thickness/144\n",
    "\n",
    "    # calculate a total wood price\n",
    "    if species in wood_dic.keys():\n",
    "        total_price=wood_dic[species]*total_bf\n",
    "    else:\n",
    "        species=\"Species not found.\"\n",
    "        total_price=0\n",
    "        print(\"!\"*20)\n",
    "        \n",
    "    # Calculate sales tax on the lumber \n",
    "    # and add it to the total wood price get a grand total.\n",
    "    tax_rate=0.09\n",
    "    tax=total_price*tax_rate\n",
    "    total_due=tax+total_price\n",
    "    \n",
    "    # print brief\n",
    "    print(f\"Customer name: {customer}\\n\"\n",
    "         f\"Wood speices: {species}\\n\"\n",
    "         f\"Total board-feet wood: {total_bf}\\n\"\n",
    "         f\"Price for wood: {total_price}\\n\"\n",
    "         f\"Sales tax: {tax}\\n\"\n",
    "         f\"Total due: {total_due}\")"
   ]
  },
  {
   "cell_type": "code",
   "execution_count": 6,
   "metadata": {
    "scrolled": true
   },
   "outputs": [
    {
     "name": "stdout",
     "output_type": "stream",
     "text": [
      "!!!!!!!!!!!!!!!!!!!!\n",
      "Customer name: h\n",
      "Wood speices: Species not found.\n",
      "Total board-feet wood: 0.8680555555555556\n",
      "Price for wood: 0\n",
      "Sales tax: 0.0\n",
      "Total due: 0.0\n"
     ]
    }
   ],
   "source": [
    "summary()"
   ]
  },
  {
   "cell_type": "markdown",
   "metadata": {},
   "source": [
    "###### TEST"
   ]
  },
  {
   "cell_type": "code",
   "execution_count": 8,
   "metadata": {},
   "outputs": [],
   "source": [
    "summary??"
   ]
  },
  {
   "cell_type": "code",
   "execution_count": 6,
   "metadata": {
    "scrolled": true
   },
   "outputs": [
    {
     "name": "stdout",
     "output_type": "stream",
     "text": [
      "Customer name: customer1\n",
      "Wood speices: cherry\n",
      "Total board-feet wood: 1.0\n",
      "Price for wood: 5.8\n",
      "Sales tax: 0.522\n",
      "Total due: 6.322\n"
     ]
    }
   ],
   "source": [
    "summary('customer1','cherry',48,3,1)"
   ]
  },
  {
   "cell_type": "code",
   "execution_count": 7,
   "metadata": {},
   "outputs": [
    {
     "name": "stdout",
     "output_type": "stream",
     "text": [
      "Customer name: customer2\n",
      "Wood speices: oak\n",
      "Total board-feet wood: 3.4375\n",
      "Price for wood: 14.953124999999998\n",
      "Sales tax: 1.3457812499999997\n",
      "Total due: 16.298906249999998\n"
     ]
    }
   ],
   "source": [
    "summary('customer2','oak',60,11,.75)"
   ]
  },
  {
   "cell_type": "code",
   "execution_count": 8,
   "metadata": {
    "scrolled": true
   },
   "outputs": [
    {
     "name": "stdout",
     "output_type": "stream",
     "text": [
      "Customer name: customer3\n",
      "Wood speices: maple\n",
      "Total board-feet wood: 2.826388888888889\n",
      "Price for wood: 17.523611111111112\n",
      "Sales tax: 1.577125\n",
      "Total due: 19.10073611111111\n"
     ]
    }
   ],
   "source": [
    "summary('customer3','maple',37,5.5,2)"
   ]
  },
  {
   "cell_type": "code",
   "execution_count": 9,
   "metadata": {},
   "outputs": [
    {
     "name": "stdout",
     "output_type": "stream",
     "text": [
      "!!!!!!!!!!!!!!!!!!!!\n",
      "Customer name: customer4\n",
      "Wood speices: Species not found.\n",
      "Total board-feet wood: 2.826388888888889\n",
      "Price for wood: 0\n",
      "Sales tax: 0.0\n",
      "Total due: 0.0\n"
     ]
    }
   ],
   "source": [
    "summary('customer4','pine',37,5.5,2)"
   ]
  }
 ],
 "metadata": {
  "kernelspec": {
   "display_name": "Python 3",
   "language": "python",
   "name": "python3"
  },
  "language_info": {
   "codemirror_mode": {
    "name": "ipython",
    "version": 3
   },
   "file_extension": ".py",
   "mimetype": "text/x-python",
   "name": "python",
   "nbconvert_exporter": "python",
   "pygments_lexer": "ipython3",
   "version": "3.7.7"
  },
  "toc": {
   "base_numbering": 1,
   "nav_menu": {},
   "number_sections": true,
   "sideBar": true,
   "skip_h1_title": false,
   "title_cell": "Table of Contents",
   "title_sidebar": "Contents",
   "toc_cell": false,
   "toc_position": {},
   "toc_section_display": true,
   "toc_window_display": false
  },
  "varInspector": {
   "cols": {
    "lenName": 16,
    "lenType": 16,
    "lenVar": 40
   },
   "kernels_config": {
    "python": {
     "delete_cmd_postfix": "",
     "delete_cmd_prefix": "del ",
     "library": "var_list.py",
     "varRefreshCmd": "print(var_dic_list())"
    },
    "r": {
     "delete_cmd_postfix": ") ",
     "delete_cmd_prefix": "rm(",
     "library": "var_list.r",
     "varRefreshCmd": "cat(var_dic_list()) "
    }
   },
   "types_to_exclude": [
    "module",
    "function",
    "builtin_function_or_method",
    "instance",
    "_Feature"
   ],
   "window_display": false
  }
 },
 "nbformat": 4,
 "nbformat_minor": 2
}
