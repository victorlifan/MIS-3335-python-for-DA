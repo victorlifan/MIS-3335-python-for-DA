{
 "cells": [
  {
   "cell_type": "markdown",
   "metadata": {},
   "source": [
    "# HW 2 -  Reading and Subsetting Data\n",
    "ANALYST: Fan Li\n",
    "\n",
    "DUE DATE: Sep 20, 2020\n",
    "\n",
    "PURPOSE: \n",
    "Using the contents of these files and your Python/pandas/Notebook skills to aggregate data and\n",
    "answer a serise of questions."
   ]
  },
  {
   "cell_type": "code",
   "execution_count": 1,
   "metadata": {
    "scrolled": false
   },
   "outputs": [],
   "source": [
    "# import libraries\n",
    "import pandas as pd\n",
    "# read in data\n",
    "tax_df=pd.read_csv(\"15zpnyagi.csv\")"
   ]
  },
  {
   "cell_type": "code",
   "execution_count": 2,
   "metadata": {
    "scrolled": true
   },
   "outputs": [
    {
     "data": {
      "text/html": [
       "<div>\n",
       "<style scoped>\n",
       "    .dataframe tbody tr th:only-of-type {\n",
       "        vertical-align: middle;\n",
       "    }\n",
       "\n",
       "    .dataframe tbody tr th {\n",
       "        vertical-align: top;\n",
       "    }\n",
       "\n",
       "    .dataframe thead th {\n",
       "        text-align: right;\n",
       "    }\n",
       "</style>\n",
       "<table border=\"1\" class=\"dataframe\">\n",
       "  <thead>\n",
       "    <tr style=\"text-align: right;\">\n",
       "      <th></th>\n",
       "      <th>STATEFIPS</th>\n",
       "      <th>STATE</th>\n",
       "      <th>zipcode</th>\n",
       "      <th>agi_stub</th>\n",
       "      <th>N1</th>\n",
       "      <th>mars1</th>\n",
       "      <th>MARS2</th>\n",
       "      <th>MARS4</th>\n",
       "      <th>PREP</th>\n",
       "      <th>N2</th>\n",
       "      <th>...</th>\n",
       "      <th>N10300</th>\n",
       "      <th>A10300</th>\n",
       "      <th>N85530</th>\n",
       "      <th>A85530</th>\n",
       "      <th>N85300</th>\n",
       "      <th>A85300</th>\n",
       "      <th>N11901</th>\n",
       "      <th>A11901</th>\n",
       "      <th>N11902</th>\n",
       "      <th>A11902</th>\n",
       "    </tr>\n",
       "  </thead>\n",
       "  <tbody>\n",
       "    <tr>\n",
       "      <th>0</th>\n",
       "      <td>36</td>\n",
       "      <td>NY</td>\n",
       "      <td>10001</td>\n",
       "      <td>1</td>\n",
       "      <td>3760</td>\n",
       "      <td>2910</td>\n",
       "      <td>360</td>\n",
       "      <td>400</td>\n",
       "      <td>2250</td>\n",
       "      <td>4690</td>\n",
       "      <td>...</td>\n",
       "      <td>2040</td>\n",
       "      <td>2158</td>\n",
       "      <td>0</td>\n",
       "      <td>0</td>\n",
       "      <td>0</td>\n",
       "      <td>0</td>\n",
       "      <td>750</td>\n",
       "      <td>766</td>\n",
       "      <td>2510</td>\n",
       "      <td>4418</td>\n",
       "    </tr>\n",
       "    <tr>\n",
       "      <th>1</th>\n",
       "      <td>36</td>\n",
       "      <td>NY</td>\n",
       "      <td>10001</td>\n",
       "      <td>2</td>\n",
       "      <td>2430</td>\n",
       "      <td>1790</td>\n",
       "      <td>240</td>\n",
       "      <td>330</td>\n",
       "      <td>1370</td>\n",
       "      <td>3270</td>\n",
       "      <td>...</td>\n",
       "      <td>2240</td>\n",
       "      <td>7569</td>\n",
       "      <td>0</td>\n",
       "      <td>0</td>\n",
       "      <td>0</td>\n",
       "      <td>0</td>\n",
       "      <td>510</td>\n",
       "      <td>1187</td>\n",
       "      <td>1810</td>\n",
       "      <td>4285</td>\n",
       "    </tr>\n",
       "    <tr>\n",
       "      <th>2</th>\n",
       "      <td>36</td>\n",
       "      <td>NY</td>\n",
       "      <td>10001</td>\n",
       "      <td>3</td>\n",
       "      <td>1930</td>\n",
       "      <td>1520</td>\n",
       "      <td>200</td>\n",
       "      <td>150</td>\n",
       "      <td>1110</td>\n",
       "      <td>2450</td>\n",
       "      <td>...</td>\n",
       "      <td>1910</td>\n",
       "      <td>14770</td>\n",
       "      <td>0</td>\n",
       "      <td>0</td>\n",
       "      <td>0</td>\n",
       "      <td>0</td>\n",
       "      <td>450</td>\n",
       "      <td>1397</td>\n",
       "      <td>1420</td>\n",
       "      <td>3574</td>\n",
       "    </tr>\n",
       "    <tr>\n",
       "      <th>3</th>\n",
       "      <td>36</td>\n",
       "      <td>NY</td>\n",
       "      <td>10001</td>\n",
       "      <td>4</td>\n",
       "      <td>1340</td>\n",
       "      <td>1070</td>\n",
       "      <td>160</td>\n",
       "      <td>70</td>\n",
       "      <td>770</td>\n",
       "      <td>1690</td>\n",
       "      <td>...</td>\n",
       "      <td>1330</td>\n",
       "      <td>16902</td>\n",
       "      <td>0</td>\n",
       "      <td>0</td>\n",
       "      <td>0</td>\n",
       "      <td>0</td>\n",
       "      <td>310</td>\n",
       "      <td>1209</td>\n",
       "      <td>980</td>\n",
       "      <td>3268</td>\n",
       "    </tr>\n",
       "    <tr>\n",
       "      <th>4</th>\n",
       "      <td>36</td>\n",
       "      <td>NY</td>\n",
       "      <td>10001</td>\n",
       "      <td>5</td>\n",
       "      <td>2480</td>\n",
       "      <td>1790</td>\n",
       "      <td>540</td>\n",
       "      <td>70</td>\n",
       "      <td>1520</td>\n",
       "      <td>3390</td>\n",
       "      <td>...</td>\n",
       "      <td>2470</td>\n",
       "      <td>60809</td>\n",
       "      <td>110</td>\n",
       "      <td>28</td>\n",
       "      <td>40</td>\n",
       "      <td>42</td>\n",
       "      <td>560</td>\n",
       "      <td>3816</td>\n",
       "      <td>1770</td>\n",
       "      <td>7787</td>\n",
       "    </tr>\n",
       "  </tbody>\n",
       "</table>\n",
       "<p>5 rows × 131 columns</p>\n",
       "</div>"
      ],
      "text/plain": [
       "   STATEFIPS STATE  zipcode  agi_stub    N1  mars1  MARS2  MARS4  PREP    N2  \\\n",
       "0         36    NY    10001         1  3760   2910    360    400  2250  4690   \n",
       "1         36    NY    10001         2  2430   1790    240    330  1370  3270   \n",
       "2         36    NY    10001         3  1930   1520    200    150  1110  2450   \n",
       "3         36    NY    10001         4  1340   1070    160     70   770  1690   \n",
       "4         36    NY    10001         5  2480   1790    540     70  1520  3390   \n",
       "\n",
       "   ...  N10300  A10300  N85530  A85530  N85300  A85300  N11901  A11901  \\\n",
       "0  ...    2040    2158       0       0       0       0     750     766   \n",
       "1  ...    2240    7569       0       0       0       0     510    1187   \n",
       "2  ...    1910   14770       0       0       0       0     450    1397   \n",
       "3  ...    1330   16902       0       0       0       0     310    1209   \n",
       "4  ...    2470   60809     110      28      40      42     560    3816   \n",
       "\n",
       "   N11902  A11902  \n",
       "0    2510    4418  \n",
       "1    1810    4285  \n",
       "2    1420    3574  \n",
       "3     980    3268  \n",
       "4    1770    7787  \n",
       "\n",
       "[5 rows x 131 columns]"
      ]
     },
     "execution_count": 2,
     "metadata": {},
     "output_type": "execute_result"
    }
   ],
   "source": [
    "tax_df.head()"
   ]
  },
  {
   "cell_type": "code",
   "execution_count": 3,
   "metadata": {
    "scrolled": true
   },
   "outputs": [
    {
     "data": {
      "text/plain": [
       "STATEFIPS     int64\n",
       "STATE        object\n",
       "zipcode       int64\n",
       "agi_stub      int64\n",
       "N1            int64\n",
       "              ...  \n",
       "A85300        int64\n",
       "N11901        int64\n",
       "A11901        int64\n",
       "N11902        int64\n",
       "A11902        int64\n",
       "Length: 131, dtype: object"
      ]
     },
     "execution_count": 3,
     "metadata": {},
     "output_type": "execute_result"
    }
   ],
   "source": [
    "tax_df.dtypes"
   ]
  },
  {
   "cell_type": "code",
   "execution_count": 4,
   "metadata": {},
   "outputs": [
    {
     "name": "stdout",
     "output_type": "stream",
     "text": [
      "<class 'pandas.core.frame.DataFrame'>\n",
      "RangeIndex: 9234 entries, 0 to 9233\n",
      "Columns: 131 entries, STATEFIPS to A11902\n",
      "dtypes: int64(130), object(1)\n",
      "memory usage: 9.2+ MB\n"
     ]
    }
   ],
   "source": [
    "tax_df.info()"
   ]
  },
  {
   "cell_type": "markdown",
   "metadata": {},
   "source": [
    "Q1.What is the total of “Salaries and wages amount” for all NY tax filers in 2015?\n",
    "[Answer: 514,823,973]"
   ]
  },
  {
   "cell_type": "code",
   "execution_count": 5,
   "metadata": {},
   "outputs": [
    {
     "data": {
      "text/plain": [
       "514823973"
      ]
     },
     "execution_count": 5,
     "metadata": {},
     "output_type": "execute_result"
    }
   ],
   "source": [
    "tax_df['A00200'].sum()"
   ]
  },
  {
   "cell_type": "markdown",
   "metadata": {},
   "source": [
    "Q2. What is the total for “Educator expenses amount” in Washingtonville, NY (zip code 10992)?\n",
    "[Answer: 60]"
   ]
  },
  {
   "cell_type": "code",
   "execution_count": 6,
   "metadata": {},
   "outputs": [
    {
     "data": {
      "text/plain": [
       "60"
      ]
     },
     "execution_count": 6,
     "metadata": {},
     "output_type": "execute_result"
    }
   ],
   "source": [
    "tax_df[tax_df['zipcode']==10992]['A03220'].sum()"
   ]
  },
  {
   "cell_type": "markdown",
   "metadata": {},
   "source": [
    "Q3. What is the mean number of dependents claimed by all New York tax filers in the adjusted gross \n",
    "income range of $50,000 to $75,000? Display your answer using a meaningful print statement \n",
    "and a formatted numeric answer"
   ]
  },
  {
   "cell_type": "code",
   "execution_count": 2,
   "metadata": {},
   "outputs": [],
   "source": [
    "# agi_stub 3 = $50,000 under $75,000\n",
    "DF_3=tax_df[tax_df['agi_stub']==3]"
   ]
  },
  {
   "cell_type": "code",
   "execution_count": 4,
   "metadata": {},
   "outputs": [
    {
     "data": {
      "text/plain": [
       "444.87979207277453"
      ]
     },
     "execution_count": 4,
     "metadata": {},
     "output_type": "execute_result"
    }
   ],
   "source": [
    "DF_3['NUMDEP'].mean()"
   ]
  },
  {
   "cell_type": "code",
   "execution_count": 8,
   "metadata": {
    "scrolled": true
   },
   "outputs": [
    {
     "name": "stdout",
     "output_type": "stream",
     "text": [
      "The average number of dependents per return in the specified AGI range is 0.54\n"
     ]
    }
   ],
   "source": [
    "OUTPUT=DF_3['NUMDEP'].sum()/DF_3['N1'].sum()\n",
    "print(\"The average number of dependents per return in the specified AGI range is {:.2f}\".format(OUTPUT))"
   ]
  },
  {
   "cell_type": "markdown",
   "metadata": {},
   "source": [
    "Q4. Create data frames that contain only the following subsets of the original dataset:\n",
    "\n",
    "a. \"df\" - columns for zipcode, adjusted gross income category, number of exemptions, \n",
    "number of elderly returns, taxable Social Security benefits amount, and income tax \n",
    "amount."
   ]
  },
  {
   "cell_type": "code",
   "execution_count": 9,
   "metadata": {
    "scrolled": false
   },
   "outputs": [
    {
     "data": {
      "text/html": [
       "<div>\n",
       "<style scoped>\n",
       "    .dataframe tbody tr th:only-of-type {\n",
       "        vertical-align: middle;\n",
       "    }\n",
       "\n",
       "    .dataframe tbody tr th {\n",
       "        vertical-align: top;\n",
       "    }\n",
       "\n",
       "    .dataframe thead th {\n",
       "        text-align: right;\n",
       "    }\n",
       "</style>\n",
       "<table border=\"1\" class=\"dataframe\">\n",
       "  <thead>\n",
       "    <tr style=\"text-align: right;\">\n",
       "      <th></th>\n",
       "      <th>zipcode</th>\n",
       "      <th>agi_stub</th>\n",
       "      <th>N2</th>\n",
       "      <th>ELDERLY</th>\n",
       "      <th>A02500</th>\n",
       "      <th>A06500</th>\n",
       "    </tr>\n",
       "  </thead>\n",
       "  <tbody>\n",
       "    <tr>\n",
       "      <th>0</th>\n",
       "      <td>10001</td>\n",
       "      <td>1</td>\n",
       "      <td>4690</td>\n",
       "      <td>840</td>\n",
       "      <td>377</td>\n",
       "      <td>880</td>\n",
       "    </tr>\n",
       "    <tr>\n",
       "      <th>1</th>\n",
       "      <td>10001</td>\n",
       "      <td>2</td>\n",
       "      <td>3270</td>\n",
       "      <td>430</td>\n",
       "      <td>2119</td>\n",
       "      <td>6339</td>\n",
       "    </tr>\n",
       "    <tr>\n",
       "      <th>2</th>\n",
       "      <td>10001</td>\n",
       "      <td>3</td>\n",
       "      <td>2450</td>\n",
       "      <td>350</td>\n",
       "      <td>3660</td>\n",
       "      <td>13684</td>\n",
       "    </tr>\n",
       "    <tr>\n",
       "      <th>3</th>\n",
       "      <td>10001</td>\n",
       "      <td>4</td>\n",
       "      <td>1690</td>\n",
       "      <td>260</td>\n",
       "      <td>3491</td>\n",
       "      <td>16138</td>\n",
       "    </tr>\n",
       "    <tr>\n",
       "      <th>4</th>\n",
       "      <td>10001</td>\n",
       "      <td>5</td>\n",
       "      <td>3390</td>\n",
       "      <td>370</td>\n",
       "      <td>6171</td>\n",
       "      <td>58408</td>\n",
       "    </tr>\n",
       "    <tr>\n",
       "      <th>5</th>\n",
       "      <td>10001</td>\n",
       "      <td>6</td>\n",
       "      <td>4220</td>\n",
       "      <td>250</td>\n",
       "      <td>3548</td>\n",
       "      <td>415672</td>\n",
       "    </tr>\n",
       "    <tr>\n",
       "      <th>6</th>\n",
       "      <td>10002</td>\n",
       "      <td>1</td>\n",
       "      <td>36580</td>\n",
       "      <td>4520</td>\n",
       "      <td>641</td>\n",
       "      <td>3187</td>\n",
       "    </tr>\n",
       "    <tr>\n",
       "      <th>7</th>\n",
       "      <td>10002</td>\n",
       "      <td>2</td>\n",
       "      <td>14590</td>\n",
       "      <td>1210</td>\n",
       "      <td>4210</td>\n",
       "      <td>18221</td>\n",
       "    </tr>\n",
       "    <tr>\n",
       "      <th>8</th>\n",
       "      <td>10002</td>\n",
       "      <td>3</td>\n",
       "      <td>7060</td>\n",
       "      <td>640</td>\n",
       "      <td>5900</td>\n",
       "      <td>31172</td>\n",
       "    </tr>\n",
       "    <tr>\n",
       "      <th>9</th>\n",
       "      <td>10002</td>\n",
       "      <td>4</td>\n",
       "      <td>3990</td>\n",
       "      <td>380</td>\n",
       "      <td>4720</td>\n",
       "      <td>31540</td>\n",
       "    </tr>\n",
       "  </tbody>\n",
       "</table>\n",
       "</div>"
      ],
      "text/plain": [
       "   zipcode  agi_stub     N2  ELDERLY  A02500  A06500\n",
       "0    10001         1   4690      840     377     880\n",
       "1    10001         2   3270      430    2119    6339\n",
       "2    10001         3   2450      350    3660   13684\n",
       "3    10001         4   1690      260    3491   16138\n",
       "4    10001         5   3390      370    6171   58408\n",
       "5    10001         6   4220      250    3548  415672\n",
       "6    10002         1  36580     4520     641    3187\n",
       "7    10002         2  14590     1210    4210   18221\n",
       "8    10002         3   7060      640    5900   31172\n",
       "9    10002         4   3990      380    4720   31540"
      ]
     },
     "execution_count": 9,
     "metadata": {},
     "output_type": "execute_result"
    }
   ],
   "source": [
    "df=tax_df[['zipcode','agi_stub','N2','ELDERLY','A02500','A06500']]\n",
    "# first 10 rows\n",
    "df.head(10)"
   ]
  },
  {
   "cell_type": "markdown",
   "metadata": {},
   "source": [
    "b. \"df2\" - the df columns plus the rows for only the lowest AGI category\n",
    "Display the first 10 rows for the df data frame and the last 8 rows of the df2 data frame."
   ]
  },
  {
   "cell_type": "code",
   "execution_count": 10,
   "metadata": {},
   "outputs": [
    {
     "data": {
      "text/html": [
       "<div>\n",
       "<style scoped>\n",
       "    .dataframe tbody tr th:only-of-type {\n",
       "        vertical-align: middle;\n",
       "    }\n",
       "\n",
       "    .dataframe tbody tr th {\n",
       "        vertical-align: top;\n",
       "    }\n",
       "\n",
       "    .dataframe thead th {\n",
       "        text-align: right;\n",
       "    }\n",
       "</style>\n",
       "<table border=\"1\" class=\"dataframe\">\n",
       "  <thead>\n",
       "    <tr style=\"text-align: right;\">\n",
       "      <th></th>\n",
       "      <th>zipcode</th>\n",
       "      <th>agi_stub</th>\n",
       "      <th>N2</th>\n",
       "      <th>ELDERLY</th>\n",
       "      <th>A02500</th>\n",
       "      <th>A06500</th>\n",
       "    </tr>\n",
       "  </thead>\n",
       "  <tbody>\n",
       "    <tr>\n",
       "      <th>9186</th>\n",
       "      <td>14895</td>\n",
       "      <td>1</td>\n",
       "      <td>2460</td>\n",
       "      <td>460</td>\n",
       "      <td>209</td>\n",
       "      <td>385</td>\n",
       "    </tr>\n",
       "    <tr>\n",
       "      <th>9192</th>\n",
       "      <td>14897</td>\n",
       "      <td>1</td>\n",
       "      <td>200</td>\n",
       "      <td>30</td>\n",
       "      <td>118</td>\n",
       "      <td>25</td>\n",
       "    </tr>\n",
       "    <tr>\n",
       "      <th>9198</th>\n",
       "      <td>14898</td>\n",
       "      <td>1</td>\n",
       "      <td>520</td>\n",
       "      <td>70</td>\n",
       "      <td>0</td>\n",
       "      <td>55</td>\n",
       "    </tr>\n",
       "    <tr>\n",
       "      <th>9204</th>\n",
       "      <td>14901</td>\n",
       "      <td>1</td>\n",
       "      <td>4720</td>\n",
       "      <td>460</td>\n",
       "      <td>160</td>\n",
       "      <td>559</td>\n",
       "    </tr>\n",
       "    <tr>\n",
       "      <th>9210</th>\n",
       "      <td>14903</td>\n",
       "      <td>1</td>\n",
       "      <td>1760</td>\n",
       "      <td>300</td>\n",
       "      <td>101</td>\n",
       "      <td>355</td>\n",
       "    </tr>\n",
       "    <tr>\n",
       "      <th>9216</th>\n",
       "      <td>14904</td>\n",
       "      <td>1</td>\n",
       "      <td>5310</td>\n",
       "      <td>650</td>\n",
       "      <td>249</td>\n",
       "      <td>748</td>\n",
       "    </tr>\n",
       "    <tr>\n",
       "      <th>9222</th>\n",
       "      <td>14905</td>\n",
       "      <td>1</td>\n",
       "      <td>1870</td>\n",
       "      <td>360</td>\n",
       "      <td>139</td>\n",
       "      <td>299</td>\n",
       "    </tr>\n",
       "    <tr>\n",
       "      <th>9228</th>\n",
       "      <td>99999</td>\n",
       "      <td>1</td>\n",
       "      <td>44410</td>\n",
       "      <td>7060</td>\n",
       "      <td>2959</td>\n",
       "      <td>7543</td>\n",
       "    </tr>\n",
       "  </tbody>\n",
       "</table>\n",
       "</div>"
      ],
      "text/plain": [
       "      zipcode  agi_stub     N2  ELDERLY  A02500  A06500\n",
       "9186    14895         1   2460      460     209     385\n",
       "9192    14897         1    200       30     118      25\n",
       "9198    14898         1    520       70       0      55\n",
       "9204    14901         1   4720      460     160     559\n",
       "9210    14903         1   1760      300     101     355\n",
       "9216    14904         1   5310      650     249     748\n",
       "9222    14905         1   1870      360     139     299\n",
       "9228    99999         1  44410     7060    2959    7543"
      ]
     },
     "execution_count": 10,
     "metadata": {},
     "output_type": "execute_result"
    }
   ],
   "source": [
    "df2=df[df['agi_stub']==1]\n",
    "# last 8 rows\n",
    "df2.tail(8)"
   ]
  }
 ],
 "metadata": {
  "kernelspec": {
   "display_name": "Python 3",
   "language": "python",
   "name": "python3"
  },
  "language_info": {
   "codemirror_mode": {
    "name": "ipython",
    "version": 3
   },
   "file_extension": ".py",
   "mimetype": "text/x-python",
   "name": "python",
   "nbconvert_exporter": "python",
   "pygments_lexer": "ipython3",
   "version": "3.7.7"
  },
  "toc": {
   "base_numbering": 1,
   "nav_menu": {},
   "number_sections": true,
   "sideBar": true,
   "skip_h1_title": false,
   "title_cell": "Table of Contents",
   "title_sidebar": "Contents",
   "toc_cell": false,
   "toc_position": {},
   "toc_section_display": true,
   "toc_window_display": false
  },
  "varInspector": {
   "cols": {
    "lenName": 16,
    "lenType": 16,
    "lenVar": 40
   },
   "kernels_config": {
    "python": {
     "delete_cmd_postfix": "",
     "delete_cmd_prefix": "del ",
     "library": "var_list.py",
     "varRefreshCmd": "print(var_dic_list())"
    },
    "r": {
     "delete_cmd_postfix": ") ",
     "delete_cmd_prefix": "rm(",
     "library": "var_list.r",
     "varRefreshCmd": "cat(var_dic_list()) "
    }
   },
   "types_to_exclude": [
    "module",
    "function",
    "builtin_function_or_method",
    "instance",
    "_Feature"
   ],
   "window_display": false
  }
 },
 "nbformat": 4,
 "nbformat_minor": 2
}
