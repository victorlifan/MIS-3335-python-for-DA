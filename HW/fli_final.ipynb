{
 "cells": [
  {
   "cell_type": "markdown",
   "metadata": {},
   "source": [
    "# Final Exam\n",
    "ANALYST: Fan Li\n",
    "\n",
    "DUE DATE: Dec 10, 2020"
   ]
  },
  {
   "cell_type": "code",
   "execution_count": 1,
   "metadata": {},
   "outputs": [],
   "source": [
    "# import libraries\n",
    "import pandas as pd\n",
    "import seaborn as sns\n",
    "import matplotlib.pyplot as plt\n",
    "import statsmodels.formula.api as smf"
   ]
  },
  {
   "cell_type": "markdown",
   "metadata": {},
   "source": [
    "###### Part 1: Data Preparation\n",
    "\n",
    "2. read in data (path varys), specify '-999' and 'spam' as missing values"
   ]
  },
  {
   "cell_type": "code",
   "execution_count": 2,
   "metadata": {
    "scrolled": false
   },
   "outputs": [],
   "source": [
    "phd=pd.read_csv(\"../data/phd_salary_final.csv\", index_col='id',na_values=[-999,'spam'])"
   ]
  },
  {
   "cell_type": "code",
   "execution_count": 3,
   "metadata": {
    "scrolled": true
   },
   "outputs": [
    {
     "data": {
      "text/html": [
       "<div>\n",
       "<style scoped>\n",
       "    .dataframe tbody tr th:only-of-type {\n",
       "        vertical-align: middle;\n",
       "    }\n",
       "\n",
       "    .dataframe tbody tr th {\n",
       "        vertical-align: top;\n",
       "    }\n",
       "\n",
       "    .dataframe thead th {\n",
       "        text-align: right;\n",
       "    }\n",
       "</style>\n",
       "<table border=\"1\" class=\"dataframe\">\n",
       "  <thead>\n",
       "    <tr style=\"text-align: right;\">\n",
       "      <th></th>\n",
       "      <th>time</th>\n",
       "      <th>tenure</th>\n",
       "      <th>publications</th>\n",
       "      <th>citations</th>\n",
       "      <th>salary</th>\n",
       "    </tr>\n",
       "    <tr>\n",
       "      <th>id</th>\n",
       "      <th></th>\n",
       "      <th></th>\n",
       "      <th></th>\n",
       "      <th></th>\n",
       "      <th></th>\n",
       "    </tr>\n",
       "  </thead>\n",
       "  <tbody>\n",
       "    <tr>\n",
       "      <th>T1291</th>\n",
       "      <td>5.0</td>\n",
       "      <td>assoc</td>\n",
       "      <td>NaN</td>\n",
       "      <td>33</td>\n",
       "      <td>47212</td>\n",
       "    </tr>\n",
       "    <tr>\n",
       "      <th>T1244</th>\n",
       "      <td>6.0</td>\n",
       "      <td>assoc</td>\n",
       "      <td>3.0</td>\n",
       "      <td>26</td>\n",
       "      <td>54511</td>\n",
       "    </tr>\n",
       "    <tr>\n",
       "      <th>T1300</th>\n",
       "      <td>6.0</td>\n",
       "      <td>assoc</td>\n",
       "      <td>3.0</td>\n",
       "      <td>36</td>\n",
       "      <td>41195</td>\n",
       "    </tr>\n",
       "    <tr>\n",
       "      <th>T1293</th>\n",
       "      <td>5.0</td>\n",
       "      <td>assoc</td>\n",
       "      <td>5.0</td>\n",
       "      <td>42</td>\n",
       "      <td>53650</td>\n",
       "    </tr>\n",
       "    <tr>\n",
       "      <th>T1265</th>\n",
       "      <td>7.0</td>\n",
       "      <td>assoc</td>\n",
       "      <td>6.0</td>\n",
       "      <td>18</td>\n",
       "      <td>53740</td>\n",
       "    </tr>\n",
       "  </tbody>\n",
       "</table>\n",
       "</div>"
      ],
      "text/plain": [
       "       time tenure  publications  citations  salary\n",
       "id                                                 \n",
       "T1291   5.0  assoc           NaN         33   47212\n",
       "T1244   6.0  assoc           3.0         26   54511\n",
       "T1300   6.0  assoc           3.0         36   41195\n",
       "T1293   5.0  assoc           5.0         42   53650\n",
       "T1265   7.0  assoc           6.0         18   53740"
      ]
     },
     "execution_count": 3,
     "metadata": {},
     "output_type": "execute_result"
    }
   ],
   "source": [
    "# check phd\n",
    "phd.head()"
   ]
  },
  {
   "cell_type": "markdown",
   "metadata": {},
   "source": [
    "3. Fill any missing values with the mean of the column in which they appear"
   ]
  },
  {
   "cell_type": "code",
   "execution_count": 4,
   "metadata": {},
   "outputs": [
    {
     "data": {
      "text/plain": [
       "time                7.0\n",
       "publications       18.0\n",
       "citations          40.0\n",
       "salary          54816.0\n",
       "dtype: float64"
      ]
     },
     "execution_count": 4,
     "metadata": {},
     "output_type": "execute_result"
    }
   ],
   "source": [
    "round(phd.mean())"
   ]
  },
  {
   "cell_type": "code",
   "execution_count": 5,
   "metadata": {
    "scrolled": true
   },
   "outputs": [
    {
     "name": "stdout",
     "output_type": "stream",
     "text": [
      "<class 'pandas.core.frame.DataFrame'>\n",
      "Index: 62 entries, T1291 to T1266\n",
      "Data columns (total 5 columns):\n",
      " #   Column        Non-Null Count  Dtype  \n",
      "---  ------        --------------  -----  \n",
      " 0   time          62 non-null     float64\n",
      " 1   tenure        62 non-null     object \n",
      " 2   publications  62 non-null     float64\n",
      " 3   citations     62 non-null     int64  \n",
      " 4   salary        62 non-null     int64  \n",
      "dtypes: float64(2), int64(2), object(1)\n",
      "memory usage: 2.9+ KB\n"
     ]
    }
   ],
   "source": [
    "phd.fillna(round(phd.mean()),inplace=True)\n",
    "phd.info()"
   ]
  },
  {
   "cell_type": "markdown",
   "metadata": {},
   "source": [
    "4. Change the tenure column type from “object” to “category.”"
   ]
  },
  {
   "cell_type": "code",
   "execution_count": 6,
   "metadata": {},
   "outputs": [
    {
     "name": "stdout",
     "output_type": "stream",
     "text": [
      "<class 'pandas.core.frame.DataFrame'>\n",
      "Index: 62 entries, T1291 to T1266\n",
      "Data columns (total 5 columns):\n",
      " #   Column        Non-Null Count  Dtype   \n",
      "---  ------        --------------  -----   \n",
      " 0   time          62 non-null     float64 \n",
      " 1   tenure        62 non-null     category\n",
      " 2   publications  62 non-null     float64 \n",
      " 3   citations     62 non-null     int64   \n",
      " 4   salary        62 non-null     int64   \n",
      "dtypes: category(1), float64(2), int64(2)\n",
      "memory usage: 2.6+ KB\n"
     ]
    }
   ],
   "source": [
    "phd['tenure']=phd['tenure'].astype('category')\n",
    "phd.info()"
   ]
  },
  {
   "cell_type": "markdown",
   "metadata": {},
   "source": [
    "###### Part 2: Subsetting, Plotting, and Aggregating\n",
    "\n",
    "5. Use a conditional statement to subset the rows representing faculty members with \n",
    "more than 40 publications. Save these rows in an object named “phd_sub” and display them"
   ]
  },
  {
   "cell_type": "code",
   "execution_count": 7,
   "metadata": {
    "scrolled": true
   },
   "outputs": [
    {
     "data": {
      "text/html": [
       "<div>\n",
       "<style scoped>\n",
       "    .dataframe tbody tr th:only-of-type {\n",
       "        vertical-align: middle;\n",
       "    }\n",
       "\n",
       "    .dataframe tbody tr th {\n",
       "        vertical-align: top;\n",
       "    }\n",
       "\n",
       "    .dataframe thead th {\n",
       "        text-align: right;\n",
       "    }\n",
       "</style>\n",
       "<table border=\"1\" class=\"dataframe\">\n",
       "  <thead>\n",
       "    <tr style=\"text-align: right;\">\n",
       "      <th></th>\n",
       "      <th>time</th>\n",
       "      <th>tenure</th>\n",
       "      <th>publications</th>\n",
       "      <th>citations</th>\n",
       "      <th>salary</th>\n",
       "    </tr>\n",
       "    <tr>\n",
       "      <th>id</th>\n",
       "      <th></th>\n",
       "      <th></th>\n",
       "      <th></th>\n",
       "      <th></th>\n",
       "      <th></th>\n",
       "    </tr>\n",
       "  </thead>\n",
       "  <tbody>\n",
       "    <tr>\n",
       "      <th>T1270</th>\n",
       "      <td>7.0</td>\n",
       "      <td>assoc</td>\n",
       "      <td>41.0</td>\n",
       "      <td>35</td>\n",
       "      <td>42162</td>\n",
       "    </tr>\n",
       "    <tr>\n",
       "      <th>T1250</th>\n",
       "      <td>10.0</td>\n",
       "      <td>full</td>\n",
       "      <td>48.0</td>\n",
       "      <td>56</td>\n",
       "      <td>61100</td>\n",
       "    </tr>\n",
       "    <tr>\n",
       "      <th>T1295</th>\n",
       "      <td>16.0</td>\n",
       "      <td>full</td>\n",
       "      <td>50.0</td>\n",
       "      <td>31</td>\n",
       "      <td>66784</td>\n",
       "    </tr>\n",
       "    <tr>\n",
       "      <th>T1290</th>\n",
       "      <td>16.0</td>\n",
       "      <td>full</td>\n",
       "      <td>50.0</td>\n",
       "      <td>55</td>\n",
       "      <td>83503</td>\n",
       "    </tr>\n",
       "    <tr>\n",
       "      <th>T1266</th>\n",
       "      <td>13.0</td>\n",
       "      <td>full</td>\n",
       "      <td>69.0</td>\n",
       "      <td>90</td>\n",
       "      <td>75822</td>\n",
       "    </tr>\n",
       "  </tbody>\n",
       "</table>\n",
       "</div>"
      ],
      "text/plain": [
       "       time tenure  publications  citations  salary\n",
       "id                                                 \n",
       "T1270   7.0  assoc          41.0         35   42162\n",
       "T1250  10.0   full          48.0         56   61100\n",
       "T1295  16.0   full          50.0         31   66784\n",
       "T1290  16.0   full          50.0         55   83503\n",
       "T1266  13.0   full          69.0         90   75822"
      ]
     },
     "execution_count": 7,
     "metadata": {},
     "output_type": "execute_result"
    }
   ],
   "source": [
    "phd_sub=phd[phd['publications']>40]\n",
    "phd_sub"
   ]
  },
  {
   "cell_type": "markdown",
   "metadata": {},
   "source": [
    "6. Use “groupby” to display the totals of all columns for each tenure category."
   ]
  },
  {
   "cell_type": "code",
   "execution_count": 8,
   "metadata": {
    "scrolled": true
   },
   "outputs": [
    {
     "data": {
      "text/html": [
       "<div>\n",
       "<style scoped>\n",
       "    .dataframe tbody tr th:only-of-type {\n",
       "        vertical-align: middle;\n",
       "    }\n",
       "\n",
       "    .dataframe tbody tr th {\n",
       "        vertical-align: top;\n",
       "    }\n",
       "\n",
       "    .dataframe thead th {\n",
       "        text-align: right;\n",
       "    }\n",
       "</style>\n",
       "<table border=\"1\" class=\"dataframe\">\n",
       "  <thead>\n",
       "    <tr style=\"text-align: right;\">\n",
       "      <th></th>\n",
       "      <th>time</th>\n",
       "      <th>publications</th>\n",
       "      <th>citations</th>\n",
       "      <th>salary</th>\n",
       "    </tr>\n",
       "    <tr>\n",
       "      <th>tenure</th>\n",
       "      <th></th>\n",
       "      <th></th>\n",
       "      <th></th>\n",
       "      <th></th>\n",
       "    </tr>\n",
       "  </thead>\n",
       "  <tbody>\n",
       "    <tr>\n",
       "      <th>assoc</th>\n",
       "      <td>7.0</td>\n",
       "      <td>41.0</td>\n",
       "      <td>35</td>\n",
       "      <td>42162</td>\n",
       "    </tr>\n",
       "    <tr>\n",
       "      <th>asst</th>\n",
       "      <td>0.0</td>\n",
       "      <td>0.0</td>\n",
       "      <td>0</td>\n",
       "      <td>0</td>\n",
       "    </tr>\n",
       "    <tr>\n",
       "      <th>full</th>\n",
       "      <td>55.0</td>\n",
       "      <td>217.0</td>\n",
       "      <td>232</td>\n",
       "      <td>287209</td>\n",
       "    </tr>\n",
       "  </tbody>\n",
       "</table>\n",
       "</div>"
      ],
      "text/plain": [
       "        time  publications  citations  salary\n",
       "tenure                                       \n",
       "assoc    7.0          41.0         35   42162\n",
       "asst     0.0           0.0          0       0\n",
       "full    55.0         217.0        232  287209"
      ]
     },
     "execution_count": 8,
     "metadata": {},
     "output_type": "execute_result"
    }
   ],
   "source": [
    "phd_sub.groupby('tenure').sum()"
   ]
  },
  {
   "cell_type": "markdown",
   "metadata": {},
   "source": [
    "7. Use seaborn to create a scatterplot (using all 62 rows of phd)"
   ]
  },
  {
   "cell_type": "code",
   "execution_count": 13,
   "metadata": {},
   "outputs": [
    {
     "data": {
      "text/plain": [
       "5.0     10\n",
       "3.0      9\n",
       "7.0      7\n",
       "4.0      6\n",
       "6.0      5\n",
       "9.0      4\n",
       "8.0      4\n",
       "16.0     3\n",
       "11.0     3\n",
       "1.0      3\n",
       "10.0     2\n",
       "13.0     2\n",
       "2.0      2\n",
       "21.0     1\n",
       "18.0     1\n",
       "Name: time, dtype: int64"
      ]
     },
     "execution_count": 13,
     "metadata": {},
     "output_type": "execute_result"
    }
   ],
   "source": [
    "phd['time'].value_counts()"
   ]
  },
  {
   "cell_type": "code",
   "execution_count": 9,
   "metadata": {
    "scrolled": true
   },
   "outputs": [
    {
     "data": {
      "image/png": "[encoded data removed]",
      "text/plain": [
       "<Figure size 432x288 with 1 Axes>"
      ]
     },
     "metadata": {
      "needs_background": "light"
     },
     "output_type": "display_data"
    }
   ],
   "source": [
    "sns.regplot(data=phd,x='time',y='publications')\n",
    "plt.title(\"Scatterplot of Time and Publications\")\n",
    "plt.ylabel(\"Publications\")\n",
    "plt.xlabel(\"Time\");"
   ]
  },
  {
   "cell_type": "markdown",
   "metadata": {},
   "source": [
    "###### Part 3: Regression\n",
    "\n",
    "8. Create a regression model using the “statsmodels formula” library we used \n",
    "previously. Start by using time, publications, and citations to predict salary. \n",
    "Based upon those results, explain in a markdown cell what changes need to be made in your \n",
    "model specification to improve the model, and run the modified code in a new code cell. Be \n",
    "sure to display the regression results for each model specification you run."
   ]
  },
  {
   "cell_type": "code",
   "execution_count": 10,
   "metadata": {
    "scrolled": false
   },
   "outputs": [
    {
     "data": {
      "text/html": [
       "<table class=\"simpletable\">\n",
       "<caption>OLS Regression Results</caption>\n",
       "<tr>\n",
       "  <th>Dep. Variable:</th>         <td>salary</td>      <th>  R-squared:         </th> <td>   0.501</td>\n",
       "</tr>\n",
       "<tr>\n",
       "  <th>Model:</th>                   <td>OLS</td>       <th>  Adj. R-squared:    </th> <td>   0.475</td>\n",
       "</tr>\n",
       "<tr>\n",
       "  <th>Method:</th>             <td>Least Squares</td>  <th>  F-statistic:       </th> <td>   19.42</td>\n",
       "</tr>\n",
       "<tr>\n",
       "  <th>Date:</th>             <td>Thu, 10 Dec 2020</td> <th>  Prob (F-statistic):</th> <td>7.73e-09</td>\n",
       "</tr>\n",
       "<tr>\n",
       "  <th>Time:</th>                 <td>14:53:16</td>     <th>  Log-Likelihood:    </th> <td> -635.10</td>\n",
       "</tr>\n",
       "<tr>\n",
       "  <th>No. Observations:</th>      <td>    62</td>      <th>  AIC:               </th> <td>   1278.</td>\n",
       "</tr>\n",
       "<tr>\n",
       "  <th>Df Residuals:</th>          <td>    58</td>      <th>  BIC:               </th> <td>   1287.</td>\n",
       "</tr>\n",
       "<tr>\n",
       "  <th>Df Model:</th>              <td>     3</td>      <th>                     </th>     <td> </td>   \n",
       "</tr>\n",
       "<tr>\n",
       "  <th>Covariance Type:</th>      <td>nonrobust</td>    <th>                     </th>     <td> </td>   \n",
       "</tr>\n",
       "</table>\n",
       "<table class=\"simpletable\">\n",
       "<tr>\n",
       "        <td></td>          <th>coef</th>     <th>std err</th>      <th>t</th>      <th>P>|t|</th>  <th>[0.025</th>    <th>0.975]</th>  \n",
       "</tr>\n",
       "<tr>\n",
       "  <th>Intercept</th>    <td> 3.897e+04</td> <td> 2394.308</td> <td>   16.275</td> <td> 0.000</td> <td> 3.42e+04</td> <td> 4.38e+04</td>\n",
       "</tr>\n",
       "<tr>\n",
       "  <th>time</th>         <td>  874.4614</td> <td>  283.895</td> <td>    3.080</td> <td> 0.003</td> <td>  306.184</td> <td> 1442.739</td>\n",
       "</tr>\n",
       "<tr>\n",
       "  <th>publications</th> <td>   93.6079</td> <td>   85.348</td> <td>    1.097</td> <td> 0.277</td> <td>  -77.235</td> <td>  264.451</td>\n",
       "</tr>\n",
       "<tr>\n",
       "  <th>citations</th>    <td>  204.0602</td> <td>   56.972</td> <td>    3.582</td> <td> 0.001</td> <td>   90.019</td> <td>  318.102</td>\n",
       "</tr>\n",
       "</table>\n",
       "<table class=\"simpletable\">\n",
       "<tr>\n",
       "  <th>Omnibus:</th>       <td> 4.126</td> <th>  Durbin-Watson:     </th> <td>   1.714</td>\n",
       "</tr>\n",
       "<tr>\n",
       "  <th>Prob(Omnibus):</th> <td> 0.127</td> <th>  Jarque-Bera (JB):  </th> <td>   3.171</td>\n",
       "</tr>\n",
       "<tr>\n",
       "  <th>Skew:</th>          <td> 0.485</td> <th>  Prob(JB):          </th> <td>   0.205</td>\n",
       "</tr>\n",
       "<tr>\n",
       "  <th>Kurtosis:</th>      <td> 3.534</td> <th>  Cond. No.          </th> <td>    130.</td>\n",
       "</tr>\n",
       "</table><br/><br/>Notes:<br/>[1] Standard Errors assume that the covariance matrix of the errors is correctly specified."
      ],
      "text/plain": [
       "<class 'statsmodels.iolib.summary.Summary'>\n",
       "\"\"\"\n",
       "                            OLS Regression Results                            \n",
       "==============================================================================\n",
       "Dep. Variable:                 salary   R-squared:                       0.501\n",
       "Model:                            OLS   Adj. R-squared:                  0.475\n",
       "Method:                 Least Squares   F-statistic:                     19.42\n",
       "Date:                Thu, 10 Dec 2020   Prob (F-statistic):           7.73e-09\n",
       "Time:                        14:53:16   Log-Likelihood:                -635.10\n",
       "No. Observations:                  62   AIC:                             1278.\n",
       "Df Residuals:                      58   BIC:                             1287.\n",
       "Df Model:                           3                                         \n",
       "Covariance Type:            nonrobust                                         \n",
       "================================================================================\n",
       "                   coef    std err          t      P>|t|      [0.025      0.975]\n",
       "--------------------------------------------------------------------------------\n",
       "Intercept     3.897e+04   2394.308     16.275      0.000    3.42e+04    4.38e+04\n",
       "time           874.4614    283.895      3.080      0.003     306.184    1442.739\n",
       "publications    93.6079     85.348      1.097      0.277     -77.235     264.451\n",
       "citations      204.0602     56.972      3.582      0.001      90.019     318.102\n",
       "==============================================================================\n",
       "Omnibus:                        4.126   Durbin-Watson:                   1.714\n",
       "Prob(Omnibus):                  0.127   Jarque-Bera (JB):                3.171\n",
       "Skew:                           0.485   Prob(JB):                        0.205\n",
       "Kurtosis:                       3.534   Cond. No.                         130.\n",
       "==============================================================================\n",
       "\n",
       "Notes:\n",
       "[1] Standard Errors assume that the covariance matrix of the errors is correctly specified.\n",
       "\"\"\""
      ]
     },
     "execution_count": 10,
     "metadata": {},
     "output_type": "execute_result"
    }
   ],
   "source": [
    "# phd is used\n",
    "# build model\n",
    "model = smf.ols(formula='salary ~ time+publications+citations', data=phd)\n",
    "results=model.fit()\n",
    "# Inspect the results\n",
    "results.summary()"
   ]
  },
  {
   "cell_type": "markdown",
   "metadata": {},
   "source": [
    "P-value of `publications` is 0.277, which is greater than 0.025 and indicates `publications` is not a statistically significant variable for predicting `salary`. Therefor it should be omitted."
   ]
  },
  {
   "cell_type": "code",
   "execution_count": 11,
   "metadata": {},
   "outputs": [
    {
     "data": {
      "text/html": [
       "<table class=\"simpletable\">\n",
       "<caption>OLS Regression Results</caption>\n",
       "<tr>\n",
       "  <th>Dep. Variable:</th>         <td>salary</td>      <th>  R-squared:         </th> <td>   0.491</td>\n",
       "</tr>\n",
       "<tr>\n",
       "  <th>Model:</th>                   <td>OLS</td>       <th>  Adj. R-squared:    </th> <td>   0.474</td>\n",
       "</tr>\n",
       "<tr>\n",
       "  <th>Method:</th>             <td>Least Squares</td>  <th>  F-statistic:       </th> <td>   28.43</td>\n",
       "</tr>\n",
       "<tr>\n",
       "  <th>Date:</th>             <td>Thu, 10 Dec 2020</td> <th>  Prob (F-statistic):</th> <td>2.26e-09</td>\n",
       "</tr>\n",
       "<tr>\n",
       "  <th>Time:</th>                 <td>14:53:16</td>     <th>  Log-Likelihood:    </th> <td> -635.74</td>\n",
       "</tr>\n",
       "<tr>\n",
       "  <th>No. Observations:</th>      <td>    62</td>      <th>  AIC:               </th> <td>   1277.</td>\n",
       "</tr>\n",
       "<tr>\n",
       "  <th>Df Residuals:</th>          <td>    59</td>      <th>  BIC:               </th> <td>   1284.</td>\n",
       "</tr>\n",
       "<tr>\n",
       "  <th>Df Model:</th>              <td>     2</td>      <th>                     </th>     <td> </td>   \n",
       "</tr>\n",
       "<tr>\n",
       "  <th>Covariance Type:</th>      <td>nonrobust</td>    <th>                     </th>     <td> </td>   \n",
       "</tr>\n",
       "</table>\n",
       "<table class=\"simpletable\">\n",
       "<tr>\n",
       "      <td></td>         <th>coef</th>     <th>std err</th>      <th>t</th>      <th>P>|t|</th>  <th>[0.025</th>    <th>0.975]</th>  \n",
       "</tr>\n",
       "<tr>\n",
       "  <th>Intercept</th> <td> 3.907e+04</td> <td> 2396.474</td> <td>   16.305</td> <td> 0.000</td> <td> 3.43e+04</td> <td> 4.39e+04</td>\n",
       "</tr>\n",
       "<tr>\n",
       "  <th>time</th>      <td> 1061.7642</td> <td>  227.176</td> <td>    4.674</td> <td> 0.000</td> <td>  607.187</td> <td> 1516.342</td>\n",
       "</tr>\n",
       "<tr>\n",
       "  <th>citations</th> <td>  212.1116</td> <td>   56.594</td> <td>    3.748</td> <td> 0.000</td> <td>   98.867</td> <td>  325.356</td>\n",
       "</tr>\n",
       "</table>\n",
       "<table class=\"simpletable\">\n",
       "<tr>\n",
       "  <th>Omnibus:</th>       <td> 5.815</td> <th>  Durbin-Watson:     </th> <td>   1.686</td>\n",
       "</tr>\n",
       "<tr>\n",
       "  <th>Prob(Omnibus):</th> <td> 0.055</td> <th>  Jarque-Bera (JB):  </th> <td>   5.045</td>\n",
       "</tr>\n",
       "<tr>\n",
       "  <th>Skew:</th>          <td> 0.531</td> <th>  Prob(JB):          </th> <td>  0.0803</td>\n",
       "</tr>\n",
       "<tr>\n",
       "  <th>Kurtosis:</th>      <td> 3.909</td> <th>  Cond. No.          </th> <td>    119.</td>\n",
       "</tr>\n",
       "</table><br/><br/>Notes:<br/>[1] Standard Errors assume that the covariance matrix of the errors is correctly specified."
      ],
      "text/plain": [
       "<class 'statsmodels.iolib.summary.Summary'>\n",
       "\"\"\"\n",
       "                            OLS Regression Results                            \n",
       "==============================================================================\n",
       "Dep. Variable:                 salary   R-squared:                       0.491\n",
       "Model:                            OLS   Adj. R-squared:                  0.474\n",
       "Method:                 Least Squares   F-statistic:                     28.43\n",
       "Date:                Thu, 10 Dec 2020   Prob (F-statistic):           2.26e-09\n",
       "Time:                        14:53:16   Log-Likelihood:                -635.74\n",
       "No. Observations:                  62   AIC:                             1277.\n",
       "Df Residuals:                      59   BIC:                             1284.\n",
       "Df Model:                           2                                         \n",
       "Covariance Type:            nonrobust                                         \n",
       "==============================================================================\n",
       "                 coef    std err          t      P>|t|      [0.025      0.975]\n",
       "------------------------------------------------------------------------------\n",
       "Intercept   3.907e+04   2396.474     16.305      0.000    3.43e+04    4.39e+04\n",
       "time        1061.7642    227.176      4.674      0.000     607.187    1516.342\n",
       "citations    212.1116     56.594      3.748      0.000      98.867     325.356\n",
       "==============================================================================\n",
       "Omnibus:                        5.815   Durbin-Watson:                   1.686\n",
       "Prob(Omnibus):                  0.055   Jarque-Bera (JB):                5.045\n",
       "Skew:                           0.531   Prob(JB):                       0.0803\n",
       "Kurtosis:                       3.909   Cond. No.                         119.\n",
       "==============================================================================\n",
       "\n",
       "Notes:\n",
       "[1] Standard Errors assume that the covariance matrix of the errors is correctly specified.\n",
       "\"\"\""
      ]
     },
     "execution_count": 11,
     "metadata": {},
     "output_type": "execute_result"
    }
   ],
   "source": [
    "# build model\n",
    "model = smf.ols(formula='salary ~ time+citations', data=phd)\n",
    "results=model.fit()\n",
    "# Inspect the results\n",
    "results.summary()"
   ]
  }
 ],
 "metadata": {
  "kernelspec": {
   "display_name": "Python 3",
   "language": "python",
   "name": "python3"
  },
  "language_info": {
   "codemirror_mode": {
    "name": "ipython",
    "version": 3
   },
   "file_extension": ".py",
   "mimetype": "text/x-python",
   "name": "python",
   "nbconvert_exporter": "python",
   "pygments_lexer": "ipython3",
   "version": "3.7.7"
  },
  "toc": {
   "base_numbering": 1,
   "nav_menu": {},
   "number_sections": true,
   "sideBar": true,
   "skip_h1_title": false,
   "title_cell": "Table of Contents",
   "title_sidebar": "Contents",
   "toc_cell": false,
   "toc_position": {},
   "toc_section_display": true,
   "toc_window_display": false
  },
  "varInspector": {
   "cols": {
    "lenName": 16,
    "lenType": 16,
    "lenVar": 40
   },
   "kernels_config": {
    "python": {
     "delete_cmd_postfix": "",
     "delete_cmd_prefix": "del ",
     "library": "var_list.py",
     "varRefreshCmd": "print(var_dic_list())"
    },
    "r": {
     "delete_cmd_postfix": ") ",
     "delete_cmd_prefix": "rm(",
     "library": "var_list.r",
     "varRefreshCmd": "cat(var_dic_list()) "
    }
   },
   "types_to_exclude": [
    "module",
    "function",
    "builtin_function_or_method",
    "instance",
    "_Feature"
   ],
   "window_display": false
  }
 },
 "nbformat": 4,
 "nbformat_minor": 2
}
