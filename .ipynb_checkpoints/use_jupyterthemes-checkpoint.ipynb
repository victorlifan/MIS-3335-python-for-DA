{
 "cells": [
  {
   "cell_type": "markdown",
   "metadata": {},
   "source": [
    "# Changing themes using the jupyterthemes package\n",
    "\n",
    "https://github.com/dunovank/jupyter-themes\n",
    "\n",
    "## Install the package for the first time"
   ]
  },
  {
   "cell_type": "code",
   "execution_count": 1,
   "metadata": {
    "collapsed": true
   },
   "outputs": [
    {
     "name": "stdout",
     "output_type": "stream",
     "text": [
      "Collecting jupyterthemes\n",
      "  Using cached jupyterthemes-0.20.0-py2.py3-none-any.whl (7.0 MB)\n",
      "Requirement already satisfied: matplotlib>=1.4.3 in c:\\users\\mike\\anaconda3\\lib\\site-packages (from jupyterthemes) (3.2.2)\n",
      "Requirement already satisfied: jupyter-core in c:\\users\\mike\\anaconda3\\lib\\site-packages (from jupyterthemes) (4.6.3)\n",
      "Requirement already satisfied: notebook>=5.6.0 in c:\\users\\mike\\anaconda3\\lib\\site-packages (from jupyterthemes) (6.0.3)\n",
      "Collecting lesscpy>=0.11.2\n",
      "  Downloading lesscpy-0.14.0-py2.py3-none-any.whl (46 kB)\n",
      "Requirement already satisfied: ipython>=5.4.1 in c:\\users\\mike\\anaconda3\\lib\\site-packages (from jupyterthemes) (7.16.1)\n",
      "Requirement already satisfied: pyparsing!=2.0.4,!=2.1.2,!=2.1.6,>=2.0.1 in c:\\users\\mike\\anaconda3\\lib\\site-packages (from matplotlib>=1.4.3->jupyterthemes) (2.4.7)\n",
      "Requirement already satisfied: cycler>=0.10 in c:\\users\\mike\\anaconda3\\lib\\site-packages (from matplotlib>=1.4.3->jupyterthemes) (0.10.0)\n",
      "Requirement already satisfied: kiwisolver>=1.0.1 in c:\\users\\mike\\anaconda3\\lib\\site-packages (from matplotlib>=1.4.3->jupyterthemes) (1.2.0)\n",
      "Requirement already satisfied: python-dateutil>=2.1 in c:\\users\\mike\\anaconda3\\lib\\site-packages (from matplotlib>=1.4.3->jupyterthemes) (2.8.1)\n",
      "Requirement already satisfied: numpy>=1.11 in c:\\users\\mike\\anaconda3\\lib\\site-packages (from matplotlib>=1.4.3->jupyterthemes) (1.18.5)\n",
      "Requirement already satisfied: traitlets in c:\\users\\mike\\anaconda3\\lib\\site-packages (from jupyter-core->jupyterthemes) (4.3.3)\n",
      "Requirement already satisfied: pywin32>=1.0; sys_platform == \"win32\" in c:\\users\\mike\\anaconda3\\lib\\site-packages (from jupyter-core->jupyterthemes) (227)\n",
      "Requirement already satisfied: ipykernel in c:\\users\\mike\\anaconda3\\lib\\site-packages (from notebook>=5.6.0->jupyterthemes) (5.3.2)\n",
      "Requirement already satisfied: Send2Trash in c:\\users\\mike\\anaconda3\\lib\\site-packages (from notebook>=5.6.0->jupyterthemes) (1.5.0)\n",
      "Requirement already satisfied: jupyter-client>=5.3.4 in c:\\users\\mike\\anaconda3\\lib\\site-packages (from notebook>=5.6.0->jupyterthemes) (6.1.6)\n",
      "Requirement already satisfied: nbconvert in c:\\users\\mike\\anaconda3\\lib\\site-packages (from notebook>=5.6.0->jupyterthemes) (5.6.1)\n",
      "Requirement already satisfied: jinja2 in c:\\users\\mike\\anaconda3\\lib\\site-packages (from notebook>=5.6.0->jupyterthemes) (2.11.2)\n",
      "Requirement already satisfied: prometheus-client in c:\\users\\mike\\anaconda3\\lib\\site-packages (from notebook>=5.6.0->jupyterthemes) (0.8.0)\n",
      "Requirement already satisfied: nbformat in c:\\users\\mike\\anaconda3\\lib\\site-packages (from notebook>=5.6.0->jupyterthemes) (5.0.7)\n",
      "Requirement already satisfied: terminado>=0.8.1 in c:\\users\\mike\\anaconda3\\lib\\site-packages (from notebook>=5.6.0->jupyterthemes) (0.8.3)\n",
      "Requirement already satisfied: ipython-genutils in c:\\users\\mike\\anaconda3\\lib\\site-packages (from notebook>=5.6.0->jupyterthemes) (0.2.0)\n",
      "Requirement already satisfied: pyzmq>=17 in c:\\users\\mike\\anaconda3\\lib\\site-packages (from notebook>=5.6.0->jupyterthemes) (19.0.1)\n",
      "Requirement already satisfied: tornado>=5.0 in c:\\users\\mike\\anaconda3\\lib\\site-packages (from notebook>=5.6.0->jupyterthemes) (6.0.4)\n",
      "Requirement already satisfied: ply in c:\\users\\mike\\anaconda3\\lib\\site-packages (from lesscpy>=0.11.2->jupyterthemes) (3.11)\n",
      "Requirement already satisfied: six in c:\\users\\mike\\anaconda3\\lib\\site-packages (from lesscpy>=0.11.2->jupyterthemes) (1.15.0)\n",
      "Requirement already satisfied: jedi>=0.10 in c:\\users\\mike\\anaconda3\\lib\\site-packages (from ipython>=5.4.1->jupyterthemes) (0.17.1)\n",
      "Requirement already satisfied: setuptools>=18.5 in c:\\users\\mike\\anaconda3\\lib\\site-packages (from ipython>=5.4.1->jupyterthemes) (49.2.0.post20200714)\n",
      "Requirement already satisfied: backcall in c:\\users\\mike\\anaconda3\\lib\\site-packages (from ipython>=5.4.1->jupyterthemes) (0.2.0)\n",
      "Requirement already satisfied: prompt-toolkit!=3.0.0,!=3.0.1,<3.1.0,>=2.0.0 in c:\\users\\mike\\anaconda3\\lib\\site-packages (from ipython>=5.4.1->jupyterthemes) (3.0.5)\n",
      "Requirement already satisfied: decorator in c:\\users\\mike\\anaconda3\\lib\\site-packages (from ipython>=5.4.1->jupyterthemes) (4.4.2)\n",
      "Requirement already satisfied: colorama; sys_platform == \"win32\" in c:\\users\\mike\\anaconda3\\lib\\site-packages (from ipython>=5.4.1->jupyterthemes) (0.4.3)\n",
      "Requirement already satisfied: pickleshare in c:\\users\\mike\\anaconda3\\lib\\site-packages (from ipython>=5.4.1->jupyterthemes) (0.7.5)\n",
      "Requirement already satisfied: pygments in c:\\users\\mike\\anaconda3\\lib\\site-packages (from ipython>=5.4.1->jupyterthemes) (2.6.1)\n",
      "Requirement already satisfied: entrypoints>=0.2.2 in c:\\users\\mike\\anaconda3\\lib\\site-packages (from nbconvert->notebook>=5.6.0->jupyterthemes) (0.3)\n",
      "Requirement already satisfied: defusedxml in c:\\users\\mike\\anaconda3\\lib\\site-packages (from nbconvert->notebook>=5.6.0->jupyterthemes) (0.6.0)\n",
      "Requirement already satisfied: bleach in c:\\users\\mike\\anaconda3\\lib\\site-packages (from nbconvert->notebook>=5.6.0->jupyterthemes) (3.1.5)\n",
      "Requirement already satisfied: mistune<2,>=0.8.1 in c:\\users\\mike\\anaconda3\\lib\\site-packages (from nbconvert->notebook>=5.6.0->jupyterthemes) (0.8.4)\n",
      "Requirement already satisfied: pandocfilters>=1.4.1 in c:\\users\\mike\\anaconda3\\lib\\site-packages (from nbconvert->notebook>=5.6.0->jupyterthemes) (1.4.2)\n",
      "Requirement already satisfied: testpath in c:\\users\\mike\\anaconda3\\lib\\site-packages (from nbconvert->notebook>=5.6.0->jupyterthemes) (0.4.4)\n",
      "Requirement already satisfied: MarkupSafe>=0.23 in c:\\users\\mike\\anaconda3\\lib\\site-packages (from jinja2->notebook>=5.6.0->jupyterthemes) (1.1.1)\n",
      "Requirement already satisfied: jsonschema!=2.5.0,>=2.4 in c:\\users\\mike\\anaconda3\\lib\\site-packages (from nbformat->notebook>=5.6.0->jupyterthemes) (3.2.0)\n",
      "Requirement already satisfied: parso<0.8.0,>=0.7.0 in c:\\users\\mike\\anaconda3\\lib\\site-packages (from jedi>=0.10->ipython>=5.4.1->jupyterthemes) (0.7.0)\n",
      "Requirement already satisfied: wcwidth in c:\\users\\mike\\anaconda3\\lib\\site-packages (from prompt-toolkit!=3.0.0,!=3.0.1,<3.1.0,>=2.0.0->ipython>=5.4.1->jupyterthemes) (0.2.5)\n",
      "Requirement already satisfied: webencodings in c:\\users\\mike\\anaconda3\\lib\\site-packages (from bleach->nbconvert->notebook>=5.6.0->jupyterthemes) (0.5.1)\n",
      "Requirement already satisfied: packaging in c:\\users\\mike\\anaconda3\\lib\\site-packages (from bleach->nbconvert->notebook>=5.6.0->jupyterthemes) (20.4)\n",
      "Requirement already satisfied: attrs>=17.4.0 in c:\\users\\mike\\anaconda3\\lib\\site-packages (from jsonschema!=2.5.0,>=2.4->nbformat->notebook>=5.6.0->jupyterthemes) (19.3.0)\n",
      "Requirement already satisfied: pyrsistent>=0.14.0 in c:\\users\\mike\\anaconda3\\lib\\site-packages (from jsonschema!=2.5.0,>=2.4->nbformat->notebook>=5.6.0->jupyterthemes) (0.16.0)\n",
      "Installing collected packages: lesscpy, jupyterthemes\n",
      "Successfully installed jupyterthemes-0.20.0 lesscpy-0.14.0\n"
     ]
    }
   ],
   "source": [
    "# To install the jupyterthemes package for the first time, run this cell\n",
    "# Be patient! This takes a minute or two and will generate a great deal of text \n",
    "#   on the screen as it completes.\n",
    "!pip install jupyterthemes\n"
   ]
  },
  {
   "cell_type": "code",
   "execution_count": null,
   "metadata": {},
   "outputs": [],
   "source": [
    "# upgrade an earlier installation to the latest version\n",
    "# upgrade to latest version\n",
    "!pip install --upgrade jupyterthemes"
   ]
  },
  {
   "cell_type": "markdown",
   "metadata": {},
   "source": [
    "## Use a theme across all notebooks\n",
    "1. Run the cell below. Change the name of the theme or add/remove options as desired.\n",
    "2. Close the current notebook.\n",
    "3. Quit and restart Jupyter Notebook.\n",
    "\n",
    "Running this code changes the setup configuration for your Jupyter Notebook installation, so any notebooks you open will be displayed using the new theme."
   ]
  },
  {
   "cell_type": "code",
   "execution_count": 2,
   "metadata": {},
   "outputs": [],
   "source": [
    "# set the theme to solarizedd and display the toolbar, filename, and kernal logo\n",
    "!jt -t solarizedd -T -N -kl"
   ]
  },
  {
   "cell_type": "code",
   "execution_count": 1,
   "metadata": {},
   "outputs": [],
   "source": [
    "# set the theme to gruvboxd and display the toolbar, filename, and kernal logo\n",
    "!jt -t gruvboxd -T -N -kl"
   ]
  },
  {
   "cell_type": "code",
   "execution_count": 1,
   "metadata": {},
   "outputs": [],
   "source": [
    "# set the theme to onedork and display the toolbar, filename, and kernal logo\n",
    "!jt -t onedork -T -N -kl"
   ]
  },
  {
   "cell_type": "markdown",
   "metadata": {},
   "source": [
    "<p style=\"text-align:center;font-size:200%;color:darkgreen\">If this theme works for you and you want to keep using it, you are done!</p>\n",
    "\n",
    "---\n",
    "---"
   ]
  },
  {
   "cell_type": "markdown",
   "metadata": {},
   "source": [
    "## Reset to default theme\n",
    "1. Run the cell below\n",
    "2. Close the current notebook.\n",
    "3. Quit and restart Jupyter Notebook."
   ]
  },
  {
   "cell_type": "code",
   "execution_count": 1,
   "metadata": {},
   "outputs": [
    {
     "name": "stdout",
     "output_type": "stream",
     "text": [
      "Reset css and font defaults in:\n",
      "C:\\Users\\victo\\.jupyter\\custom &\n",
      "C:\\Users\\victo\\AppData\\Roaming\\jupyter\\nbextensions\n"
     ]
    }
   ],
   "source": [
    "!jt -r"
   ]
  },
  {
   "cell_type": "code",
   "execution_count": 2,
   "metadata": {},
   "outputs": [
    {
     "name": "stdout",
     "output_type": "stream",
     "text": [
      "Oscar\n",
      "Blandston \n",
      "\n",
      "Bert\n",
      "Blandston \n",
      "\n",
      "Ernie\n",
      "Blandston \n",
      "\n",
      "Big Bird\n",
      "Blandston \n",
      "\n",
      "\n",
      "50.502\n"
     ]
    }
   ],
   "source": [
    "# Test code with different types of code to see the difference\n",
    "# In the default theme:\n",
    "#     comments and numbers are green\n",
    "#     keywords (like \"for\" and \"in\" below) are in bold green\n",
    "#     strings are red\n",
    "#     operators are magenta(?)\n",
    "\n",
    "l_name = \"Blandston\"\n",
    "wage = 12.55\n",
    "days = 4\n",
    "neighbors = [\"Oscar\",\"Bert\",\"Ernie\",\"Big Bird\"]\n",
    "\n",
    "# This is another comment for trial purposes\n",
    "for muppet in neighbors:\n",
    "    print(muppet)\n",
    "    print(l_name,'\\n')\n",
    "    \n",
    "print()\n",
    "print((days*wage)/100 + 50.0)\n"
   ]
  },
  {
   "cell_type": "code",
   "execution_count": 1,
   "metadata": {},
   "outputs": [
    {
     "name": "stdout",
     "output_type": "stream",
     "text": [
      "Available Themes: \n",
      "   chesterish\n",
      "   grade3\n",
      "   gruvboxd\n",
      "   gruvboxl\n",
      "   monokai\n",
      "   oceans16\n",
      "   onedork\n",
      "   solarizedd\n",
      "   solarizedl\n"
     ]
    }
   ],
   "source": [
    "# Get a list of themes available in jupyterthemes package\n",
    "!jt -l"
   ]
  },
  {
   "cell_type": "code",
   "execution_count": null,
   "metadata": {},
   "outputs": [],
   "source": [
    "# Other options\n",
    "# Add any options to the above code or copy these code snippets to a \n",
    "#    separate cell before running.\n",
    "#**************************************************************************\n",
    "# list available themes\n",
    "# onedork | grade3 | oceans16 | chesterish | monokai | solarizedl | solarizedd\n",
    "!jt -l\n",
    "\n",
    "# select theme...\n",
    "!jt -t chesterish\n",
    "\n",
    "# restore default theme\n",
    "# NOTE: Need to delete browser cache after running jt -r\n",
    "# If this doesn't work, try starting a new notebook session.\n",
    "!jt -r\n",
    "\n",
    "# toggle toolbar ON and notebook name ON\n",
    "!jt -t grade3 -T -N\n",
    "\n",
    "# toggle kernel logo.  kernel logo is in same container as name\n",
    "# toggled with -N.  That means that making the kernel logo visible is\n",
    "# pointless without also making the name visible\n",
    "!jt -t grade3 -N -kl\n",
    "\n",
    "# set code font to 'Roboto Mono' 12pt\n",
    "# (see monospace font table below)\n",
    "!jt -t onedork -f roboto -fs 12\n",
    "\n",
    "# set code font to Fira Mono, 11.5pt\n",
    "# 3digit font-sizes get converted into float (115-->11.5)\n",
    "# 2digit font-sizes > 25 get converted into float (85-->8.5)\n",
    "!jt -t solarizedd -f fira -fs 115\n",
    "\n",
    "# set font/font-size of markdown (text cells) and notebook (interface)\n",
    "# see sans-serif & serif font tables below\n",
    "!jt -t oceans16 -tf merriserif -tfs 10 -nf ptsans -nfs 13\n",
    "\n",
    "# adjust cell width (% screen width) and line height\n",
    "!jt -t chesterish -cellw 90% -lineh 170\n",
    "\n",
    "# or set the cell width in pixels by leaving off the '%' sign\n",
    "!jt -t solarizedl -cellw 860\n",
    "\n",
    "# fix the container-margins on the intro page (defaults to 'auto')\n",
    "!jt -t monokai -m 200\n",
    "\n",
    "# adjust cursor width (in px) and make cursor red\n",
    "# options: b (blue), o (orange), r (red), p (purple), g (green), x (font color)\n",
    "!jt -t oceans16 -cursc r -cursw 5\n",
    "\n",
    "# choose alternate prompt layout (narrower/no numbers)\n",
    "!jt -t grade3 -altp\n",
    "\n",
    "# my two go-to styles (this note by the author of jupyterthemes)\n",
    "# dark\n",
    "!jt -t onedork -fs 95 -altp -tfs 11 -nfs 115 -cellw 88% -T\n",
    "# light\n",
    "!jt -t grade3 -fs 95 -altp -tfs 11 -nfs 115 -cellw 88% -T\n",
    "\n"
   ]
  }
 ],
 "metadata": {
  "kernelspec": {
   "display_name": "Python 3",
   "language": "python",
   "name": "python3"
  },
  "language_info": {
   "codemirror_mode": {
    "name": "ipython",
    "version": 3
   },
   "file_extension": ".py",
   "mimetype": "text/x-python",
   "name": "python",
   "nbconvert_exporter": "python",
   "pygments_lexer": "ipython3",
   "version": "3.7.7"
  },
  "toc": {
   "base_numbering": 1,
   "nav_menu": {},
   "number_sections": true,
   "sideBar": true,
   "skip_h1_title": false,
   "title_cell": "Table of Contents",
   "title_sidebar": "Contents",
   "toc_cell": false,
   "toc_position": {},
   "toc_section_display": true,
   "toc_window_display": false
  },
  "varInspector": {
   "cols": {
    "lenName": 16,
    "lenType": 16,
    "lenVar": 40
   },
   "kernels_config": {
    "python": {
     "delete_cmd_postfix": "",
     "delete_cmd_prefix": "del ",
     "library": "var_list.py",
     "varRefreshCmd": "print(var_dic_list())"
    },
    "r": {
     "delete_cmd_postfix": ") ",
     "delete_cmd_prefix": "rm(",
     "library": "var_list.r",
     "varRefreshCmd": "cat(var_dic_list()) "
    }
   },
   "types_to_exclude": [
    "module",
    "function",
    "builtin_function_or_method",
    "instance",
    "_Feature"
   ],
   "window_display": false
  }
 },
 "nbformat": 4,
 "nbformat_minor": 2
}
