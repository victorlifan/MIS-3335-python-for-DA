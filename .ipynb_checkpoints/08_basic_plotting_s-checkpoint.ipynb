{
 "cells": [
  {
   "cell_type": "markdown",
   "metadata": {},
   "source": [
    "# 08 Basic plotting with seaborn\n",
    "File(s) needed: none\n",
    "\n",
    "There are two types of plots: exploratory and explanatory. **Exploratory** plots are useful when you are trying to determine what direction you pursue in your analysis. They can be simple plots, but they still need enough detail to be self-documenting. Plotting data on a graph is an important part of preparing it for analysis. Descriptive statistics are helpful but don't show the whole picture. Our first example will show why.\n",
    "\n",
    "**Explanatory** plots are used to tell an audience about the results of your analysis. These plots are usually more complete and can even be \"publication ready\" in format.\n",
    "\n",
    "There are many libraries available for plotting in Python. The Seaborn library is built upon the matplotlib package, and there are even some basic plotting methods built into pandas objects. \n",
    "\n",
    "We will focus on using the seaborn library to produce exploratory plots as part of the process of learning about our data. "
   ]
  },
  {
   "cell_type": "markdown",
   "metadata": {},
   "source": [
    "## Why bother with plotting our data?\n",
    "Anscombe's quartet shows why we have to visualize data. Each of four sets of two continuous variables has the same\n",
    "- mean\n",
    "- variance\n",
    "- correlation\n",
    "- regression line.\n",
    "\n",
    "When we plot them, however, we can see that they are definitely not the same.\n",
    "\n",
    "The Anscombe data is contained in the \"seaborn\" library, so we will need to import the library to access the data, plus we will use its plotting functionality a little later. The standard way to import seaborn is with the `sns` alias. The `load_dataset()` method is only used to retrieve datasets that are part of the seaborn library."
   ]
  },
  {
   "cell_type": "code",
   "execution_count": 1,
   "metadata": {
    "scrolled": true
   },
   "outputs": [],
   "source": [
    "# import seaborn library and get the data\n"
   ]
  },
  {
   "cell_type": "code",
   "execution_count": 2,
   "metadata": {},
   "outputs": [],
   "source": [
    "# Create a subset of the Anscombe data using just the rows from data set I\n"
   ]
  },
  {
   "cell_type": "code",
   "execution_count": 3,
   "metadata": {},
   "outputs": [],
   "source": [
    "# Create the rest of the subsets of the Anscombe data\n"
   ]
  },
  {
   "cell_type": "markdown",
   "metadata": {},
   "source": [
    "Let's look at the descriptive stats for each dataset in the Anscombe set to confirm they have the same values. "
   ]
  },
  {
   "cell_type": "code",
   "execution_count": 4,
   "metadata": {
    "scrolled": true
   },
   "outputs": [
    {
     "ename": "NameError",
     "evalue": "name 'dataset_1' is not defined",
     "output_type": "error",
     "traceback": [
      "\u001b[1;31m---------------------------------------------------------------------------\u001b[0m",
      "\u001b[1;31mNameError\u001b[0m                                 Traceback (most recent call last)",
      "\u001b[1;32m<ipython-input-4-f949c02da28d>\u001b[0m in \u001b[0;36m<module>\u001b[1;34m\u001b[0m\n\u001b[0;32m      1\u001b[0m \u001b[1;31m# Comparison of descriptive stats for datasets I - IV\u001b[0m\u001b[1;33m\u001b[0m\u001b[1;33m\u001b[0m\u001b[1;33m\u001b[0m\u001b[0m\n\u001b[1;32m----> 2\u001b[1;33m \u001b[0mprint\u001b[0m\u001b[1;33m(\u001b[0m\u001b[1;34m'dataset_1\\n'\u001b[0m\u001b[1;33m,\u001b[0m\u001b[0mdataset_1\u001b[0m\u001b[1;33m.\u001b[0m\u001b[0mdescribe\u001b[0m\u001b[1;33m(\u001b[0m\u001b[1;33m)\u001b[0m\u001b[1;33m,\u001b[0m\u001b[1;34m'\\n'\u001b[0m\u001b[1;33m)\u001b[0m\u001b[1;33m\u001b[0m\u001b[1;33m\u001b[0m\u001b[0m\n\u001b[0m\u001b[0;32m      3\u001b[0m \u001b[0mprint\u001b[0m\u001b[1;33m(\u001b[0m\u001b[1;34m'dataset_2\\n'\u001b[0m\u001b[1;33m,\u001b[0m\u001b[0mdataset_2\u001b[0m\u001b[1;33m.\u001b[0m\u001b[0mdescribe\u001b[0m\u001b[1;33m(\u001b[0m\u001b[1;33m)\u001b[0m\u001b[1;33m,\u001b[0m\u001b[1;34m'\\n'\u001b[0m\u001b[1;33m)\u001b[0m\u001b[1;33m\u001b[0m\u001b[1;33m\u001b[0m\u001b[0m\n\u001b[0;32m      4\u001b[0m \u001b[0mprint\u001b[0m\u001b[1;33m(\u001b[0m\u001b[1;34m'dataset_3\\n'\u001b[0m\u001b[1;33m,\u001b[0m\u001b[0mdataset_3\u001b[0m\u001b[1;33m.\u001b[0m\u001b[0mdescribe\u001b[0m\u001b[1;33m(\u001b[0m\u001b[1;33m)\u001b[0m\u001b[1;33m,\u001b[0m\u001b[1;34m'\\n'\u001b[0m\u001b[1;33m)\u001b[0m\u001b[1;33m\u001b[0m\u001b[1;33m\u001b[0m\u001b[0m\n\u001b[0;32m      5\u001b[0m \u001b[0mprint\u001b[0m\u001b[1;33m(\u001b[0m\u001b[1;34m'dataset_4\\n'\u001b[0m\u001b[1;33m,\u001b[0m\u001b[0mdataset_4\u001b[0m\u001b[1;33m.\u001b[0m\u001b[0mdescribe\u001b[0m\u001b[1;33m(\u001b[0m\u001b[1;33m)\u001b[0m\u001b[1;33m,\u001b[0m\u001b[1;34m'\\n'\u001b[0m\u001b[1;33m)\u001b[0m\u001b[1;33m\u001b[0m\u001b[1;33m\u001b[0m\u001b[0m\n",
      "\u001b[1;31mNameError\u001b[0m: name 'dataset_1' is not defined"
     ]
    }
   ],
   "source": [
    "# Comparison of descriptive stats for datasets I - IV\n",
    "print('dataset_1\\n',dataset_1.describe(),'\\n')\n",
    "print('dataset_2\\n',dataset_2.describe(),'\\n')\n",
    "print('dataset_3\\n',dataset_3.describe(),'\\n')\n",
    "print('dataset_4\\n',dataset_4.describe(),'\\n')"
   ]
  },
  {
   "cell_type": "markdown",
   "metadata": {},
   "source": [
    "Plot each of the Anscombe datasets as a scatterplot to see the differences.\n"
   ]
  },
  {
   "cell_type": "code",
   "execution_count": null,
   "metadata": {},
   "outputs": [],
   "source": [
    "# First dataset\n"
   ]
  },
  {
   "cell_type": "code",
   "execution_count": null,
   "metadata": {},
   "outputs": [],
   "source": [
    "# Second dataset\n"
   ]
  },
  {
   "cell_type": "code",
   "execution_count": null,
   "metadata": {},
   "outputs": [],
   "source": [
    "# Third dataset\n"
   ]
  },
  {
   "cell_type": "code",
   "execution_count": null,
   "metadata": {
    "scrolled": true
   },
   "outputs": [],
   "source": [
    "# Fourth dataset\n"
   ]
  },
  {
   "cell_type": "markdown",
   "metadata": {},
   "source": [
    "So, even though these four sets of data produce the same descriptive statistics, they are very different. But that is only apparent if we plot them.\n",
    "<p></p>\n",
    "<div style=\"padding:20px;font-size:150%;color:maroon;background-color:palegoldenrod\">\n",
    "    <p style=\"text-align:center\">Avoid surprises. Always plot your data to see what it looks like.</p>\n",
    "</div>\n",
    "<p></p>"
   ]
  },
  {
   "cell_type": "markdown",
   "metadata": {},
   "source": [
    "## Another important point about plotting\n",
    "<p></p>\n",
    "<div style=\"padding:20px;font-size:250%;color:maroon;background-color:palegoldenrod\">\n",
    "    <p style=\"text-align:center\">Ability to create a plot</p><p style=\"text-align:center\">!=</p><p style=\"text-align:center\">Need to create a plot</p>\n",
    "</div>\n",
    "<p></p>\n",
    "There are many types of plots out there. The types of plots you are expected to use often change depending upon the field in which you are working. Only use a plot if it makes sense as part of your analysis. Just because you can create a fancy plot doesn't mean you should do it, unless it adds value to the analysis.\n",
    "\n",
    "We are going to skip some of the more exotic plots shown in the text and focus on the ones you will most likely need when exploring a dataset: \n",
    "- scatterplot,\n",
    "- bar plot, \n",
    "- histogram, and\n",
    "- box and whiskers plot."
   ]
  },
  {
   "cell_type": "markdown",
   "metadata": {},
   "source": [
    "# Seaborn graphics\n",
    "The `matplotlib` library can be thought of as the core foundational plotting tool in Python. The `seaborn` library builds on `matplotlib` by providing a higher-level interface for statistical graphics. It allows you to create more professional-looking plots with very little coding.\n",
    "\n",
    "From the Seaborn documentation:\n",
    ">Seaborn aims to make visualization a central part of exploring and understanding data. Its dataset-oriented plotting functions operate on dataframes and arrays containing whole datasets and internally perform the necessary semantic mapping and statistical aggregation to produce informative plots.\n",
    "\n",
    "https://seaborn.pydata.org/index.html\n",
    "\n",
    "This will make more sense after a few examples.\n",
    "\n",
    "---\n",
    "## Global formatting options\n",
    "There are options that can be set for each of the plots below, but you might want to set some global options to use on all your plots in the notebook. Maybe you like larger text in your plots or you prefer to use a different set of colors. If that is ths case, you can use one of the pre-defined sets of colors called a _palette_. \n",
    "\n",
    "The predefined seaborn color palettes are:\n",
    "- deep\n",
    "- muted\n",
    "- bright\n",
    "- pastel\n",
    "- dark\n",
    "- colorblind\n",
    "\n",
    "This is especially a good idea if you will be sharing any of your graphics with others. In that case, you might want to use the `colorblind` palette to potentially avoid any issues.\n",
    "\n",
    "Overall styles included with Seaborn include\n",
    "- dark\n",
    "- white\n",
    "- darkgrid\n",
    "- whitegrid\n",
    "- ticks\n",
    "\n",
    "More information on using these styles is available in the seaborn documentation.\n",
    "\n",
    "You can also change the font, font size, and other options. See the page https://seaborn.pydata.org/generated/seaborn.set.html for more on the available options."
   ]
  },
  {
   "cell_type": "code",
   "execution_count": null,
   "metadata": {},
   "outputs": [],
   "source": [
    "# DON'T RUN THIS YET!\n",
    "# You can use sns.set() to change global options for your seaborn plots.\n",
    "# Create the next few plots using the default settings, then come back\n",
    "# here to run this cell and then recreate the plots to see the differences.\n",
    "sns.set(palette='colorblind', style='whitegrid', font_scale=1.2)"
   ]
  },
  {
   "cell_type": "markdown",
   "metadata": {},
   "source": [
    "# Examples with `tips` data"
   ]
  },
  {
   "cell_type": "code",
   "execution_count": null,
   "metadata": {
    "scrolled": true
   },
   "outputs": [],
   "source": [
    "# load a copy of the tips dataset from the seaborn library for our examples\n"
   ]
  },
  {
   "cell_type": "markdown",
   "metadata": {},
   "source": [
    "# Univariate data\n",
    "When we only have one variable of interest, there isn't much we can do. You can't plot one variable in two dimensions. What we do, therefore, is count the number of times each data point occurs and plot the counts. We typically call those counts **_frequencies_**.\n",
    "\n",
    "How we get those frequencies depends upon whether we have _categorical_ or _continuous_ data."
   ]
  },
  {
   "cell_type": "markdown",
   "metadata": {},
   "source": [
    "## Categorical data: Bar charts\n",
    "For categorical data, seaborn provides a function called `countplot()`. This method counts the occurances of the values in the specified column and plots a bar chart based on the frequencies. Just specify the dataframe (`data =` argument) and the column of interest (`x=` argument).\n"
   ]
  },
  {
   "cell_type": "code",
   "execution_count": null,
   "metadata": {
    "scrolled": false
   },
   "outputs": [],
   "source": [
    "# Use the countplot method to plot tips by the day\n"
   ]
  },
  {
   "cell_type": "code",
   "execution_count": null,
   "metadata": {},
   "outputs": [],
   "source": [
    "# Plot horizontal bars by specifying a y value (instead of x).\n"
   ]
  },
  {
   "cell_type": "markdown",
   "metadata": {},
   "source": [
    "---\n",
    "<p style=\"font-size:125%;color:darkred;background:palegoldenrod;padding:25px\">Now go back and run the cell with the <span style=\"Color:black\">sns.set(palette='colorblind', style='whitegrid', font_scale=1.2)</span> statement in it. Then rerun these last two plots to see the difference.</p>\n",
    "\n",
    "If you want to return to the default settings, run the command\n",
    "```\n",
    "sns.set()\n",
    "```\n",
    "in a cell and the settings we changed will be reset to the default values.\n",
    "\n",
    "---"
   ]
  },
  {
   "cell_type": "markdown",
   "metadata": {},
   "source": [
    "## Continuous data: Histogram\n",
    "**Histograms** are probably the most common way to look at a single continuous variable. When the data is continuous, that means we have to convert it into data we can count. This is called **_discretizing_** the data (i.e., converting it to discrete data). We use a process called **binning** to create ranges (i.e., the bins) to group data points together. Then we can count the number of data points in each bin and plot the bin frequencies.\n",
    "\n",
    "We can specify the number of bins ourselves or use seaborn's built-in functionality to do the binning for us. First, let's have seaborn do a quick histogram for us."
   ]
  },
  {
   "cell_type": "code",
   "execution_count": null,
   "metadata": {},
   "outputs": [],
   "source": [
    "# Quick histogram with defaults\n"
   ]
  },
  {
   "cell_type": "markdown",
   "metadata": {},
   "source": [
    "- The default distplot will plot both a histogram and a density plot (using a kernel\n",
    "density estimation)\n",
    "- we can set the `kde` parameter to `False` if we just want the histogram\n",
    "\n",
    "Let's set that option and the option for the number of bins and run the plot again."
   ]
  },
  {
   "cell_type": "code",
   "execution_count": null,
   "metadata": {},
   "outputs": [],
   "source": [
    "# Histogram only, add descriptive titles\n"
   ]
  },
  {
   "cell_type": "markdown",
   "metadata": {},
   "source": [
    "## Continuous data: Box and whiskers plot\n",
    "Boxplots show multiple statistics for a single variable.\n",
    "- minimum\n",
    "- first quartile\n",
    "- median\n",
    "- third quartile\n",
    "- maximum\n",
    "- outliers based on the interquartile range (if applicable)"
   ]
  },
  {
   "cell_type": "code",
   "execution_count": null,
   "metadata": {},
   "outputs": [],
   "source": [
    "# Create a simple box plot - note that y is specified, not x\n"
   ]
  },
  {
   "cell_type": "markdown",
   "metadata": {},
   "source": [
    "# Bivariate data\n",
    "Plots using values of two variables allow us to see a representation of the relationship between the variables.\n",
    "\n",
    "    \n",
    "## Scatterplots\n",
    "A scatterplot is great way to get an idea of what your data looks like when you have two-dimensional data. A basic scatterplot is just a graphic representation of each data point on an x-y grid. We use them to see if there are any obvious patterns in the data.\n",
    "\n",
    "If we want a scatterplot that includes a fitted regression line, we use `lmplot` (or `regplot`)."
   ]
  },
  {
   "cell_type": "code",
   "execution_count": null,
   "metadata": {
    "scrolled": false
   },
   "outputs": [],
   "source": [
    "# Basic scatterplot\n"
   ]
  },
  {
   "cell_type": "markdown",
   "metadata": {},
   "source": [
    "We can add some customization to the scatter plot, like a title and better axis labels.\n",
    "\n",
    "Not every Seaborn plot type allows this, but since we are focusing on exploratory plots it is not a big deal."
   ]
  },
  {
   "cell_type": "code",
   "execution_count": null,
   "metadata": {},
   "outputs": [],
   "source": [
    "# Can add some customization\n"
   ]
  },
  {
   "cell_type": "code",
   "execution_count": null,
   "metadata": {},
   "outputs": [],
   "source": [
    "# A scatterplot with a regression line using lmplot()\n"
   ]
  },
  {
   "cell_type": "markdown",
   "metadata": {},
   "source": [
    "## Pairwise relationships\n",
    "\n",
    "- You can see all the pairwise relationships for all the numeric data in a dataframe using `pairplots()`.\n",
    "- It plots a scatterplot between each pair of variables and a histogram of each variable on the diagonal.\n",
    "- If there are more than a few variables it may take a little while so BE PATIENT!\n",
    "- The top half of the visualization above the diagonal is a mirror image of the bottom half."
   ]
  },
  {
   "cell_type": "code",
   "execution_count": null,
   "metadata": {
    "scrolled": false
   },
   "outputs": [],
   "source": [
    "# Display all the pairwise plots\n"
   ]
  },
  {
   "cell_type": "markdown",
   "metadata": {},
   "source": [
    "# Multivariate data\n",
    "Plotting data with more than two variables is tricky, because there isn’t a template to use for every case.\n",
    "- If we want to add a third variable, like the 'sex' variable in the 'tips' data, one option would be to color the points based on the value of that variable.\n",
    "- If we wanted to add a fourth variable, we could add size to the dots.\n",
    "    - A caveat to using size as a variable is that humans are not very good at differentiating relative size or areas.\n",
    "\n",
    "- There are ways to include more information and distinguish data within the plot based upon additional categorical variables in the dataset.\n",
    "    - multiple plots of univariate data on a single chart (like multiple boxplots)\n",
    "    - color - use the `hue` parameter\n",
    "    - size - use the `size` parameter\n",
    "    - shape - use the `markers` parameter\n",
    "    \n",
    "Remember that size is the **worst** option to use because people have a hard time accurately seeing size differences.\n",
    "\n",
    "## Multiple boxplots"
   ]
  },
  {
   "cell_type": "code",
   "execution_count": null,
   "metadata": {
    "scrolled": true
   },
   "outputs": [],
   "source": [
    "# Multiple box plots\n",
    "# x parameter is categorical to split data for multiple plots in one figure\n"
   ]
  },
  {
   "cell_type": "markdown",
   "metadata": {},
   "source": [
    "## Colors - use `hue`"
   ]
  },
  {
   "cell_type": "code",
   "execution_count": null,
   "metadata": {
    "scrolled": false
   },
   "outputs": [],
   "source": [
    "# make it a multiple bar chart by added the hue parameter\n"
   ]
  },
  {
   "cell_type": "code",
   "execution_count": null,
   "metadata": {},
   "outputs": [],
   "source": [
    "# A simple scatterplot with colors for different time values plus titles\n"
   ]
  },
  {
   "cell_type": "code",
   "execution_count": null,
   "metadata": {
    "scrolled": true
   },
   "outputs": [],
   "source": [
    "# Color used for multiple groups on scatterplot with regression line\n"
   ]
  },
  {
   "cell_type": "code",
   "execution_count": null,
   "metadata": {
    "scrolled": false
   },
   "outputs": [],
   "source": [
    "# Pass a hue value into pairplot\n"
   ]
  },
  {
   "cell_type": "markdown",
   "metadata": {},
   "source": [
    "## Color and size\n",
    "- Sizes of the point markers can be another means to add more information to a plot.\n",
    "- This option should be used sparingly, since the human eye is not very good at comparing areas."
   ]
  },
  {
   "cell_type": "code",
   "execution_count": null,
   "metadata": {
    "scrolled": false
   },
   "outputs": [],
   "source": [
    "# scatter_kws is a dictionary that is passed on to the matplotlib function plt.scatter\n",
    "# access the s parameter to change the size of the points\n",
    "# This example uses the tips['size'] column to provide a relative size value. It is multiplied\n",
    "# by 10 to make the numbers more manageable.\n"
   ]
  },
  {
   "cell_type": "markdown",
   "metadata": {},
   "source": [
    "## Color and shape"
   ]
  },
  {
   "cell_type": "code",
   "execution_count": null,
   "metadata": {},
   "outputs": [],
   "source": [
    "# Use of color and shape to distinguish different values of the variable sex.\n",
    "# The hue option defines the third variable, not just the variable for color.\n",
    "# The markers option changes the shapes of the point markers.\n"
   ]
  },
  {
   "cell_type": "markdown",
   "metadata": {},
   "source": [
    "# Facets and FacetGrids\n",
    "Seaborn uses facets in a facet grid to create a set of graphs from one dataset. We don't specify each individual plot, just the overall parameters, including the variable on which to split the data (the `col` parameter). Seaborn does the rest.\n",
    "\n",
    "- `col` specifies the categorical variable to split across columns\n",
    "- `col_wrap` specifies how many column plots to show on a line before wrapping to the next line."
   ]
  },
  {
   "cell_type": "markdown",
   "metadata": {},
   "source": [
    "## Multiple scatter plots with `col`\n",
    "The `scatterplot()` method can only do one plot at a time. Use `lmplot()` to display multiple plots together using the `col` parameter to specify the variable used to split to separate plots."
   ]
  },
  {
   "cell_type": "code",
   "execution_count": null,
   "metadata": {
    "scrolled": false
   },
   "outputs": [],
   "source": [
    "# Multiple scatter plots with lmplot and col\n",
    "\n"
   ]
  },
  {
   "cell_type": "markdown",
   "metadata": {},
   "source": [
    "Here is a re-creation of the four Anscombe plots we did earlier, but now together in one plot. "
   ]
  },
  {
   "cell_type": "code",
   "execution_count": null,
   "metadata": {
    "scrolled": false
   },
   "outputs": [],
   "source": [
    "# Anscombe plots using seaborn\n",
    "anscombe = sns.load_dataset(\"anscombe\")      # reload the data, just in case\n",
    "ax = sns.lmplot(x='x', y='y', data=anscombe,\n",
    "                          fit_reg=False,\n",
    "                          col='dataset', col_wrap=2)\n"
   ]
  },
  {
   "cell_type": "markdown",
   "metadata": {},
   "source": [
    "The `FacetGrid` can be used to further customize your multi-plot output. The `lmplot` function is a figure-level function so it has `col` and `col_wrap` parameters. Axes level functions like `regplot` don't have those and need to be placed in a portion of the grid using the `FacetGrid` directly. \n",
    "\n",
    "We will not spend any more time on these details because they are typically needed for explanatory visualizations."
   ]
  },
  {
   "cell_type": "markdown",
   "metadata": {},
   "source": [
    "## Scatter plot with `col` and `hue`\n",
    "\n",
    "Use lmplot() in order to access the `hue` and `col` parameters. `hue` specifies the third variable to use to split for the different colors and `col` is the variable used to split to the separate plots."
   ]
  },
  {
   "cell_type": "code",
   "execution_count": null,
   "metadata": {
    "scrolled": true
   },
   "outputs": [],
   "source": [
    "# Scatter plot with hue and col\n",
    "\n"
   ]
  },
  {
   "cell_type": "code",
   "execution_count": null,
   "metadata": {},
   "outputs": [],
   "source": []
  }
 ],
 "metadata": {
  "kernelspec": {
   "display_name": "Python 3",
   "language": "python",
   "name": "python3"
  },
  "language_info": {
   "codemirror_mode": {
    "name": "ipython",
    "version": 3
   },
   "file_extension": ".py",
   "mimetype": "text/x-python",
   "name": "python",
   "nbconvert_exporter": "python",
   "pygments_lexer": "ipython3",
   "version": "3.7.7"
  },
  "toc": {
   "base_numbering": 1,
   "nav_menu": {},
   "number_sections": true,
   "sideBar": true,
   "skip_h1_title": false,
   "title_cell": "Table of Contents",
   "title_sidebar": "Contents",
   "toc_cell": false,
   "toc_position": {
    "height": "calc(100% - 180px)",
    "left": "10px",
    "top": "150px",
    "width": "258.867px"
   },
   "toc_section_display": true,
   "toc_window_display": true
  },
  "varInspector": {
   "cols": {
    "lenName": 16,
    "lenType": 16,
    "lenVar": 40
   },
   "kernels_config": {
    "python": {
     "delete_cmd_postfix": "",
     "delete_cmd_prefix": "del ",
     "library": "var_list.py",
     "varRefreshCmd": "print(var_dic_list())"
    },
    "r": {
     "delete_cmd_postfix": ") ",
     "delete_cmd_prefix": "rm(",
     "library": "var_list.r",
     "varRefreshCmd": "cat(var_dic_list()) "
    }
   },
   "types_to_exclude": [
    "module",
    "function",
    "builtin_function_or_method",
    "instance",
    "_Feature"
   ],
   "window_display": false
  }
 },
 "nbformat": 4,
 "nbformat_minor": 2
}
