{
 "cells": [
  {
   "cell_type": "markdown",
   "metadata": {},
   "source": [
    "# Apply, Part 1 - Functions\n",
    "File(s) needed: business.py (saved in the same folder as your notebook files)\n",
    "\n",
    "We often need to modify or otherwise process data in a way that isn't included in a pandas function or dataframe method. In this case, the `apply()` dataframe method allows us to ... wait for it ... _apply_ custom functions to the rows and/or columns in our data.\n",
    "\n",
    "Groups of related functions can be stored in **modules** we can use later without rewriting the code in our new program. More about modules a little later. But first, we have to be able to write functions. "
   ]
  },
  {
   "cell_type": "markdown",
   "metadata": {},
   "source": [
    "# Writing functions\n",
    "There are two kinds of functions. Each is helpful when used in the right place.\n",
    "\n",
    "- A **_void function_** executes its statements when called and then terminates. Some languages call this a _procedure_ or _subroutine_.\n",
    "- A **_value-returning function_** executes its statements and returns a value back to the statement that called it.\n",
    "\n",
    "General rules for Python functions are:\n",
    "- Functions are named using descriptive verbs and the same rules as variable names. \n",
    "- The definition of a function has to come before the function is used if they are in the same file.\n",
    "- Functions are defined using the `def` keyword, a colon, and indentation.\n",
    "\n",
    "We will take a quick look at a void function, but in the context of data analysis we are typically more interested in functions that return a value.\n",
    "\n",
    "## Void functions\n",
    "This is the general format for defining a void function.\n",
    "```\n",
    "def function_name():\n",
    "\tstatement\n",
    "\tstatement\n",
    "\tetc.\n",
    "```\n",
    "Remember that indentation and white space are very important in Python.\n",
    "\n",
    "To use a function we have to **call** it. When the function code has finished executing, control returns to the line of code following the calling statement."
   ]
  },
  {
   "cell_type": "code",
   "execution_count": 1,
   "metadata": {},
   "outputs": [
    {
     "name": "stdout",
     "output_type": "stream",
     "text": [
      "Press Enter to continue...\n",
      "\n",
      "Display a line of text.\n",
      "Well... two lines of text.\n",
      "\n",
      "Back to the main code\n",
      "1242.3\n"
     ]
    }
   ],
   "source": [
    "# Example: simple void function definition and call\n",
    "def show_me():\n",
    "    print('\\nDisplay a line of text.')\n",
    "    print('Well... two lines of text.\\n')\n",
    "\n",
    "# main program\n",
    "input('Press Enter to continue...')\n",
    "show_me()                        # this is the function call\n",
    "print('Back to the main code')\n",
    "total = 1200.3 + 42\n",
    "print(total)"
   ]
  },
  {
   "cell_type": "markdown",
   "metadata": {},
   "source": [
    "## Value-returning functions\n",
    "When working with data, we usually want to use a function to perform a calculation and give us the result. **_Value-returning_** functions allow us to do that. Many of the tasks and calculations we can perform with Python are done through the use of value-returning functions from _outside_ the code we write. Some functions, like `input()`, are part of Python. Other functions can be written in our code or brought into it from a separate **_module_**. For example, we have used the `read_csv()` function in the `pandas` module many times already.\n",
    "\n",
    "Creating a value-returning function is similar to creating a void function but with the addition of\n",
    "- the `return` statement (usually at the end of the function) which designates the value(s) to be returned to the calling statement, and\n",
    "- a variable in the calling statement that will store the returned value. The call of a value-returning function has to be on the right side of an assignment statement, so you need a variable name on the left side to store the returned value for future use.\n",
    "\n",
    "The value returned from a function can be any valid type. We may think of numbers most of the time, but it can also be other types, like a string or Boolean value.\n",
    "\n",
    "## Passing arguments to functions\n",
    "An **argument** is a value passed into a function. A **parameter** is the variable that receives the passed value. Arguments are passed _**by position**_ to parameters, not by name. The parameter is a variable inside the function (with local scope) that can be used inside the function's code. In Python, the value stored in the argument variable is copied to be stored in the parameter variable. This is called _passing by value_. Some languages also allow passing by reference, but it is a dangerous practice and avoided in Python.\n",
    "\n",
    "## Variable scope\n",
    "One aspect of variable use we have not yet covered is **_variable scope_**. We define the scope of a variable as the part(s) of the code in which the variable can be used. \n",
    "- A **local** variable is only valid in the code block where it appears.\n",
    "- A **global** variable is valid everywhere in the larger block of code, like an entire function or even the entire program. It requires the use of the keyword `global`\n",
    "\n",
    "Global variables should be used as little as possible. Beginning programmers like to use them as a shortcut instead of passing arguments between functions. That is a terrible practice. \n",
    "\n",
    "Here is another rule for you. Remember this when you want to use a global variable:\n",
    "\n",
    "<p style=\"text-align:center;\"><b><i>A global variable is like UCA's grade forgiveness policy. You only want to use it if you have no other choice.</b></i></p>\n",
    "\n",
    "Named constants have local and global scope, too. It is much more acceptable to use global constants but they should still be avoided if possible.\n",
    "\n",
    "---\n",
    "\n",
    "## Examples\n",
    "Let's write a simple function to convert inches to centimeters as an example."
   ]
  },
  {
   "cell_type": "code",
   "execution_count": 9,
   "metadata": {},
   "outputs": [
    {
     "name": "stdout",
     "output_type": "stream",
     "text": [
      "How many inches?: 10\n",
      "10.0 inches=25.4 cm\n"
     ]
    }
   ],
   "source": [
    "# function to convert inches to centimeters\n",
    "def inch2cm(inches):\n",
    "    cm= round(inches*2.54,2)\n",
    "    return cm\n",
    "# get the value to convert\n",
    "inches_in=float(input(\"How many inches?: \"))\n",
    "cm_result=inch2cm(inches_in)\n",
    "print(f\"{inches_in} inches={cm_result} cm\")"
   ]
  },
  {
   "cell_type": "markdown",
   "metadata": {},
   "source": [
    "As another example, let's look at a simple breakeven program and convert it to a function. Use fixed cost = 100, variable cost per unit = 4, selling price per unit = 6 as test data. Our BE point should be 50.\n"
   ]
  },
  {
   "cell_type": "code",
   "execution_count": 10,
   "metadata": {},
   "outputs": [
    {
     "name": "stdout",
     "output_type": "stream",
     "text": [
      "Enter the total fixed cost (in dollars): 100\n",
      "Enter the variable cost per unit (in dollars): 1\n",
      "Enter the selling price per unit (in dollars): 1\n"
     ]
    },
    {
     "ename": "ZeroDivisionError",
     "evalue": "float division by zero",
     "output_type": "error",
     "traceback": [
      "\u001b[1;31m---------------------------------------------------------------------------\u001b[0m",
      "\u001b[1;31mZeroDivisionError\u001b[0m                         Traceback (most recent call last)",
      "\u001b[1;32m<ipython-input-10-3d49aff88d79>\u001b[0m in \u001b[0;36m<module>\u001b[1;34m\u001b[0m\n\u001b[0;32m      9\u001b[0m \u001b[1;33m\u001b[0m\u001b[0m\n\u001b[0;32m     10\u001b[0m \u001b[1;31m# calculate the breakeven point\u001b[0m\u001b[1;33m\u001b[0m\u001b[1;33m\u001b[0m\u001b[1;33m\u001b[0m\u001b[0m\n\u001b[1;32m---> 11\u001b[1;33m \u001b[0mbreakeven_units\u001b[0m \u001b[1;33m=\u001b[0m \u001b[0mmath\u001b[0m\u001b[1;33m.\u001b[0m\u001b[0mceil\u001b[0m\u001b[1;33m(\u001b[0m\u001b[0mfixed_cost\u001b[0m\u001b[1;33m/\u001b[0m\u001b[1;33m(\u001b[0m\u001b[0mselling_price\u001b[0m\u001b[1;33m-\u001b[0m\u001b[0mvariable_cost\u001b[0m\u001b[1;33m)\u001b[0m\u001b[1;33m)\u001b[0m\u001b[1;33m\u001b[0m\u001b[1;33m\u001b[0m\u001b[0m\n\u001b[0m\u001b[0;32m     12\u001b[0m \u001b[1;33m\u001b[0m\u001b[0m\n\u001b[0;32m     13\u001b[0m \u001b[1;31m# Display the result to the screen\u001b[0m\u001b[1;33m\u001b[0m\u001b[1;33m\u001b[0m\u001b[1;33m\u001b[0m\u001b[0m\n",
      "\u001b[1;31mZeroDivisionError\u001b[0m: float division by zero"
     ]
    }
   ],
   "source": [
    "# Starting point - simple breakeven calculation\n",
    "# Use the ceil function in the math module to get a whole number result\n",
    "import math\n",
    "\n",
    "# Get user input\n",
    "fixed_cost = float(input(\"Enter the total fixed cost (in dollars): \"))\n",
    "variable_cost = float(input(\"Enter the variable cost per unit (in dollars): \"))\n",
    "selling_price = float(input(\"Enter the selling price per unit (in dollars): \"))\n",
    "\n",
    "# calculate the breakeven point\n",
    "breakeven_units = math.ceil(fixed_cost/(selling_price-variable_cost))\n",
    "\n",
    "# Display the result to the screen\n",
    "print(f\"\\nThe breakeven point is at {breakeven_units} units.\")"
   ]
  },
  {
   "cell_type": "code",
   "execution_count": 16,
   "metadata": {},
   "outputs": [],
   "source": [
    "# Convert the breakeven calculation to a separate function\n",
    "# Create the parameters for the data needed in the calculation\n",
    "# Return the result\n",
    "def b_e(fixed,variable,sell):\n",
    "    import math\n",
    "    be=math.ceil(fixed/(sell-variable))\n",
    "    return be"
   ]
  },
  {
   "cell_type": "code",
   "execution_count": 21,
   "metadata": {
    "scrolled": true
   },
   "outputs": [
    {
     "name": "stdout",
     "output_type": "stream",
     "text": [
      "Enter the total fixed cost (in dollars): 1\n",
      "Enter the variable cost per unit (in dollars): 2\n",
      "Enter the selling price per unit (in dollars): 3\n",
      "\n",
      "The breakeven point is at 1.0 units.\n"
     ]
    }
   ],
   "source": [
    "fixed_cost = float(input(\"Enter the total fixed cost (in dollars): \"))\n",
    "variable_cost = float(input(\"Enter the variable cost per unit (in dollars): \"))\n",
    "selling_price = float(input(\"Enter the selling price per unit (in dollars): \"))\n",
    "breakeven_units=b_e(fixed_cost,variable_cost,selling_price)\n",
    "print(f\"\\nThe breakeven point is at {breakeven_units} units.\")"
   ]
  },
  {
   "cell_type": "markdown",
   "metadata": {},
   "source": [
    "# Practice - creating a function\n",
    "A solution is provided at the bottom of the notebook.\n",
    "\n",
    "Write a function that accepts a float value for temperature in degrees Celsius and returns the Farenheit value. The equation to convert is \n",
    "```\n",
    "degrees F = (degrees C * 1.8) + 32\n",
    "```\n",
    "\n",
    "Use your function by asking for a Celsius value and displaying the correct Farenheit value.\n",
    "\n",
    "A rule of thumb for travelers is handy for testing your program: 28C is approximately 82F. And of course 100C = 212F; 0C = 32F.\n",
    "\n",
    "---"
   ]
  },
  {
   "cell_type": "code",
   "execution_count": null,
   "metadata": {},
   "outputs": [],
   "source": [
    "# convert Celsius to Farenheit\n"
   ]
  },
  {
   "cell_type": "markdown",
   "metadata": {},
   "source": [
    "# Modules\n",
    "We already have experience using modules (or libraries). Pandas is an external module, after all. But you can also create your own modules to hold specialized functionality that you use regularly. \n",
    "\n",
    "Creating a simple module:\n",
    "- Store your functions in a Python code file (.py).\n",
    "\n",
    "Using a module:\n",
    "- Use the `import` command to access the module.\n",
    "- Use dot notation to use the functions in the module.\n",
    "\n",
    "The file `business.py` contains a few functions we can use as an example. Look at the contents of the file, then we will complete an example using a couple of those functions."
   ]
  },
  {
   "cell_type": "code",
   "execution_count": 23,
   "metadata": {},
   "outputs": [],
   "source": [
    "# import the business module and use the breakeven function\n",
    "import business as biz"
   ]
  },
  {
   "cell_type": "code",
   "execution_count": 24,
   "metadata": {},
   "outputs": [
    {
     "name": "stdout",
     "output_type": "stream",
     "text": [
      "Enter the total fixed cost (in dollars): 12\n",
      "Enter the variable cost per unit (in dollars): 3\n",
      "Enter the selling price per unit (in dollars): 3\n"
     ]
    },
    {
     "ename": "ZeroDivisionError",
     "evalue": "float division by zero",
     "output_type": "error",
     "traceback": [
      "\u001b[1;31m---------------------------------------------------------------------------\u001b[0m",
      "\u001b[1;31mZeroDivisionError\u001b[0m                         Traceback (most recent call last)",
      "\u001b[1;32m<ipython-input-24-7ec8090dc5cf>\u001b[0m in \u001b[0;36m<module>\u001b[1;34m\u001b[0m\n\u001b[0;32m      2\u001b[0m \u001b[0mvariable_cost\u001b[0m \u001b[1;33m=\u001b[0m \u001b[0mfloat\u001b[0m\u001b[1;33m(\u001b[0m\u001b[0minput\u001b[0m\u001b[1;33m(\u001b[0m\u001b[1;34m\"Enter the variable cost per unit (in dollars): \"\u001b[0m\u001b[1;33m)\u001b[0m\u001b[1;33m)\u001b[0m\u001b[1;33m\u001b[0m\u001b[1;33m\u001b[0m\u001b[0m\n\u001b[0;32m      3\u001b[0m \u001b[0mselling_price\u001b[0m \u001b[1;33m=\u001b[0m \u001b[0mfloat\u001b[0m\u001b[1;33m(\u001b[0m\u001b[0minput\u001b[0m\u001b[1;33m(\u001b[0m\u001b[1;34m\"Enter the selling price per unit (in dollars): \"\u001b[0m\u001b[1;33m)\u001b[0m\u001b[1;33m)\u001b[0m\u001b[1;33m\u001b[0m\u001b[1;33m\u001b[0m\u001b[0m\n\u001b[1;32m----> 4\u001b[1;33m \u001b[0mbreakeven_units\u001b[0m\u001b[1;33m=\u001b[0m\u001b[0mbiz\u001b[0m\u001b[1;33m.\u001b[0m\u001b[0mbreakeven\u001b[0m\u001b[1;33m(\u001b[0m\u001b[0mfixed_cost\u001b[0m\u001b[1;33m,\u001b[0m\u001b[0mvariable_cost\u001b[0m\u001b[1;33m,\u001b[0m\u001b[0mselling_price\u001b[0m\u001b[1;33m)\u001b[0m\u001b[1;33m\u001b[0m\u001b[1;33m\u001b[0m\u001b[0m\n\u001b[0m\u001b[0;32m      5\u001b[0m \u001b[0mprint\u001b[0m\u001b[1;33m(\u001b[0m\u001b[1;34mf\"\\nThe breakeven point is at {breakeven_units} units.\"\u001b[0m\u001b[1;33m)\u001b[0m\u001b[1;33m\u001b[0m\u001b[1;33m\u001b[0m\u001b[0m\n",
      "\u001b[1;32m~\\OneDrive\\桌面\\MIS-3335\\business.py\u001b[0m in \u001b[0;36mbreakeven\u001b[1;34m(fixed, variable, sell)\u001b[0m\n\u001b[0;32m      7\u001b[0m     '''\n\u001b[0;32m      8\u001b[0m     \u001b[1;31m# calculate the breakeven point\u001b[0m\u001b[1;33m\u001b[0m\u001b[1;33m\u001b[0m\u001b[1;33m\u001b[0m\u001b[0m\n\u001b[1;32m----> 9\u001b[1;33m     \u001b[0munits\u001b[0m \u001b[1;33m=\u001b[0m \u001b[0mmath\u001b[0m\u001b[1;33m.\u001b[0m\u001b[0mceil\u001b[0m\u001b[1;33m(\u001b[0m\u001b[0mfixed\u001b[0m\u001b[1;33m/\u001b[0m\u001b[1;33m(\u001b[0m\u001b[0msell\u001b[0m\u001b[1;33m-\u001b[0m\u001b[0mvariable\u001b[0m\u001b[1;33m)\u001b[0m\u001b[1;33m)\u001b[0m  \u001b[1;31m#breakeven formula\u001b[0m\u001b[1;33m\u001b[0m\u001b[1;33m\u001b[0m\u001b[0m\n\u001b[0m\u001b[0;32m     10\u001b[0m     \u001b[1;32mreturn\u001b[0m \u001b[0munits\u001b[0m\u001b[1;33m\u001b[0m\u001b[1;33m\u001b[0m\u001b[0m\n\u001b[0;32m     11\u001b[0m \u001b[1;33m\u001b[0m\u001b[0m\n",
      "\u001b[1;31mZeroDivisionError\u001b[0m: float division by zero"
     ]
    }
   ],
   "source": [
    "fixed_cost = float(input(\"Enter the total fixed cost (in dollars): \"))\n",
    "variable_cost = float(input(\"Enter the variable cost per unit (in dollars): \"))\n",
    "selling_price = float(input(\"Enter the selling price per unit (in dollars): \"))\n",
    "breakeven_units=biz.breakeven(fixed_cost,variable_cost,selling_price)\n",
    "print(f\"\\nThe breakeven point is at {breakeven_units} units.\")"
   ]
  },
  {
   "cell_type": "code",
   "execution_count": 26,
   "metadata": {},
   "outputs": [
    {
     "name": "stdout",
     "output_type": "stream",
     "text": [
      "10.98\n"
     ]
    }
   ],
   "source": [
    "# calculate the sales tax due in Conway\n",
    "total_sale=125.43\n",
    "tax_amount=round(biz.sales_tax(total_sale),2)\n",
    "print(tax_amount)"
   ]
  },
  {
   "cell_type": "code",
   "execution_count": 27,
   "metadata": {},
   "outputs": [],
   "source": [
    "biz.breakeven??"
   ]
  },
  {
   "cell_type": "markdown",
   "metadata": {},
   "source": [
    "---\n",
    "\n",
    "# STOP HERE - spoilers below"
   ]
  },
  {
   "cell_type": "code",
   "execution_count": null,
   "metadata": {},
   "outputs": [],
   "source": [
    "# Temperature conversion function\n",
    "def temp_conv(temp_C):\n",
    "    temp_F = (temp_C * 1.8) + 32\n",
    "    return temp_F"
   ]
  },
  {
   "cell_type": "code",
   "execution_count": null,
   "metadata": {},
   "outputs": [],
   "source": [
    "# Ask the user for a value in Celsius\n",
    "celsius = float(input('Enter the temperature in degrees Celsius: '))\n",
    "\n",
    "# Call the function\n",
    "result = temp_conv(celsius)\n",
    "\n",
    "# Display the result\n",
    "print(f'A temperature of {celsius} degrees C is equal to {result:.1f} degrees F.')"
   ]
  }
 ],
 "metadata": {
  "hide_input": false,
  "kernelspec": {
   "display_name": "Python 3",
   "language": "python",
   "name": "python3"
  },
  "language_info": {
   "codemirror_mode": {
    "name": "ipython",
    "version": 3
   },
   "file_extension": ".py",
   "mimetype": "text/x-python",
   "name": "python",
   "nbconvert_exporter": "python",
   "pygments_lexer": "ipython3",
   "version": "3.7.7"
  },
  "toc": {
   "base_numbering": 1,
   "nav_menu": {},
   "number_sections": true,
   "sideBar": true,
   "skip_h1_title": false,
   "title_cell": "Table of Contents",
   "title_sidebar": "Contents",
   "toc_cell": false,
   "toc_position": {},
   "toc_section_display": true,
   "toc_window_display": false
  },
  "varInspector": {
   "cols": {
    "lenName": 16,
    "lenType": 16,
    "lenVar": 40
   },
   "kernels_config": {
    "python": {
     "delete_cmd_postfix": "",
     "delete_cmd_prefix": "del ",
     "library": "var_list.py",
     "varRefreshCmd": "print(var_dic_list())"
    },
    "r": {
     "delete_cmd_postfix": ") ",
     "delete_cmd_prefix": "rm(",
     "library": "var_list.r",
     "varRefreshCmd": "cat(var_dic_list()) "
    }
   },
   "types_to_exclude": [
    "module",
    "function",
    "builtin_function_or_method",
    "instance",
    "_Feature"
   ],
   "window_display": false
  }
 },
 "nbformat": 4,
 "nbformat_minor": 4
}
